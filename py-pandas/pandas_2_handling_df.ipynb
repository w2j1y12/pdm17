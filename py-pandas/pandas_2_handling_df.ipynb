{
  "nbformat": 4,
  "nbformat_minor": 0,
  "metadata": {
    "kernelspec": {
      "name": "python3",
      "display_name": "Python 3"
    },
    "language_info": {
      "codemirror_mode": {
        "name": "ipython",
        "version": 3
      },
      "file_extension": ".py",
      "mimetype": "text/x-python",
      "name": "python",
      "nbconvert_exporter": "python",
      "pygments_lexer": "ipython3",
      "version": "3.6.6"
    },
    "colab": {
      "name": "pandas_2_handling_df.ipynb",
      "provenance": [],
      "collapsed_sections": [],
      "include_colab_link": true
    }
  },
  "cells": [
    {
      "cell_type": "markdown",
      "metadata": {
        "id": "view-in-github",
        "colab_type": "text"
      },
      "source": [
        "<a href=\"https://colab.research.google.com/github/w2j1y12/pdm17/blob/main/py-pandas/pandas_2_handling_df.ipynb\" target=\"_parent\"><img src=\"https://colab.research.google.com/assets/colab-badge.svg\" alt=\"Open In Colab\"/></a>"
      ]
    },
    {
      "cell_type": "markdown",
      "metadata": {
        "id": "-a_Ksvwdx5pf"
      },
      "source": [
        "### Python module 3. **pandas**"
      ]
    },
    {
      "cell_type": "markdown",
      "metadata": {
        "id": "P_F0RSPKx5pl"
      },
      "source": [
        "# Using pandas"
      ]
    },
    {
      "cell_type": "markdown",
      "metadata": {
        "id": "FfxMgWUFx5pm"
      },
      "source": [
        "* [10 Minutes to pandas](https://pandas.pydata.org/pandas-docs/stable/10min.html)\n",
        "* [Pandas tutorial with interactive exercises](https://www.kaggle.com/pistak/pandas-tutorial-with-interactive-exercises)"
      ]
    },
    {
      "cell_type": "code",
      "metadata": {
        "id": "2mpGSeRlx5po"
      },
      "source": [
        "import pandas as pd\n",
        "import numpy as np\n",
        "import matplotlib.pyplot as plt\n",
        "# %matplotlib inline  # work for Jupyter notebook or lab"
      ],
      "execution_count": 1,
      "outputs": []
    },
    {
      "cell_type": "markdown",
      "metadata": {
        "id": "wq1nIp3F1fFB"
      },
      "source": [
        "\n",
        "\n",
        "---\n",
        "\n"
      ]
    },
    {
      "cell_type": "markdown",
      "metadata": {
        "id": "D3zoFQ4bx5qh"
      },
      "source": [
        "## [2] Handling DataFrame\n",
        "- head()\n",
        "- tail()\n",
        "- describe()\n",
        "- info()"
      ]
    },
    {
      "cell_type": "code",
      "metadata": {
        "id": "w2eNkCfLx5p-",
        "colab": {
          "base_uri": "https://localhost:8080/"
        },
        "outputId": "56ab0099-477b-4185-8f59-1249083dd40f"
      },
      "source": [
        "# Creating a DataFrame by passing a NumPy array, with a datetime index and labeled columns:\n",
        "dates = pd.date_range('20210927', periods=6)\n",
        "dates"
      ],
      "execution_count": 2,
      "outputs": [
        {
          "output_type": "execute_result",
          "data": {
            "text/plain": [
              "DatetimeIndex(['2021-09-27', '2021-09-28', '2021-09-29', '2021-09-30',\n",
              "               '2021-10-01', '2021-10-02'],\n",
              "              dtype='datetime64[ns]', freq='D')"
            ]
          },
          "metadata": {},
          "execution_count": 2
        }
      ]
    },
    {
      "cell_type": "code",
      "metadata": {
        "id": "dHwUodTGx5qj",
        "colab": {
          "base_uri": "https://localhost:8080/",
          "height": 202
        },
        "outputId": "b28936ac-ea18-4c28-d27c-85fcc6c0aca7"
      },
      "source": [
        "# head()\n",
        "df = pd.DataFrame(np.random.randn(6,4), index=dates, columns=list('ABCD'))\n",
        "df.head() # 상단 행만 출력\n",
        "# default = 5"
      ],
      "execution_count": 3,
      "outputs": [
        {
          "output_type": "execute_result",
          "data": {
            "text/html": [
              "<div>\n",
              "<style scoped>\n",
              "    .dataframe tbody tr th:only-of-type {\n",
              "        vertical-align: middle;\n",
              "    }\n",
              "\n",
              "    .dataframe tbody tr th {\n",
              "        vertical-align: top;\n",
              "    }\n",
              "\n",
              "    .dataframe thead th {\n",
              "        text-align: right;\n",
              "    }\n",
              "</style>\n",
              "<table border=\"1\" class=\"dataframe\">\n",
              "  <thead>\n",
              "    <tr style=\"text-align: right;\">\n",
              "      <th></th>\n",
              "      <th>A</th>\n",
              "      <th>B</th>\n",
              "      <th>C</th>\n",
              "      <th>D</th>\n",
              "    </tr>\n",
              "  </thead>\n",
              "  <tbody>\n",
              "    <tr>\n",
              "      <th>2021-09-27</th>\n",
              "      <td>2.591463</td>\n",
              "      <td>-0.102097</td>\n",
              "      <td>-0.067833</td>\n",
              "      <td>1.150965</td>\n",
              "    </tr>\n",
              "    <tr>\n",
              "      <th>2021-09-28</th>\n",
              "      <td>-1.675110</td>\n",
              "      <td>0.388832</td>\n",
              "      <td>-0.308227</td>\n",
              "      <td>-0.344339</td>\n",
              "    </tr>\n",
              "    <tr>\n",
              "      <th>2021-09-29</th>\n",
              "      <td>0.025641</td>\n",
              "      <td>0.028679</td>\n",
              "      <td>-1.232947</td>\n",
              "      <td>1.115328</td>\n",
              "    </tr>\n",
              "    <tr>\n",
              "      <th>2021-09-30</th>\n",
              "      <td>-1.030891</td>\n",
              "      <td>0.159446</td>\n",
              "      <td>-0.579179</td>\n",
              "      <td>0.091787</td>\n",
              "    </tr>\n",
              "    <tr>\n",
              "      <th>2021-10-01</th>\n",
              "      <td>0.116545</td>\n",
              "      <td>1.490358</td>\n",
              "      <td>0.195080</td>\n",
              "      <td>-0.707048</td>\n",
              "    </tr>\n",
              "  </tbody>\n",
              "</table>\n",
              "</div>"
            ],
            "text/plain": [
              "                   A         B         C         D\n",
              "2021-09-27  2.591463 -0.102097 -0.067833  1.150965\n",
              "2021-09-28 -1.675110  0.388832 -0.308227 -0.344339\n",
              "2021-09-29  0.025641  0.028679 -1.232947  1.115328\n",
              "2021-09-30 -1.030891  0.159446 -0.579179  0.091787\n",
              "2021-10-01  0.116545  1.490358  0.195080 -0.707048"
            ]
          },
          "metadata": {},
          "execution_count": 3
        }
      ]
    },
    {
      "cell_type": "code",
      "metadata": {
        "id": "OvYDoBVE1og9",
        "colab": {
          "base_uri": "https://localhost:8080/",
          "height": 110
        },
        "outputId": "0d2bd83c-5b90-4959-ff7a-d125147396c4"
      },
      "source": [
        "df.head(2)"
      ],
      "execution_count": 4,
      "outputs": [
        {
          "output_type": "execute_result",
          "data": {
            "text/html": [
              "<div>\n",
              "<style scoped>\n",
              "    .dataframe tbody tr th:only-of-type {\n",
              "        vertical-align: middle;\n",
              "    }\n",
              "\n",
              "    .dataframe tbody tr th {\n",
              "        vertical-align: top;\n",
              "    }\n",
              "\n",
              "    .dataframe thead th {\n",
              "        text-align: right;\n",
              "    }\n",
              "</style>\n",
              "<table border=\"1\" class=\"dataframe\">\n",
              "  <thead>\n",
              "    <tr style=\"text-align: right;\">\n",
              "      <th></th>\n",
              "      <th>A</th>\n",
              "      <th>B</th>\n",
              "      <th>C</th>\n",
              "      <th>D</th>\n",
              "    </tr>\n",
              "  </thead>\n",
              "  <tbody>\n",
              "    <tr>\n",
              "      <th>2021-09-27</th>\n",
              "      <td>2.591463</td>\n",
              "      <td>-0.102097</td>\n",
              "      <td>-0.067833</td>\n",
              "      <td>1.150965</td>\n",
              "    </tr>\n",
              "    <tr>\n",
              "      <th>2021-09-28</th>\n",
              "      <td>-1.675110</td>\n",
              "      <td>0.388832</td>\n",
              "      <td>-0.308227</td>\n",
              "      <td>-0.344339</td>\n",
              "    </tr>\n",
              "  </tbody>\n",
              "</table>\n",
              "</div>"
            ],
            "text/plain": [
              "                   A         B         C         D\n",
              "2021-09-27  2.591463 -0.102097 -0.067833  1.150965\n",
              "2021-09-28 -1.675110  0.388832 -0.308227 -0.344339"
            ]
          },
          "metadata": {},
          "execution_count": 4
        }
      ]
    },
    {
      "cell_type": "code",
      "metadata": {
        "id": "LzWwuDWDx5qo",
        "colab": {
          "base_uri": "https://localhost:8080/",
          "height": 141
        },
        "outputId": "2f195665-f3ca-465d-d7d0-3d03faffd80e"
      },
      "source": [
        "df.tail(3) # 아래부분"
      ],
      "execution_count": 5,
      "outputs": [
        {
          "output_type": "execute_result",
          "data": {
            "text/html": [
              "<div>\n",
              "<style scoped>\n",
              "    .dataframe tbody tr th:only-of-type {\n",
              "        vertical-align: middle;\n",
              "    }\n",
              "\n",
              "    .dataframe tbody tr th {\n",
              "        vertical-align: top;\n",
              "    }\n",
              "\n",
              "    .dataframe thead th {\n",
              "        text-align: right;\n",
              "    }\n",
              "</style>\n",
              "<table border=\"1\" class=\"dataframe\">\n",
              "  <thead>\n",
              "    <tr style=\"text-align: right;\">\n",
              "      <th></th>\n",
              "      <th>A</th>\n",
              "      <th>B</th>\n",
              "      <th>C</th>\n",
              "      <th>D</th>\n",
              "    </tr>\n",
              "  </thead>\n",
              "  <tbody>\n",
              "    <tr>\n",
              "      <th>2021-09-30</th>\n",
              "      <td>-1.030891</td>\n",
              "      <td>0.159446</td>\n",
              "      <td>-0.579179</td>\n",
              "      <td>0.091787</td>\n",
              "    </tr>\n",
              "    <tr>\n",
              "      <th>2021-10-01</th>\n",
              "      <td>0.116545</td>\n",
              "      <td>1.490358</td>\n",
              "      <td>0.195080</td>\n",
              "      <td>-0.707048</td>\n",
              "    </tr>\n",
              "    <tr>\n",
              "      <th>2021-10-02</th>\n",
              "      <td>0.299010</td>\n",
              "      <td>0.581867</td>\n",
              "      <td>0.671018</td>\n",
              "      <td>1.134164</td>\n",
              "    </tr>\n",
              "  </tbody>\n",
              "</table>\n",
              "</div>"
            ],
            "text/plain": [
              "                   A         B         C         D\n",
              "2021-09-30 -1.030891  0.159446 -0.579179  0.091787\n",
              "2021-10-01  0.116545  1.490358  0.195080 -0.707048\n",
              "2021-10-02  0.299010  0.581867  0.671018  1.134164"
            ]
          },
          "metadata": {},
          "execution_count": 5
        }
      ]
    },
    {
      "cell_type": "code",
      "metadata": {
        "id": "rJLH024Zx5qs",
        "colab": {
          "base_uri": "https://localhost:8080/"
        },
        "outputId": "fe6a0e88-c46f-4499-dc4d-539df001c895"
      },
      "source": [
        "# Display the index, columns, and the underlying NumPy data:\n",
        "df.index"
      ],
      "execution_count": 6,
      "outputs": [
        {
          "output_type": "execute_result",
          "data": {
            "text/plain": [
              "DatetimeIndex(['2021-09-27', '2021-09-28', '2021-09-29', '2021-09-30',\n",
              "               '2021-10-01', '2021-10-02'],\n",
              "              dtype='datetime64[ns]', freq='D')"
            ]
          },
          "metadata": {},
          "execution_count": 6
        }
      ]
    },
    {
      "cell_type": "code",
      "metadata": {
        "id": "edrGpQlLc0dt",
        "colab": {
          "base_uri": "https://localhost:8080/"
        },
        "outputId": "1bd99bb7-4805-4e50-b314-d75f83272cb9"
      },
      "source": [
        "df.columns"
      ],
      "execution_count": 7,
      "outputs": [
        {
          "output_type": "execute_result",
          "data": {
            "text/plain": [
              "Index(['A', 'B', 'C', 'D'], dtype='object')"
            ]
          },
          "metadata": {},
          "execution_count": 7
        }
      ]
    },
    {
      "cell_type": "code",
      "metadata": {
        "id": "TB-CHW85x5rA",
        "colab": {
          "base_uri": "https://localhost:8080/"
        },
        "outputId": "cc3dbc3e-8e9f-442c-9910-a018d3e91052"
      },
      "source": [
        "df.info()\n",
        "# 데이터 프레임은 4개의 변수로, columns은  Non-Null = 값이 다 있는 것(0도 값임)"
      ],
      "execution_count": 8,
      "outputs": [
        {
          "output_type": "stream",
          "name": "stdout",
          "text": [
            "<class 'pandas.core.frame.DataFrame'>\n",
            "DatetimeIndex: 6 entries, 2021-09-27 to 2021-10-02\n",
            "Freq: D\n",
            "Data columns (total 4 columns):\n",
            " #   Column  Non-Null Count  Dtype  \n",
            "---  ------  --------------  -----  \n",
            " 0   A       6 non-null      float64\n",
            " 1   B       6 non-null      float64\n",
            " 2   C       6 non-null      float64\n",
            " 3   D       6 non-null      float64\n",
            "dtypes: float64(4)\n",
            "memory usage: 240.0 bytes\n"
          ]
        }
      ]
    },
    {
      "cell_type": "code",
      "metadata": {
        "id": "PEzVmjUAx5q7",
        "colab": {
          "base_uri": "https://localhost:8080/",
          "height": 294
        },
        "outputId": "5d9e0a76-0754-4845-cd2c-a6568793fe3a"
      },
      "source": [
        "# describe() shows a quick statistic summary of your data:\n",
        "df.describe()"
      ],
      "execution_count": 9,
      "outputs": [
        {
          "output_type": "execute_result",
          "data": {
            "text/html": [
              "<div>\n",
              "<style scoped>\n",
              "    .dataframe tbody tr th:only-of-type {\n",
              "        vertical-align: middle;\n",
              "    }\n",
              "\n",
              "    .dataframe tbody tr th {\n",
              "        vertical-align: top;\n",
              "    }\n",
              "\n",
              "    .dataframe thead th {\n",
              "        text-align: right;\n",
              "    }\n",
              "</style>\n",
              "<table border=\"1\" class=\"dataframe\">\n",
              "  <thead>\n",
              "    <tr style=\"text-align: right;\">\n",
              "      <th></th>\n",
              "      <th>A</th>\n",
              "      <th>B</th>\n",
              "      <th>C</th>\n",
              "      <th>D</th>\n",
              "    </tr>\n",
              "  </thead>\n",
              "  <tbody>\n",
              "    <tr>\n",
              "      <th>count</th>\n",
              "      <td>6.000000</td>\n",
              "      <td>6.000000</td>\n",
              "      <td>6.000000</td>\n",
              "      <td>6.000000</td>\n",
              "    </tr>\n",
              "    <tr>\n",
              "      <th>mean</th>\n",
              "      <td>0.054443</td>\n",
              "      <td>0.424514</td>\n",
              "      <td>-0.220348</td>\n",
              "      <td>0.406810</td>\n",
              "    </tr>\n",
              "    <tr>\n",
              "      <th>std</th>\n",
              "      <td>1.460840</td>\n",
              "      <td>0.577291</td>\n",
              "      <td>0.656082</td>\n",
              "      <td>0.835339</td>\n",
              "    </tr>\n",
              "    <tr>\n",
              "      <th>min</th>\n",
              "      <td>-1.675110</td>\n",
              "      <td>-0.102097</td>\n",
              "      <td>-1.232947</td>\n",
              "      <td>-0.707048</td>\n",
              "    </tr>\n",
              "    <tr>\n",
              "      <th>25%</th>\n",
              "      <td>-0.766758</td>\n",
              "      <td>0.061371</td>\n",
              "      <td>-0.511441</td>\n",
              "      <td>-0.235308</td>\n",
              "    </tr>\n",
              "    <tr>\n",
              "      <th>50%</th>\n",
              "      <td>0.071093</td>\n",
              "      <td>0.274139</td>\n",
              "      <td>-0.188030</td>\n",
              "      <td>0.603558</td>\n",
              "    </tr>\n",
              "    <tr>\n",
              "      <th>75%</th>\n",
              "      <td>0.253394</td>\n",
              "      <td>0.533609</td>\n",
              "      <td>0.129352</td>\n",
              "      <td>1.129455</td>\n",
              "    </tr>\n",
              "    <tr>\n",
              "      <th>max</th>\n",
              "      <td>2.591463</td>\n",
              "      <td>1.490358</td>\n",
              "      <td>0.671018</td>\n",
              "      <td>1.150965</td>\n",
              "    </tr>\n",
              "  </tbody>\n",
              "</table>\n",
              "</div>"
            ],
            "text/plain": [
              "              A         B         C         D\n",
              "count  6.000000  6.000000  6.000000  6.000000\n",
              "mean   0.054443  0.424514 -0.220348  0.406810\n",
              "std    1.460840  0.577291  0.656082  0.835339\n",
              "min   -1.675110 -0.102097 -1.232947 -0.707048\n",
              "25%   -0.766758  0.061371 -0.511441 -0.235308\n",
              "50%    0.071093  0.274139 -0.188030  0.603558\n",
              "75%    0.253394  0.533609  0.129352  1.129455\n",
              "max    2.591463  1.490358  0.671018  1.150965"
            ]
          },
          "metadata": {},
          "execution_count": 9
        }
      ]
    },
    {
      "cell_type": "code",
      "metadata": {
        "id": "ExhpF6H8dDKo",
        "colab": {
          "base_uri": "https://localhost:8080/",
          "height": 171
        },
        "outputId": "5dff62e5-ab4a-4153-c594-19f36e5f8f94"
      },
      "source": [
        "df.describe().T"
      ],
      "execution_count": 10,
      "outputs": [
        {
          "output_type": "execute_result",
          "data": {
            "text/html": [
              "<div>\n",
              "<style scoped>\n",
              "    .dataframe tbody tr th:only-of-type {\n",
              "        vertical-align: middle;\n",
              "    }\n",
              "\n",
              "    .dataframe tbody tr th {\n",
              "        vertical-align: top;\n",
              "    }\n",
              "\n",
              "    .dataframe thead th {\n",
              "        text-align: right;\n",
              "    }\n",
              "</style>\n",
              "<table border=\"1\" class=\"dataframe\">\n",
              "  <thead>\n",
              "    <tr style=\"text-align: right;\">\n",
              "      <th></th>\n",
              "      <th>count</th>\n",
              "      <th>mean</th>\n",
              "      <th>std</th>\n",
              "      <th>min</th>\n",
              "      <th>25%</th>\n",
              "      <th>50%</th>\n",
              "      <th>75%</th>\n",
              "      <th>max</th>\n",
              "    </tr>\n",
              "  </thead>\n",
              "  <tbody>\n",
              "    <tr>\n",
              "      <th>A</th>\n",
              "      <td>6.0</td>\n",
              "      <td>0.054443</td>\n",
              "      <td>1.460840</td>\n",
              "      <td>-1.675110</td>\n",
              "      <td>-0.766758</td>\n",
              "      <td>0.071093</td>\n",
              "      <td>0.253394</td>\n",
              "      <td>2.591463</td>\n",
              "    </tr>\n",
              "    <tr>\n",
              "      <th>B</th>\n",
              "      <td>6.0</td>\n",
              "      <td>0.424514</td>\n",
              "      <td>0.577291</td>\n",
              "      <td>-0.102097</td>\n",
              "      <td>0.061371</td>\n",
              "      <td>0.274139</td>\n",
              "      <td>0.533609</td>\n",
              "      <td>1.490358</td>\n",
              "    </tr>\n",
              "    <tr>\n",
              "      <th>C</th>\n",
              "      <td>6.0</td>\n",
              "      <td>-0.220348</td>\n",
              "      <td>0.656082</td>\n",
              "      <td>-1.232947</td>\n",
              "      <td>-0.511441</td>\n",
              "      <td>-0.188030</td>\n",
              "      <td>0.129352</td>\n",
              "      <td>0.671018</td>\n",
              "    </tr>\n",
              "    <tr>\n",
              "      <th>D</th>\n",
              "      <td>6.0</td>\n",
              "      <td>0.406810</td>\n",
              "      <td>0.835339</td>\n",
              "      <td>-0.707048</td>\n",
              "      <td>-0.235308</td>\n",
              "      <td>0.603558</td>\n",
              "      <td>1.129455</td>\n",
              "      <td>1.150965</td>\n",
              "    </tr>\n",
              "  </tbody>\n",
              "</table>\n",
              "</div>"
            ],
            "text/plain": [
              "   count      mean       std       min       25%       50%       75%       max\n",
              "A    6.0  0.054443  1.460840 -1.675110 -0.766758  0.071093  0.253394  2.591463\n",
              "B    6.0  0.424514  0.577291 -0.102097  0.061371  0.274139  0.533609  1.490358\n",
              "C    6.0 -0.220348  0.656082 -1.232947 -0.511441 -0.188030  0.129352  0.671018\n",
              "D    6.0  0.406810  0.835339 -0.707048 -0.235308  0.603558  1.129455  1.150965"
            ]
          },
          "metadata": {},
          "execution_count": 10
        }
      ]
    },
    {
      "cell_type": "code",
      "metadata": {
        "colab": {
          "base_uri": "https://localhost:8080/",
          "height": 232
        },
        "id": "rMpc_1QyzYD5",
        "outputId": "323fe680-0eb7-456a-8f6c-392991f5f7a1"
      },
      "source": [
        "df"
      ],
      "execution_count": 11,
      "outputs": [
        {
          "output_type": "execute_result",
          "data": {
            "text/html": [
              "<div>\n",
              "<style scoped>\n",
              "    .dataframe tbody tr th:only-of-type {\n",
              "        vertical-align: middle;\n",
              "    }\n",
              "\n",
              "    .dataframe tbody tr th {\n",
              "        vertical-align: top;\n",
              "    }\n",
              "\n",
              "    .dataframe thead th {\n",
              "        text-align: right;\n",
              "    }\n",
              "</style>\n",
              "<table border=\"1\" class=\"dataframe\">\n",
              "  <thead>\n",
              "    <tr style=\"text-align: right;\">\n",
              "      <th></th>\n",
              "      <th>A</th>\n",
              "      <th>B</th>\n",
              "      <th>C</th>\n",
              "      <th>D</th>\n",
              "    </tr>\n",
              "  </thead>\n",
              "  <tbody>\n",
              "    <tr>\n",
              "      <th>2021-09-27</th>\n",
              "      <td>2.591463</td>\n",
              "      <td>-0.102097</td>\n",
              "      <td>-0.067833</td>\n",
              "      <td>1.150965</td>\n",
              "    </tr>\n",
              "    <tr>\n",
              "      <th>2021-09-28</th>\n",
              "      <td>-1.675110</td>\n",
              "      <td>0.388832</td>\n",
              "      <td>-0.308227</td>\n",
              "      <td>-0.344339</td>\n",
              "    </tr>\n",
              "    <tr>\n",
              "      <th>2021-09-29</th>\n",
              "      <td>0.025641</td>\n",
              "      <td>0.028679</td>\n",
              "      <td>-1.232947</td>\n",
              "      <td>1.115328</td>\n",
              "    </tr>\n",
              "    <tr>\n",
              "      <th>2021-09-30</th>\n",
              "      <td>-1.030891</td>\n",
              "      <td>0.159446</td>\n",
              "      <td>-0.579179</td>\n",
              "      <td>0.091787</td>\n",
              "    </tr>\n",
              "    <tr>\n",
              "      <th>2021-10-01</th>\n",
              "      <td>0.116545</td>\n",
              "      <td>1.490358</td>\n",
              "      <td>0.195080</td>\n",
              "      <td>-0.707048</td>\n",
              "    </tr>\n",
              "    <tr>\n",
              "      <th>2021-10-02</th>\n",
              "      <td>0.299010</td>\n",
              "      <td>0.581867</td>\n",
              "      <td>0.671018</td>\n",
              "      <td>1.134164</td>\n",
              "    </tr>\n",
              "  </tbody>\n",
              "</table>\n",
              "</div>"
            ],
            "text/plain": [
              "                   A         B         C         D\n",
              "2021-09-27  2.591463 -0.102097 -0.067833  1.150965\n",
              "2021-09-28 -1.675110  0.388832 -0.308227 -0.344339\n",
              "2021-09-29  0.025641  0.028679 -1.232947  1.115328\n",
              "2021-09-30 -1.030891  0.159446 -0.579179  0.091787\n",
              "2021-10-01  0.116545  1.490358  0.195080 -0.707048\n",
              "2021-10-02  0.299010  0.581867  0.671018  1.134164"
            ]
          },
          "metadata": {},
          "execution_count": 11
        }
      ]
    },
    {
      "cell_type": "code",
      "metadata": {
        "id": "Br9VwFVex5rE",
        "colab": {
          "base_uri": "https://localhost:8080/",
          "height": 171
        },
        "outputId": "cfbc6370-852d-4882-927b-034b7ecfd020"
      },
      "source": [
        "# Transposing your dataframe:\n",
        "df.T"
      ],
      "execution_count": 12,
      "outputs": [
        {
          "output_type": "execute_result",
          "data": {
            "text/html": [
              "<div>\n",
              "<style scoped>\n",
              "    .dataframe tbody tr th:only-of-type {\n",
              "        vertical-align: middle;\n",
              "    }\n",
              "\n",
              "    .dataframe tbody tr th {\n",
              "        vertical-align: top;\n",
              "    }\n",
              "\n",
              "    .dataframe thead th {\n",
              "        text-align: right;\n",
              "    }\n",
              "</style>\n",
              "<table border=\"1\" class=\"dataframe\">\n",
              "  <thead>\n",
              "    <tr style=\"text-align: right;\">\n",
              "      <th></th>\n",
              "      <th>2021-09-27</th>\n",
              "      <th>2021-09-28</th>\n",
              "      <th>2021-09-29</th>\n",
              "      <th>2021-09-30</th>\n",
              "      <th>2021-10-01</th>\n",
              "      <th>2021-10-02</th>\n",
              "    </tr>\n",
              "  </thead>\n",
              "  <tbody>\n",
              "    <tr>\n",
              "      <th>A</th>\n",
              "      <td>2.591463</td>\n",
              "      <td>-1.675110</td>\n",
              "      <td>0.025641</td>\n",
              "      <td>-1.030891</td>\n",
              "      <td>0.116545</td>\n",
              "      <td>0.299010</td>\n",
              "    </tr>\n",
              "    <tr>\n",
              "      <th>B</th>\n",
              "      <td>-0.102097</td>\n",
              "      <td>0.388832</td>\n",
              "      <td>0.028679</td>\n",
              "      <td>0.159446</td>\n",
              "      <td>1.490358</td>\n",
              "      <td>0.581867</td>\n",
              "    </tr>\n",
              "    <tr>\n",
              "      <th>C</th>\n",
              "      <td>-0.067833</td>\n",
              "      <td>-0.308227</td>\n",
              "      <td>-1.232947</td>\n",
              "      <td>-0.579179</td>\n",
              "      <td>0.195080</td>\n",
              "      <td>0.671018</td>\n",
              "    </tr>\n",
              "    <tr>\n",
              "      <th>D</th>\n",
              "      <td>1.150965</td>\n",
              "      <td>-0.344339</td>\n",
              "      <td>1.115328</td>\n",
              "      <td>0.091787</td>\n",
              "      <td>-0.707048</td>\n",
              "      <td>1.134164</td>\n",
              "    </tr>\n",
              "  </tbody>\n",
              "</table>\n",
              "</div>"
            ],
            "text/plain": [
              "   2021-09-27  2021-09-28  2021-09-29  2021-09-30  2021-10-01  2021-10-02\n",
              "A    2.591463   -1.675110    0.025641   -1.030891    0.116545    0.299010\n",
              "B   -0.102097    0.388832    0.028679    0.159446    1.490358    0.581867\n",
              "C   -0.067833   -0.308227   -1.232947   -0.579179    0.195080    0.671018\n",
              "D    1.150965   -0.344339    1.115328    0.091787   -0.707048    1.134164"
            ]
          },
          "metadata": {},
          "execution_count": 12
        }
      ]
    },
    {
      "cell_type": "code",
      "metadata": {
        "id": "vkg1gQUVLoy9",
        "colab": {
          "base_uri": "https://localhost:8080/"
        },
        "outputId": "8c4ea3d6-b7d8-4a59-a8e3-6c489ed425ef"
      },
      "source": [
        "df.T.index"
      ],
      "execution_count": 13,
      "outputs": [
        {
          "output_type": "execute_result",
          "data": {
            "text/plain": [
              "Index(['A', 'B', 'C', 'D'], dtype='object')"
            ]
          },
          "metadata": {},
          "execution_count": 13
        }
      ]
    },
    {
      "cell_type": "markdown",
      "metadata": {
        "id": "A4lHGd4px5rU"
      },
      "source": [
        "### Sorting"
      ]
    },
    {
      "cell_type": "markdown",
      "metadata": {
        "id": "jlXuIbzD6oUD"
      },
      "source": [
        "#### Sort by index\n",
        "- sort_index(axis=0, ascending=False)\n",
        "- sort_index(axis=1, ascending=False)\n",
        "\n",
        "> Axis=0 Column-Wise Operation (수직으로)\n",
        "\n",
        "> Axis=1 Row-Wise Operation (수평으로)"
      ]
    },
    {
      "cell_type": "code",
      "metadata": {
        "id": "RM9Rlk64x5rW",
        "colab": {
          "base_uri": "https://localhost:8080/"
        },
        "outputId": "17263349-8d75-4001-9638-e075f65dae49"
      },
      "source": [
        "# Sorting by an axis:\n",
        "df, df.sort_index(axis=0, ascending=False)\n",
        "\n",
        "# ascending default = True\n",
        "# ascending 내림차순으로 정렬하는 거인듯?\n",
        "# ascending=False 하니까 역순으로 제일 근래의 값부터 나옴"
      ],
      "execution_count": 14,
      "outputs": [
        {
          "output_type": "execute_result",
          "data": {
            "text/plain": [
              "(                   A         B         C         D\n",
              " 2021-09-27  2.591463 -0.102097 -0.067833  1.150965\n",
              " 2021-09-28 -1.675110  0.388832 -0.308227 -0.344339\n",
              " 2021-09-29  0.025641  0.028679 -1.232947  1.115328\n",
              " 2021-09-30 -1.030891  0.159446 -0.579179  0.091787\n",
              " 2021-10-01  0.116545  1.490358  0.195080 -0.707048\n",
              " 2021-10-02  0.299010  0.581867  0.671018  1.134164,\n",
              "                    A         B         C         D\n",
              " 2021-10-02  0.299010  0.581867  0.671018  1.134164\n",
              " 2021-10-01  0.116545  1.490358  0.195080 -0.707048\n",
              " 2021-09-30 -1.030891  0.159446 -0.579179  0.091787\n",
              " 2021-09-29  0.025641  0.028679 -1.232947  1.115328\n",
              " 2021-09-28 -1.675110  0.388832 -0.308227 -0.344339\n",
              " 2021-09-27  2.591463 -0.102097 -0.067833  1.150965)"
            ]
          },
          "metadata": {},
          "execution_count": 14
        }
      ]
    },
    {
      "cell_type": "code",
      "metadata": {
        "id": "w_7d__Hsx5rb",
        "colab": {
          "base_uri": "https://localhost:8080/"
        },
        "outputId": "781bef11-9066-469e-e0d3-0e96b0114ace"
      },
      "source": [
        "df,df.sort_index(axis=1, ascending=False)"
      ],
      "execution_count": 15,
      "outputs": [
        {
          "output_type": "execute_result",
          "data": {
            "text/plain": [
              "(                   A         B         C         D\n",
              " 2021-09-27  2.591463 -0.102097 -0.067833  1.150965\n",
              " 2021-09-28 -1.675110  0.388832 -0.308227 -0.344339\n",
              " 2021-09-29  0.025641  0.028679 -1.232947  1.115328\n",
              " 2021-09-30 -1.030891  0.159446 -0.579179  0.091787\n",
              " 2021-10-01  0.116545  1.490358  0.195080 -0.707048\n",
              " 2021-10-02  0.299010  0.581867  0.671018  1.134164,\n",
              "                    D         C         B         A\n",
              " 2021-09-27  1.150965 -0.067833 -0.102097  2.591463\n",
              " 2021-09-28 -0.344339 -0.308227  0.388832 -1.675110\n",
              " 2021-09-29  1.115328 -1.232947  0.028679  0.025641\n",
              " 2021-09-30  0.091787 -0.579179  0.159446 -1.030891\n",
              " 2021-10-01 -0.707048  0.195080  1.490358  0.116545\n",
              " 2021-10-02  1.134164  0.671018  0.581867  0.299010)"
            ]
          },
          "metadata": {},
          "execution_count": 15
        }
      ]
    },
    {
      "cell_type": "markdown",
      "metadata": {
        "id": "8J59I-KW6yNK"
      },
      "source": [
        "#### Sort by value\n",
        "- sort_values(by='column')"
      ]
    },
    {
      "cell_type": "code",
      "metadata": {
        "id": "VJw7_sTLx5rg",
        "colab": {
          "base_uri": "https://localhost:8080/"
        },
        "outputId": "c510be92-ecb7-42d1-8b2e-60fd9116f036"
      },
      "source": [
        "# Sorting by values:\n",
        "df,df.sort_values(by='B') #, ascending=False)\n",
        "\n",
        "# B열을 기준으로 재정렬"
      ],
      "execution_count": 16,
      "outputs": [
        {
          "output_type": "execute_result",
          "data": {
            "text/plain": [
              "(                   A         B         C         D\n",
              " 2021-09-27  2.591463 -0.102097 -0.067833  1.150965\n",
              " 2021-09-28 -1.675110  0.388832 -0.308227 -0.344339\n",
              " 2021-09-29  0.025641  0.028679 -1.232947  1.115328\n",
              " 2021-09-30 -1.030891  0.159446 -0.579179  0.091787\n",
              " 2021-10-01  0.116545  1.490358  0.195080 -0.707048\n",
              " 2021-10-02  0.299010  0.581867  0.671018  1.134164,\n",
              "                    A         B         C         D\n",
              " 2021-09-27  2.591463 -0.102097 -0.067833  1.150965\n",
              " 2021-09-29  0.025641  0.028679 -1.232947  1.115328\n",
              " 2021-09-30 -1.030891  0.159446 -0.579179  0.091787\n",
              " 2021-09-28 -1.675110  0.388832 -0.308227 -0.344339\n",
              " 2021-10-02  0.299010  0.581867  0.671018  1.134164\n",
              " 2021-10-01  0.116545  1.490358  0.195080 -0.707048)"
            ]
          },
          "metadata": {},
          "execution_count": 16
        }
      ]
    },
    {
      "cell_type": "markdown",
      "metadata": {
        "id": "rBW0-saPPGbN"
      },
      "source": [
        "## indexing and slicing of DataFrame"
      ]
    },
    {
      "cell_type": "markdown",
      "metadata": {
        "id": "oH89Wa-ix5rq"
      },
      "source": [
        "#### Selecting data by indexing and slicing\n",
        "- indexing\n",
        "- slicing\n"
      ]
    },
    {
      "cell_type": "code",
      "metadata": {
        "id": "YufIBMYzx5ru",
        "colab": {
          "base_uri": "https://localhost:8080/"
        },
        "outputId": "f25b08d5-0362-4cc6-988c-9b5245ff002b"
      },
      "source": [
        "# Selecting a single column, which yields a Series\n",
        "df['A']\n",
        "\n",
        "# A의 인덱스(날짜)와 값이 나옴"
      ],
      "execution_count": 17,
      "outputs": [
        {
          "output_type": "execute_result",
          "data": {
            "text/plain": [
              "2021-09-27    2.591463\n",
              "2021-09-28   -1.675110\n",
              "2021-09-29    0.025641\n",
              "2021-09-30   -1.030891\n",
              "2021-10-01    0.116545\n",
              "2021-10-02    0.299010\n",
              "Freq: D, Name: A, dtype: float64"
            ]
          },
          "metadata": {},
          "execution_count": 17
        }
      ]
    },
    {
      "cell_type": "code",
      "metadata": {
        "id": "ijxuNMS5x5r3",
        "colab": {
          "base_uri": "https://localhost:8080/",
          "height": 141
        },
        "outputId": "71bb44e7-c3ae-414a-dd2f-738dcb004125"
      },
      "source": [
        "# Selecting via [], which slices the rows.\n",
        "df[0:3]"
      ],
      "execution_count": 18,
      "outputs": [
        {
          "output_type": "execute_result",
          "data": {
            "text/html": [
              "<div>\n",
              "<style scoped>\n",
              "    .dataframe tbody tr th:only-of-type {\n",
              "        vertical-align: middle;\n",
              "    }\n",
              "\n",
              "    .dataframe tbody tr th {\n",
              "        vertical-align: top;\n",
              "    }\n",
              "\n",
              "    .dataframe thead th {\n",
              "        text-align: right;\n",
              "    }\n",
              "</style>\n",
              "<table border=\"1\" class=\"dataframe\">\n",
              "  <thead>\n",
              "    <tr style=\"text-align: right;\">\n",
              "      <th></th>\n",
              "      <th>A</th>\n",
              "      <th>B</th>\n",
              "      <th>C</th>\n",
              "      <th>D</th>\n",
              "    </tr>\n",
              "  </thead>\n",
              "  <tbody>\n",
              "    <tr>\n",
              "      <th>2021-09-27</th>\n",
              "      <td>2.591463</td>\n",
              "      <td>-0.102097</td>\n",
              "      <td>-0.067833</td>\n",
              "      <td>1.150965</td>\n",
              "    </tr>\n",
              "    <tr>\n",
              "      <th>2021-09-28</th>\n",
              "      <td>-1.675110</td>\n",
              "      <td>0.388832</td>\n",
              "      <td>-0.308227</td>\n",
              "      <td>-0.344339</td>\n",
              "    </tr>\n",
              "    <tr>\n",
              "      <th>2021-09-29</th>\n",
              "      <td>0.025641</td>\n",
              "      <td>0.028679</td>\n",
              "      <td>-1.232947</td>\n",
              "      <td>1.115328</td>\n",
              "    </tr>\n",
              "  </tbody>\n",
              "</table>\n",
              "</div>"
            ],
            "text/plain": [
              "                   A         B         C         D\n",
              "2021-09-27  2.591463 -0.102097 -0.067833  1.150965\n",
              "2021-09-28 -1.675110  0.388832 -0.308227 -0.344339\n",
              "2021-09-29  0.025641  0.028679 -1.232947  1.115328"
            ]
          },
          "metadata": {},
          "execution_count": 18
        }
      ]
    },
    {
      "cell_type": "code",
      "metadata": {
        "id": "T8XP7m9nx5r9",
        "colab": {
          "base_uri": "https://localhost:8080/",
          "height": 202
        },
        "outputId": "5201ffa6-f4bd-4de7-9f38-145b6019dcaa"
      },
      "source": [
        "df['20210927':'20211001'] # 인덱스가 아닌 값인 경우는 지정된 범위가 다 선택된다."
      ],
      "execution_count": 19,
      "outputs": [
        {
          "output_type": "execute_result",
          "data": {
            "text/html": [
              "<div>\n",
              "<style scoped>\n",
              "    .dataframe tbody tr th:only-of-type {\n",
              "        vertical-align: middle;\n",
              "    }\n",
              "\n",
              "    .dataframe tbody tr th {\n",
              "        vertical-align: top;\n",
              "    }\n",
              "\n",
              "    .dataframe thead th {\n",
              "        text-align: right;\n",
              "    }\n",
              "</style>\n",
              "<table border=\"1\" class=\"dataframe\">\n",
              "  <thead>\n",
              "    <tr style=\"text-align: right;\">\n",
              "      <th></th>\n",
              "      <th>A</th>\n",
              "      <th>B</th>\n",
              "      <th>C</th>\n",
              "      <th>D</th>\n",
              "    </tr>\n",
              "  </thead>\n",
              "  <tbody>\n",
              "    <tr>\n",
              "      <th>2021-09-27</th>\n",
              "      <td>2.591463</td>\n",
              "      <td>-0.102097</td>\n",
              "      <td>-0.067833</td>\n",
              "      <td>1.150965</td>\n",
              "    </tr>\n",
              "    <tr>\n",
              "      <th>2021-09-28</th>\n",
              "      <td>-1.675110</td>\n",
              "      <td>0.388832</td>\n",
              "      <td>-0.308227</td>\n",
              "      <td>-0.344339</td>\n",
              "    </tr>\n",
              "    <tr>\n",
              "      <th>2021-09-29</th>\n",
              "      <td>0.025641</td>\n",
              "      <td>0.028679</td>\n",
              "      <td>-1.232947</td>\n",
              "      <td>1.115328</td>\n",
              "    </tr>\n",
              "    <tr>\n",
              "      <th>2021-09-30</th>\n",
              "      <td>-1.030891</td>\n",
              "      <td>0.159446</td>\n",
              "      <td>-0.579179</td>\n",
              "      <td>0.091787</td>\n",
              "    </tr>\n",
              "    <tr>\n",
              "      <th>2021-10-01</th>\n",
              "      <td>0.116545</td>\n",
              "      <td>1.490358</td>\n",
              "      <td>0.195080</td>\n",
              "      <td>-0.707048</td>\n",
              "    </tr>\n",
              "  </tbody>\n",
              "</table>\n",
              "</div>"
            ],
            "text/plain": [
              "                   A         B         C         D\n",
              "2021-09-27  2.591463 -0.102097 -0.067833  1.150965\n",
              "2021-09-28 -1.675110  0.388832 -0.308227 -0.344339\n",
              "2021-09-29  0.025641  0.028679 -1.232947  1.115328\n",
              "2021-09-30 -1.030891  0.159446 -0.579179  0.091787\n",
              "2021-10-01  0.116545  1.490358  0.195080 -0.707048"
            ]
          },
          "metadata": {},
          "execution_count": 19
        }
      ]
    },
    {
      "cell_type": "markdown",
      "metadata": {
        "id": "E7-V96t9x5sB"
      },
      "source": [
        "#### Selecting data by label [중요!!]\n",
        "\n",
        "> **loc, iloc**\n"
      ]
    },
    {
      "cell_type": "code",
      "metadata": {
        "id": "TV4dnwU-x5sC",
        "colab": {
          "base_uri": "https://localhost:8080/",
          "height": 232
        },
        "outputId": "b7c1ec03-95eb-49e9-b218-ebfe8f10c641"
      },
      "source": [
        "df"
      ],
      "execution_count": 20,
      "outputs": [
        {
          "output_type": "execute_result",
          "data": {
            "text/html": [
              "<div>\n",
              "<style scoped>\n",
              "    .dataframe tbody tr th:only-of-type {\n",
              "        vertical-align: middle;\n",
              "    }\n",
              "\n",
              "    .dataframe tbody tr th {\n",
              "        vertical-align: top;\n",
              "    }\n",
              "\n",
              "    .dataframe thead th {\n",
              "        text-align: right;\n",
              "    }\n",
              "</style>\n",
              "<table border=\"1\" class=\"dataframe\">\n",
              "  <thead>\n",
              "    <tr style=\"text-align: right;\">\n",
              "      <th></th>\n",
              "      <th>A</th>\n",
              "      <th>B</th>\n",
              "      <th>C</th>\n",
              "      <th>D</th>\n",
              "    </tr>\n",
              "  </thead>\n",
              "  <tbody>\n",
              "    <tr>\n",
              "      <th>2021-09-27</th>\n",
              "      <td>2.591463</td>\n",
              "      <td>-0.102097</td>\n",
              "      <td>-0.067833</td>\n",
              "      <td>1.150965</td>\n",
              "    </tr>\n",
              "    <tr>\n",
              "      <th>2021-09-28</th>\n",
              "      <td>-1.675110</td>\n",
              "      <td>0.388832</td>\n",
              "      <td>-0.308227</td>\n",
              "      <td>-0.344339</td>\n",
              "    </tr>\n",
              "    <tr>\n",
              "      <th>2021-09-29</th>\n",
              "      <td>0.025641</td>\n",
              "      <td>0.028679</td>\n",
              "      <td>-1.232947</td>\n",
              "      <td>1.115328</td>\n",
              "    </tr>\n",
              "    <tr>\n",
              "      <th>2021-09-30</th>\n",
              "      <td>-1.030891</td>\n",
              "      <td>0.159446</td>\n",
              "      <td>-0.579179</td>\n",
              "      <td>0.091787</td>\n",
              "    </tr>\n",
              "    <tr>\n",
              "      <th>2021-10-01</th>\n",
              "      <td>0.116545</td>\n",
              "      <td>1.490358</td>\n",
              "      <td>0.195080</td>\n",
              "      <td>-0.707048</td>\n",
              "    </tr>\n",
              "    <tr>\n",
              "      <th>2021-10-02</th>\n",
              "      <td>0.299010</td>\n",
              "      <td>0.581867</td>\n",
              "      <td>0.671018</td>\n",
              "      <td>1.134164</td>\n",
              "    </tr>\n",
              "  </tbody>\n",
              "</table>\n",
              "</div>"
            ],
            "text/plain": [
              "                   A         B         C         D\n",
              "2021-09-27  2.591463 -0.102097 -0.067833  1.150965\n",
              "2021-09-28 -1.675110  0.388832 -0.308227 -0.344339\n",
              "2021-09-29  0.025641  0.028679 -1.232947  1.115328\n",
              "2021-09-30 -1.030891  0.159446 -0.579179  0.091787\n",
              "2021-10-01  0.116545  1.490358  0.195080 -0.707048\n",
              "2021-10-02  0.299010  0.581867  0.671018  1.134164"
            ]
          },
          "metadata": {},
          "execution_count": 20
        }
      ]
    },
    {
      "cell_type": "code",
      "metadata": {
        "id": "iPZE3U5cx5sG",
        "colab": {
          "base_uri": "https://localhost:8080/"
        },
        "outputId": "f7447c03-2191-4269-a59c-b68312fff3ca"
      },
      "source": [
        "df.loc[dates[0]]   # loc()"
      ],
      "execution_count": 21,
      "outputs": [
        {
          "output_type": "execute_result",
          "data": {
            "text/plain": [
              "A    2.591463\n",
              "B   -0.102097\n",
              "C   -0.067833\n",
              "D    1.150965\n",
              "Name: 2021-09-27 00:00:00, dtype: float64"
            ]
          },
          "metadata": {},
          "execution_count": 21
        }
      ]
    },
    {
      "cell_type": "code",
      "metadata": {
        "id": "jteYZDQnx5sL",
        "colab": {
          "base_uri": "https://localhost:8080/",
          "height": 232
        },
        "outputId": "a137f63a-a8c6-44cc-99cf-b265dc5951d5"
      },
      "source": [
        "# Selecting on a multi-axis by label:\n",
        "df.loc[:,['A','B']]\n",
        "\n",
        "# 동시에 할 거면 리스트로"
      ],
      "execution_count": 22,
      "outputs": [
        {
          "output_type": "execute_result",
          "data": {
            "text/html": [
              "<div>\n",
              "<style scoped>\n",
              "    .dataframe tbody tr th:only-of-type {\n",
              "        vertical-align: middle;\n",
              "    }\n",
              "\n",
              "    .dataframe tbody tr th {\n",
              "        vertical-align: top;\n",
              "    }\n",
              "\n",
              "    .dataframe thead th {\n",
              "        text-align: right;\n",
              "    }\n",
              "</style>\n",
              "<table border=\"1\" class=\"dataframe\">\n",
              "  <thead>\n",
              "    <tr style=\"text-align: right;\">\n",
              "      <th></th>\n",
              "      <th>A</th>\n",
              "      <th>B</th>\n",
              "    </tr>\n",
              "  </thead>\n",
              "  <tbody>\n",
              "    <tr>\n",
              "      <th>2021-09-27</th>\n",
              "      <td>2.591463</td>\n",
              "      <td>-0.102097</td>\n",
              "    </tr>\n",
              "    <tr>\n",
              "      <th>2021-09-28</th>\n",
              "      <td>-1.675110</td>\n",
              "      <td>0.388832</td>\n",
              "    </tr>\n",
              "    <tr>\n",
              "      <th>2021-09-29</th>\n",
              "      <td>0.025641</td>\n",
              "      <td>0.028679</td>\n",
              "    </tr>\n",
              "    <tr>\n",
              "      <th>2021-09-30</th>\n",
              "      <td>-1.030891</td>\n",
              "      <td>0.159446</td>\n",
              "    </tr>\n",
              "    <tr>\n",
              "      <th>2021-10-01</th>\n",
              "      <td>0.116545</td>\n",
              "      <td>1.490358</td>\n",
              "    </tr>\n",
              "    <tr>\n",
              "      <th>2021-10-02</th>\n",
              "      <td>0.299010</td>\n",
              "      <td>0.581867</td>\n",
              "    </tr>\n",
              "  </tbody>\n",
              "</table>\n",
              "</div>"
            ],
            "text/plain": [
              "                   A         B\n",
              "2021-09-27  2.591463 -0.102097\n",
              "2021-09-28 -1.675110  0.388832\n",
              "2021-09-29  0.025641  0.028679\n",
              "2021-09-30 -1.030891  0.159446\n",
              "2021-10-01  0.116545  1.490358\n",
              "2021-10-02  0.299010  0.581867"
            ]
          },
          "metadata": {},
          "execution_count": 22
        }
      ]
    },
    {
      "cell_type": "markdown",
      "metadata": {
        "id": "QqYJvRLnx5sP"
      },
      "source": [
        "#### [DIY: 도전코딩]\n",
        "\n",
        "> Select data for first two days AND column 3,4 from df using loc[]."
      ]
    },
    {
      "cell_type": "code",
      "metadata": {
        "id": "jSUlF4icx5sQ",
        "colab": {
          "base_uri": "https://localhost:8080/",
          "height": 110
        },
        "outputId": "fa444e54-a745-4778-c0cd-94de41073914"
      },
      "source": [
        "# df.loc[0:2,['C','D']]\n",
        "# loc 함수를 쓸 때에는 정수 인덱스로 지정 x\n",
        "# df.loc['20210927':'20210928',['C','D']]\n",
        "# value index o\n",
        "df.loc[dates[:2],['C','D']]\n",
        "\n",
        "# loc은 []대괄호 사용\n",
        "\n",
        "# 중간고사 필기 시험 출제 value index 기억"
      ],
      "execution_count": 23,
      "outputs": [
        {
          "output_type": "execute_result",
          "data": {
            "text/html": [
              "<div>\n",
              "<style scoped>\n",
              "    .dataframe tbody tr th:only-of-type {\n",
              "        vertical-align: middle;\n",
              "    }\n",
              "\n",
              "    .dataframe tbody tr th {\n",
              "        vertical-align: top;\n",
              "    }\n",
              "\n",
              "    .dataframe thead th {\n",
              "        text-align: right;\n",
              "    }\n",
              "</style>\n",
              "<table border=\"1\" class=\"dataframe\">\n",
              "  <thead>\n",
              "    <tr style=\"text-align: right;\">\n",
              "      <th></th>\n",
              "      <th>C</th>\n",
              "      <th>D</th>\n",
              "    </tr>\n",
              "  </thead>\n",
              "  <tbody>\n",
              "    <tr>\n",
              "      <th>2021-09-27</th>\n",
              "      <td>-0.067833</td>\n",
              "      <td>1.150965</td>\n",
              "    </tr>\n",
              "    <tr>\n",
              "      <th>2021-09-28</th>\n",
              "      <td>-0.308227</td>\n",
              "      <td>-0.344339</td>\n",
              "    </tr>\n",
              "  </tbody>\n",
              "</table>\n",
              "</div>"
            ],
            "text/plain": [
              "                   C         D\n",
              "2021-09-27 -0.067833  1.150965\n",
              "2021-09-28 -0.308227 -0.344339"
            ]
          },
          "metadata": {},
          "execution_count": 23
        }
      ]
    },
    {
      "cell_type": "markdown",
      "metadata": {
        "id": "-BGWuIwpx5sV"
      },
      "source": [
        "#### Selecting data by position (iloc())\n",
        "- index 사용"
      ]
    },
    {
      "cell_type": "code",
      "metadata": {
        "id": "gYtgID9rx5sW",
        "colab": {
          "base_uri": "https://localhost:8080/",
          "height": 232
        },
        "outputId": "bc0ed53e-2b66-487b-edc3-cadfb52ab519"
      },
      "source": [
        "df"
      ],
      "execution_count": 24,
      "outputs": [
        {
          "output_type": "execute_result",
          "data": {
            "text/html": [
              "<div>\n",
              "<style scoped>\n",
              "    .dataframe tbody tr th:only-of-type {\n",
              "        vertical-align: middle;\n",
              "    }\n",
              "\n",
              "    .dataframe tbody tr th {\n",
              "        vertical-align: top;\n",
              "    }\n",
              "\n",
              "    .dataframe thead th {\n",
              "        text-align: right;\n",
              "    }\n",
              "</style>\n",
              "<table border=\"1\" class=\"dataframe\">\n",
              "  <thead>\n",
              "    <tr style=\"text-align: right;\">\n",
              "      <th></th>\n",
              "      <th>A</th>\n",
              "      <th>B</th>\n",
              "      <th>C</th>\n",
              "      <th>D</th>\n",
              "    </tr>\n",
              "  </thead>\n",
              "  <tbody>\n",
              "    <tr>\n",
              "      <th>2021-09-27</th>\n",
              "      <td>2.591463</td>\n",
              "      <td>-0.102097</td>\n",
              "      <td>-0.067833</td>\n",
              "      <td>1.150965</td>\n",
              "    </tr>\n",
              "    <tr>\n",
              "      <th>2021-09-28</th>\n",
              "      <td>-1.675110</td>\n",
              "      <td>0.388832</td>\n",
              "      <td>-0.308227</td>\n",
              "      <td>-0.344339</td>\n",
              "    </tr>\n",
              "    <tr>\n",
              "      <th>2021-09-29</th>\n",
              "      <td>0.025641</td>\n",
              "      <td>0.028679</td>\n",
              "      <td>-1.232947</td>\n",
              "      <td>1.115328</td>\n",
              "    </tr>\n",
              "    <tr>\n",
              "      <th>2021-09-30</th>\n",
              "      <td>-1.030891</td>\n",
              "      <td>0.159446</td>\n",
              "      <td>-0.579179</td>\n",
              "      <td>0.091787</td>\n",
              "    </tr>\n",
              "    <tr>\n",
              "      <th>2021-10-01</th>\n",
              "      <td>0.116545</td>\n",
              "      <td>1.490358</td>\n",
              "      <td>0.195080</td>\n",
              "      <td>-0.707048</td>\n",
              "    </tr>\n",
              "    <tr>\n",
              "      <th>2021-10-02</th>\n",
              "      <td>0.299010</td>\n",
              "      <td>0.581867</td>\n",
              "      <td>0.671018</td>\n",
              "      <td>1.134164</td>\n",
              "    </tr>\n",
              "  </tbody>\n",
              "</table>\n",
              "</div>"
            ],
            "text/plain": [
              "                   A         B         C         D\n",
              "2021-09-27  2.591463 -0.102097 -0.067833  1.150965\n",
              "2021-09-28 -1.675110  0.388832 -0.308227 -0.344339\n",
              "2021-09-29  0.025641  0.028679 -1.232947  1.115328\n",
              "2021-09-30 -1.030891  0.159446 -0.579179  0.091787\n",
              "2021-10-01  0.116545  1.490358  0.195080 -0.707048\n",
              "2021-10-02  0.299010  0.581867  0.671018  1.134164"
            ]
          },
          "metadata": {},
          "execution_count": 24
        }
      ]
    },
    {
      "cell_type": "code",
      "metadata": {
        "id": "PNgZ3u8-x5sa",
        "colab": {
          "base_uri": "https://localhost:8080/"
        },
        "outputId": "3e73f9fd-1d27-4081-8cf1-5f75d1628ab1"
      },
      "source": [
        "df.iloc[3]  # 결과는 차원축소형으로 표현됨.\n",
        "# 4행의 값들이 축소돼서 출력"
      ],
      "execution_count": 25,
      "outputs": [
        {
          "output_type": "execute_result",
          "data": {
            "text/plain": [
              "A   -1.030891\n",
              "B    0.159446\n",
              "C   -0.579179\n",
              "D    0.091787\n",
              "Name: 2021-09-30 00:00:00, dtype: float64"
            ]
          },
          "metadata": {},
          "execution_count": 25
        }
      ]
    },
    {
      "cell_type": "code",
      "metadata": {
        "id": "12eWuxQ_x5sh",
        "colab": {
          "base_uri": "https://localhost:8080/",
          "height": 110
        },
        "outputId": "bfaa1ebc-9c9f-4d18-9a92-668285a00b44"
      },
      "source": [
        "# [다시 도전]\n",
        "# Select data for first two days AND comumn 3,4 from df.\n",
        "# Use iloc\n",
        "df.iloc[:2,2:4]\n",
        "\n",
        "# 중요\n"
      ],
      "execution_count": 26,
      "outputs": [
        {
          "output_type": "execute_result",
          "data": {
            "text/html": [
              "<div>\n",
              "<style scoped>\n",
              "    .dataframe tbody tr th:only-of-type {\n",
              "        vertical-align: middle;\n",
              "    }\n",
              "\n",
              "    .dataframe tbody tr th {\n",
              "        vertical-align: top;\n",
              "    }\n",
              "\n",
              "    .dataframe thead th {\n",
              "        text-align: right;\n",
              "    }\n",
              "</style>\n",
              "<table border=\"1\" class=\"dataframe\">\n",
              "  <thead>\n",
              "    <tr style=\"text-align: right;\">\n",
              "      <th></th>\n",
              "      <th>C</th>\n",
              "      <th>D</th>\n",
              "    </tr>\n",
              "  </thead>\n",
              "  <tbody>\n",
              "    <tr>\n",
              "      <th>2021-09-27</th>\n",
              "      <td>-0.067833</td>\n",
              "      <td>1.150965</td>\n",
              "    </tr>\n",
              "    <tr>\n",
              "      <th>2021-09-28</th>\n",
              "      <td>-0.308227</td>\n",
              "      <td>-0.344339</td>\n",
              "    </tr>\n",
              "  </tbody>\n",
              "</table>\n",
              "</div>"
            ],
            "text/plain": [
              "                   C         D\n",
              "2021-09-27 -0.067833  1.150965\n",
              "2021-09-28 -0.308227 -0.344339"
            ]
          },
          "metadata": {},
          "execution_count": 26
        }
      ]
    },
    {
      "cell_type": "code",
      "metadata": {
        "id": "_S-omW3hx5sn",
        "colab": {
          "base_uri": "https://localhost:8080/"
        },
        "outputId": "49cdb846-4a3f-497d-dfd6-fbaa61805067"
      },
      "source": [
        "# Select one item\n",
        "df.iloc[1,1]"
      ],
      "execution_count": 27,
      "outputs": [
        {
          "output_type": "execute_result",
          "data": {
            "text/plain": [
              "0.38883222169791254"
            ]
          },
          "metadata": {},
          "execution_count": 27
        }
      ]
    },
    {
      "cell_type": "code",
      "metadata": {
        "id": "fjAsIAidfVUQ",
        "colab": {
          "base_uri": "https://localhost:8080/",
          "height": 141
        },
        "outputId": "ece62e3f-fc01-4840-a300-1369dcd5bce0"
      },
      "source": [
        "# [DIY: 다시 도전]\n",
        "# Select data for first three days from df\n",
        "# Your code\n",
        "df.iloc[:3,:]\n",
        "# df[:3,:]"
      ],
      "execution_count": 28,
      "outputs": [
        {
          "output_type": "execute_result",
          "data": {
            "text/html": [
              "<div>\n",
              "<style scoped>\n",
              "    .dataframe tbody tr th:only-of-type {\n",
              "        vertical-align: middle;\n",
              "    }\n",
              "\n",
              "    .dataframe tbody tr th {\n",
              "        vertical-align: top;\n",
              "    }\n",
              "\n",
              "    .dataframe thead th {\n",
              "        text-align: right;\n",
              "    }\n",
              "</style>\n",
              "<table border=\"1\" class=\"dataframe\">\n",
              "  <thead>\n",
              "    <tr style=\"text-align: right;\">\n",
              "      <th></th>\n",
              "      <th>A</th>\n",
              "      <th>B</th>\n",
              "      <th>C</th>\n",
              "      <th>D</th>\n",
              "    </tr>\n",
              "  </thead>\n",
              "  <tbody>\n",
              "    <tr>\n",
              "      <th>2021-09-27</th>\n",
              "      <td>2.591463</td>\n",
              "      <td>-0.102097</td>\n",
              "      <td>-0.067833</td>\n",
              "      <td>1.150965</td>\n",
              "    </tr>\n",
              "    <tr>\n",
              "      <th>2021-09-28</th>\n",
              "      <td>-1.675110</td>\n",
              "      <td>0.388832</td>\n",
              "      <td>-0.308227</td>\n",
              "      <td>-0.344339</td>\n",
              "    </tr>\n",
              "    <tr>\n",
              "      <th>2021-09-29</th>\n",
              "      <td>0.025641</td>\n",
              "      <td>0.028679</td>\n",
              "      <td>-1.232947</td>\n",
              "      <td>1.115328</td>\n",
              "    </tr>\n",
              "  </tbody>\n",
              "</table>\n",
              "</div>"
            ],
            "text/plain": [
              "                   A         B         C         D\n",
              "2021-09-27  2.591463 -0.102097 -0.067833  1.150965\n",
              "2021-09-28 -1.675110  0.388832 -0.308227 -0.344339\n",
              "2021-09-29  0.025641  0.028679 -1.232947  1.115328"
            ]
          },
          "metadata": {},
          "execution_count": 28
        }
      ]
    },
    {
      "cell_type": "markdown",
      "metadata": {
        "id": "fDoWVVGHx5su"
      },
      "source": [
        "#### Selecting data by Boolean indexing"
      ]
    },
    {
      "cell_type": "code",
      "metadata": {
        "id": "CG7LipUrx5sv",
        "colab": {
          "base_uri": "https://localhost:8080/",
          "height": 232
        },
        "outputId": "89ece459-9fd9-4e96-8419-3e093232323d"
      },
      "source": [
        "df"
      ],
      "execution_count": 29,
      "outputs": [
        {
          "output_type": "execute_result",
          "data": {
            "text/html": [
              "<div>\n",
              "<style scoped>\n",
              "    .dataframe tbody tr th:only-of-type {\n",
              "        vertical-align: middle;\n",
              "    }\n",
              "\n",
              "    .dataframe tbody tr th {\n",
              "        vertical-align: top;\n",
              "    }\n",
              "\n",
              "    .dataframe thead th {\n",
              "        text-align: right;\n",
              "    }\n",
              "</style>\n",
              "<table border=\"1\" class=\"dataframe\">\n",
              "  <thead>\n",
              "    <tr style=\"text-align: right;\">\n",
              "      <th></th>\n",
              "      <th>A</th>\n",
              "      <th>B</th>\n",
              "      <th>C</th>\n",
              "      <th>D</th>\n",
              "    </tr>\n",
              "  </thead>\n",
              "  <tbody>\n",
              "    <tr>\n",
              "      <th>2021-09-27</th>\n",
              "      <td>2.591463</td>\n",
              "      <td>-0.102097</td>\n",
              "      <td>-0.067833</td>\n",
              "      <td>1.150965</td>\n",
              "    </tr>\n",
              "    <tr>\n",
              "      <th>2021-09-28</th>\n",
              "      <td>-1.675110</td>\n",
              "      <td>0.388832</td>\n",
              "      <td>-0.308227</td>\n",
              "      <td>-0.344339</td>\n",
              "    </tr>\n",
              "    <tr>\n",
              "      <th>2021-09-29</th>\n",
              "      <td>0.025641</td>\n",
              "      <td>0.028679</td>\n",
              "      <td>-1.232947</td>\n",
              "      <td>1.115328</td>\n",
              "    </tr>\n",
              "    <tr>\n",
              "      <th>2021-09-30</th>\n",
              "      <td>-1.030891</td>\n",
              "      <td>0.159446</td>\n",
              "      <td>-0.579179</td>\n",
              "      <td>0.091787</td>\n",
              "    </tr>\n",
              "    <tr>\n",
              "      <th>2021-10-01</th>\n",
              "      <td>0.116545</td>\n",
              "      <td>1.490358</td>\n",
              "      <td>0.195080</td>\n",
              "      <td>-0.707048</td>\n",
              "    </tr>\n",
              "    <tr>\n",
              "      <th>2021-10-02</th>\n",
              "      <td>0.299010</td>\n",
              "      <td>0.581867</td>\n",
              "      <td>0.671018</td>\n",
              "      <td>1.134164</td>\n",
              "    </tr>\n",
              "  </tbody>\n",
              "</table>\n",
              "</div>"
            ],
            "text/plain": [
              "                   A         B         C         D\n",
              "2021-09-27  2.591463 -0.102097 -0.067833  1.150965\n",
              "2021-09-28 -1.675110  0.388832 -0.308227 -0.344339\n",
              "2021-09-29  0.025641  0.028679 -1.232947  1.115328\n",
              "2021-09-30 -1.030891  0.159446 -0.579179  0.091787\n",
              "2021-10-01  0.116545  1.490358  0.195080 -0.707048\n",
              "2021-10-02  0.299010  0.581867  0.671018  1.134164"
            ]
          },
          "metadata": {},
          "execution_count": 29
        }
      ]
    },
    {
      "cell_type": "code",
      "metadata": {
        "id": "U5If1VEYx5sy",
        "colab": {
          "base_uri": "https://localhost:8080/",
          "height": 171
        },
        "outputId": "250e7e7a-44cb-419b-fcbf-dfb1ea19a548"
      },
      "source": [
        "df[df.A > 0]"
      ],
      "execution_count": 30,
      "outputs": [
        {
          "output_type": "execute_result",
          "data": {
            "text/html": [
              "<div>\n",
              "<style scoped>\n",
              "    .dataframe tbody tr th:only-of-type {\n",
              "        vertical-align: middle;\n",
              "    }\n",
              "\n",
              "    .dataframe tbody tr th {\n",
              "        vertical-align: top;\n",
              "    }\n",
              "\n",
              "    .dataframe thead th {\n",
              "        text-align: right;\n",
              "    }\n",
              "</style>\n",
              "<table border=\"1\" class=\"dataframe\">\n",
              "  <thead>\n",
              "    <tr style=\"text-align: right;\">\n",
              "      <th></th>\n",
              "      <th>A</th>\n",
              "      <th>B</th>\n",
              "      <th>C</th>\n",
              "      <th>D</th>\n",
              "    </tr>\n",
              "  </thead>\n",
              "  <tbody>\n",
              "    <tr>\n",
              "      <th>2021-09-27</th>\n",
              "      <td>2.591463</td>\n",
              "      <td>-0.102097</td>\n",
              "      <td>-0.067833</td>\n",
              "      <td>1.150965</td>\n",
              "    </tr>\n",
              "    <tr>\n",
              "      <th>2021-09-29</th>\n",
              "      <td>0.025641</td>\n",
              "      <td>0.028679</td>\n",
              "      <td>-1.232947</td>\n",
              "      <td>1.115328</td>\n",
              "    </tr>\n",
              "    <tr>\n",
              "      <th>2021-10-01</th>\n",
              "      <td>0.116545</td>\n",
              "      <td>1.490358</td>\n",
              "      <td>0.195080</td>\n",
              "      <td>-0.707048</td>\n",
              "    </tr>\n",
              "    <tr>\n",
              "      <th>2021-10-02</th>\n",
              "      <td>0.299010</td>\n",
              "      <td>0.581867</td>\n",
              "      <td>0.671018</td>\n",
              "      <td>1.134164</td>\n",
              "    </tr>\n",
              "  </tbody>\n",
              "</table>\n",
              "</div>"
            ],
            "text/plain": [
              "                   A         B         C         D\n",
              "2021-09-27  2.591463 -0.102097 -0.067833  1.150965\n",
              "2021-09-29  0.025641  0.028679 -1.232947  1.115328\n",
              "2021-10-01  0.116545  1.490358  0.195080 -0.707048\n",
              "2021-10-02  0.299010  0.581867  0.671018  1.134164"
            ]
          },
          "metadata": {},
          "execution_count": 30
        }
      ]
    },
    {
      "cell_type": "code",
      "metadata": {
        "id": "8WkB7Q5rx5s1",
        "colab": {
          "base_uri": "https://localhost:8080/",
          "height": 232
        },
        "outputId": "4b8bad23-45f7-4d10-a5d3-b5ce9e7a5bdd"
      },
      "source": [
        "df[df > 0]\n",
        "\n",
        "# True는 True의 값이 False는 NoN값이 출력"
      ],
      "execution_count": 31,
      "outputs": [
        {
          "output_type": "execute_result",
          "data": {
            "text/html": [
              "<div>\n",
              "<style scoped>\n",
              "    .dataframe tbody tr th:only-of-type {\n",
              "        vertical-align: middle;\n",
              "    }\n",
              "\n",
              "    .dataframe tbody tr th {\n",
              "        vertical-align: top;\n",
              "    }\n",
              "\n",
              "    .dataframe thead th {\n",
              "        text-align: right;\n",
              "    }\n",
              "</style>\n",
              "<table border=\"1\" class=\"dataframe\">\n",
              "  <thead>\n",
              "    <tr style=\"text-align: right;\">\n",
              "      <th></th>\n",
              "      <th>A</th>\n",
              "      <th>B</th>\n",
              "      <th>C</th>\n",
              "      <th>D</th>\n",
              "    </tr>\n",
              "  </thead>\n",
              "  <tbody>\n",
              "    <tr>\n",
              "      <th>2021-09-27</th>\n",
              "      <td>2.591463</td>\n",
              "      <td>NaN</td>\n",
              "      <td>NaN</td>\n",
              "      <td>1.150965</td>\n",
              "    </tr>\n",
              "    <tr>\n",
              "      <th>2021-09-28</th>\n",
              "      <td>NaN</td>\n",
              "      <td>0.388832</td>\n",
              "      <td>NaN</td>\n",
              "      <td>NaN</td>\n",
              "    </tr>\n",
              "    <tr>\n",
              "      <th>2021-09-29</th>\n",
              "      <td>0.025641</td>\n",
              "      <td>0.028679</td>\n",
              "      <td>NaN</td>\n",
              "      <td>1.115328</td>\n",
              "    </tr>\n",
              "    <tr>\n",
              "      <th>2021-09-30</th>\n",
              "      <td>NaN</td>\n",
              "      <td>0.159446</td>\n",
              "      <td>NaN</td>\n",
              "      <td>0.091787</td>\n",
              "    </tr>\n",
              "    <tr>\n",
              "      <th>2021-10-01</th>\n",
              "      <td>0.116545</td>\n",
              "      <td>1.490358</td>\n",
              "      <td>0.195080</td>\n",
              "      <td>NaN</td>\n",
              "    </tr>\n",
              "    <tr>\n",
              "      <th>2021-10-02</th>\n",
              "      <td>0.299010</td>\n",
              "      <td>0.581867</td>\n",
              "      <td>0.671018</td>\n",
              "      <td>1.134164</td>\n",
              "    </tr>\n",
              "  </tbody>\n",
              "</table>\n",
              "</div>"
            ],
            "text/plain": [
              "                   A         B         C         D\n",
              "2021-09-27  2.591463       NaN       NaN  1.150965\n",
              "2021-09-28       NaN  0.388832       NaN       NaN\n",
              "2021-09-29  0.025641  0.028679       NaN  1.115328\n",
              "2021-09-30       NaN  0.159446       NaN  0.091787\n",
              "2021-10-01  0.116545  1.490358  0.195080       NaN\n",
              "2021-10-02  0.299010  0.581867  0.671018  1.134164"
            ]
          },
          "metadata": {},
          "execution_count": 31
        }
      ]
    }
  ]
}