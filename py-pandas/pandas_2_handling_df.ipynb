{
  "nbformat": 4,
  "nbformat_minor": 0,
  "metadata": {
    "kernelspec": {
      "name": "python3",
      "display_name": "Python 3"
    },
    "language_info": {
      "codemirror_mode": {
        "name": "ipython",
        "version": 3
      },
      "file_extension": ".py",
      "mimetype": "text/x-python",
      "name": "python",
      "nbconvert_exporter": "python",
      "pygments_lexer": "ipython3",
      "version": "3.6.6"
    },
    "colab": {
      "name": "pandas_2_handling_df.ipynb",
      "provenance": [],
      "collapsed_sections": [],
      "include_colab_link": true
    }
  },
  "cells": [
    {
      "cell_type": "markdown",
      "metadata": {
        "id": "view-in-github",
        "colab_type": "text"
      },
      "source": [
        "<a href=\"https://colab.research.google.com/github/w2j1y12/pdm17/blob/main/py-pandas/pandas_2_handling_df.ipynb\" target=\"_parent\"><img src=\"https://colab.research.google.com/assets/colab-badge.svg\" alt=\"Open In Colab\"/></a>"
      ]
    },
    {
      "cell_type": "markdown",
      "metadata": {
        "id": "-a_Ksvwdx5pf"
      },
      "source": [
        "### Python module 3. **pandas**"
      ]
    },
    {
      "cell_type": "markdown",
      "metadata": {
        "id": "P_F0RSPKx5pl"
      },
      "source": [
        "# Using pandas"
      ]
    },
    {
      "cell_type": "markdown",
      "metadata": {
        "id": "FfxMgWUFx5pm"
      },
      "source": [
        "* [10 Minutes to pandas](https://pandas.pydata.org/pandas-docs/stable/10min.html)\n",
        "* [Pandas tutorial with interactive exercises](https://www.kaggle.com/pistak/pandas-tutorial-with-interactive-exercises)"
      ]
    },
    {
      "cell_type": "code",
      "metadata": {
        "id": "2mpGSeRlx5po"
      },
      "source": [
        "import pandas as pd\n",
        "import numpy as np\n",
        "import matplotlib.pyplot as plt\n",
        "# %matplotlib inline  # work for Jupyter notebook or lab"
      ],
      "execution_count": 1,
      "outputs": []
    },
    {
      "cell_type": "markdown",
      "metadata": {
        "id": "wq1nIp3F1fFB"
      },
      "source": [
        "\n",
        "\n",
        "---\n",
        "\n"
      ]
    },
    {
      "cell_type": "markdown",
      "metadata": {
        "id": "D3zoFQ4bx5qh"
      },
      "source": [
        "## [2] Handling DataFrame\n",
        "- head()\n",
        "- tail()\n",
        "- describe()\n",
        "- info()"
      ]
    },
    {
      "cell_type": "code",
      "metadata": {
        "id": "w2eNkCfLx5p-",
        "colab": {
          "base_uri": "https://localhost:8080/"
        },
        "outputId": "bfe44df2-799f-4362-dc0f-192f6e72e0aa"
      },
      "source": [
        "# Creating a DataFrame by passing a NumPy array, with a datetime index and labeled columns:\n",
        "dates = pd.date_range('20210927', periods=6)\n",
        "dates"
      ],
      "execution_count": 2,
      "outputs": [
        {
          "output_type": "execute_result",
          "data": {
            "text/plain": [
              "DatetimeIndex(['2021-09-27', '2021-09-28', '2021-09-29', '2021-09-30',\n",
              "               '2021-10-01', '2021-10-02'],\n",
              "              dtype='datetime64[ns]', freq='D')"
            ]
          },
          "metadata": {},
          "execution_count": 2
        }
      ]
    },
    {
      "cell_type": "code",
      "metadata": {
        "id": "dHwUodTGx5qj",
        "colab": {
          "base_uri": "https://localhost:8080/",
          "height": 204
        },
        "outputId": "2cec8852-5234-4874-b386-453cc1176cdc"
      },
      "source": [
        "# head()\n",
        "df = pd.DataFrame(np.random.randn(6,4), index=dates, columns=list('ABCD'))\n",
        "df.head() # 상단 행만 출력\n",
        "# default = 5"
      ],
      "execution_count": 8,
      "outputs": [
        {
          "output_type": "execute_result",
          "data": {
            "text/html": [
              "<div>\n",
              "<style scoped>\n",
              "    .dataframe tbody tr th:only-of-type {\n",
              "        vertical-align: middle;\n",
              "    }\n",
              "\n",
              "    .dataframe tbody tr th {\n",
              "        vertical-align: top;\n",
              "    }\n",
              "\n",
              "    .dataframe thead th {\n",
              "        text-align: right;\n",
              "    }\n",
              "</style>\n",
              "<table border=\"1\" class=\"dataframe\">\n",
              "  <thead>\n",
              "    <tr style=\"text-align: right;\">\n",
              "      <th></th>\n",
              "      <th>A</th>\n",
              "      <th>B</th>\n",
              "      <th>C</th>\n",
              "      <th>D</th>\n",
              "    </tr>\n",
              "  </thead>\n",
              "  <tbody>\n",
              "    <tr>\n",
              "      <th>2021-09-27</th>\n",
              "      <td>-0.102040</td>\n",
              "      <td>2.426678</td>\n",
              "      <td>1.410468</td>\n",
              "      <td>0.063679</td>\n",
              "    </tr>\n",
              "    <tr>\n",
              "      <th>2021-09-28</th>\n",
              "      <td>-0.485335</td>\n",
              "      <td>-0.931592</td>\n",
              "      <td>-0.772073</td>\n",
              "      <td>-1.119034</td>\n",
              "    </tr>\n",
              "    <tr>\n",
              "      <th>2021-09-29</th>\n",
              "      <td>0.726142</td>\n",
              "      <td>0.682277</td>\n",
              "      <td>0.868881</td>\n",
              "      <td>-0.455642</td>\n",
              "    </tr>\n",
              "    <tr>\n",
              "      <th>2021-09-30</th>\n",
              "      <td>0.798053</td>\n",
              "      <td>-0.022322</td>\n",
              "      <td>1.528496</td>\n",
              "      <td>0.399777</td>\n",
              "    </tr>\n",
              "    <tr>\n",
              "      <th>2021-10-01</th>\n",
              "      <td>0.212409</td>\n",
              "      <td>-0.080389</td>\n",
              "      <td>-0.450908</td>\n",
              "      <td>2.204523</td>\n",
              "    </tr>\n",
              "  </tbody>\n",
              "</table>\n",
              "</div>"
            ],
            "text/plain": [
              "                   A         B         C         D\n",
              "2021-09-27 -0.102040  2.426678  1.410468  0.063679\n",
              "2021-09-28 -0.485335 -0.931592 -0.772073 -1.119034\n",
              "2021-09-29  0.726142  0.682277  0.868881 -0.455642\n",
              "2021-09-30  0.798053 -0.022322  1.528496  0.399777\n",
              "2021-10-01  0.212409 -0.080389 -0.450908  2.204523"
            ]
          },
          "metadata": {},
          "execution_count": 8
        }
      ]
    },
    {
      "cell_type": "code",
      "metadata": {
        "id": "OvYDoBVE1og9",
        "colab": {
          "base_uri": "https://localhost:8080/",
          "height": 111
        },
        "outputId": "819552a4-b286-4e6d-f0e9-7c3733e23414"
      },
      "source": [
        "df.head(2)"
      ],
      "execution_count": 9,
      "outputs": [
        {
          "output_type": "execute_result",
          "data": {
            "text/html": [
              "<div>\n",
              "<style scoped>\n",
              "    .dataframe tbody tr th:only-of-type {\n",
              "        vertical-align: middle;\n",
              "    }\n",
              "\n",
              "    .dataframe tbody tr th {\n",
              "        vertical-align: top;\n",
              "    }\n",
              "\n",
              "    .dataframe thead th {\n",
              "        text-align: right;\n",
              "    }\n",
              "</style>\n",
              "<table border=\"1\" class=\"dataframe\">\n",
              "  <thead>\n",
              "    <tr style=\"text-align: right;\">\n",
              "      <th></th>\n",
              "      <th>A</th>\n",
              "      <th>B</th>\n",
              "      <th>C</th>\n",
              "      <th>D</th>\n",
              "    </tr>\n",
              "  </thead>\n",
              "  <tbody>\n",
              "    <tr>\n",
              "      <th>2021-09-27</th>\n",
              "      <td>-0.102040</td>\n",
              "      <td>2.426678</td>\n",
              "      <td>1.410468</td>\n",
              "      <td>0.063679</td>\n",
              "    </tr>\n",
              "    <tr>\n",
              "      <th>2021-09-28</th>\n",
              "      <td>-0.485335</td>\n",
              "      <td>-0.931592</td>\n",
              "      <td>-0.772073</td>\n",
              "      <td>-1.119034</td>\n",
              "    </tr>\n",
              "  </tbody>\n",
              "</table>\n",
              "</div>"
            ],
            "text/plain": [
              "                   A         B         C         D\n",
              "2021-09-27 -0.102040  2.426678  1.410468  0.063679\n",
              "2021-09-28 -0.485335 -0.931592 -0.772073 -1.119034"
            ]
          },
          "metadata": {},
          "execution_count": 9
        }
      ]
    },
    {
      "cell_type": "code",
      "metadata": {
        "id": "LzWwuDWDx5qo",
        "colab": {
          "base_uri": "https://localhost:8080/",
          "height": 142
        },
        "outputId": "396a5fc0-4722-4eca-ca83-3add0cbc330a"
      },
      "source": [
        "df.tail(3) # 아래부분"
      ],
      "execution_count": 10,
      "outputs": [
        {
          "output_type": "execute_result",
          "data": {
            "text/html": [
              "<div>\n",
              "<style scoped>\n",
              "    .dataframe tbody tr th:only-of-type {\n",
              "        vertical-align: middle;\n",
              "    }\n",
              "\n",
              "    .dataframe tbody tr th {\n",
              "        vertical-align: top;\n",
              "    }\n",
              "\n",
              "    .dataframe thead th {\n",
              "        text-align: right;\n",
              "    }\n",
              "</style>\n",
              "<table border=\"1\" class=\"dataframe\">\n",
              "  <thead>\n",
              "    <tr style=\"text-align: right;\">\n",
              "      <th></th>\n",
              "      <th>A</th>\n",
              "      <th>B</th>\n",
              "      <th>C</th>\n",
              "      <th>D</th>\n",
              "    </tr>\n",
              "  </thead>\n",
              "  <tbody>\n",
              "    <tr>\n",
              "      <th>2021-09-30</th>\n",
              "      <td>0.798053</td>\n",
              "      <td>-0.022322</td>\n",
              "      <td>1.528496</td>\n",
              "      <td>0.399777</td>\n",
              "    </tr>\n",
              "    <tr>\n",
              "      <th>2021-10-01</th>\n",
              "      <td>0.212409</td>\n",
              "      <td>-0.080389</td>\n",
              "      <td>-0.450908</td>\n",
              "      <td>2.204523</td>\n",
              "    </tr>\n",
              "    <tr>\n",
              "      <th>2021-10-02</th>\n",
              "      <td>0.254639</td>\n",
              "      <td>-0.469830</td>\n",
              "      <td>0.263443</td>\n",
              "      <td>0.017610</td>\n",
              "    </tr>\n",
              "  </tbody>\n",
              "</table>\n",
              "</div>"
            ],
            "text/plain": [
              "                   A         B         C         D\n",
              "2021-09-30  0.798053 -0.022322  1.528496  0.399777\n",
              "2021-10-01  0.212409 -0.080389 -0.450908  2.204523\n",
              "2021-10-02  0.254639 -0.469830  0.263443  0.017610"
            ]
          },
          "metadata": {},
          "execution_count": 10
        }
      ]
    },
    {
      "cell_type": "code",
      "metadata": {
        "id": "rJLH024Zx5qs",
        "colab": {
          "base_uri": "https://localhost:8080/"
        },
        "outputId": "dd8f8ea9-3609-4971-da3d-b5017203b699"
      },
      "source": [
        "# Display the index, columns, and the underlying NumPy data:\n",
        "df.index"
      ],
      "execution_count": 11,
      "outputs": [
        {
          "output_type": "execute_result",
          "data": {
            "text/plain": [
              "DatetimeIndex(['2021-09-27', '2021-09-28', '2021-09-29', '2021-09-30',\n",
              "               '2021-10-01', '2021-10-02'],\n",
              "              dtype='datetime64[ns]', freq='D')"
            ]
          },
          "metadata": {},
          "execution_count": 11
        }
      ]
    },
    {
      "cell_type": "code",
      "metadata": {
        "id": "edrGpQlLc0dt",
        "colab": {
          "base_uri": "https://localhost:8080/"
        },
        "outputId": "d38292bb-fbee-42b1-be84-d8fd38c8e82b"
      },
      "source": [
        "df.columns"
      ],
      "execution_count": 12,
      "outputs": [
        {
          "output_type": "execute_result",
          "data": {
            "text/plain": [
              "Index(['A', 'B', 'C', 'D'], dtype='object')"
            ]
          },
          "metadata": {},
          "execution_count": 12
        }
      ]
    },
    {
      "cell_type": "code",
      "metadata": {
        "id": "TB-CHW85x5rA",
        "colab": {
          "base_uri": "https://localhost:8080/"
        },
        "outputId": "cae7bd0b-7d95-4fa2-b3dd-3a31b709b2b4"
      },
      "source": [
        "df.info()\n",
        "# 데이터 프레임은 4개의 변수로, columns은  Non-Null = 값이 다 있는 것(0도 값임)"
      ],
      "execution_count": 13,
      "outputs": [
        {
          "output_type": "stream",
          "name": "stdout",
          "text": [
            "<class 'pandas.core.frame.DataFrame'>\n",
            "DatetimeIndex: 6 entries, 2021-09-27 to 2021-10-02\n",
            "Freq: D\n",
            "Data columns (total 4 columns):\n",
            " #   Column  Non-Null Count  Dtype  \n",
            "---  ------  --------------  -----  \n",
            " 0   A       6 non-null      float64\n",
            " 1   B       6 non-null      float64\n",
            " 2   C       6 non-null      float64\n",
            " 3   D       6 non-null      float64\n",
            "dtypes: float64(4)\n",
            "memory usage: 240.0 bytes\n"
          ]
        }
      ]
    },
    {
      "cell_type": "code",
      "metadata": {
        "id": "PEzVmjUAx5q7",
        "colab": {
          "base_uri": "https://localhost:8080/",
          "height": 297
        },
        "outputId": "1366ebfb-a9e8-4de5-ba91-3ee73726c55f"
      },
      "source": [
        "# describe() shows a quick statistic summary of your data:\n",
        "df.describe()"
      ],
      "execution_count": 14,
      "outputs": [
        {
          "output_type": "execute_result",
          "data": {
            "text/html": [
              "<div>\n",
              "<style scoped>\n",
              "    .dataframe tbody tr th:only-of-type {\n",
              "        vertical-align: middle;\n",
              "    }\n",
              "\n",
              "    .dataframe tbody tr th {\n",
              "        vertical-align: top;\n",
              "    }\n",
              "\n",
              "    .dataframe thead th {\n",
              "        text-align: right;\n",
              "    }\n",
              "</style>\n",
              "<table border=\"1\" class=\"dataframe\">\n",
              "  <thead>\n",
              "    <tr style=\"text-align: right;\">\n",
              "      <th></th>\n",
              "      <th>A</th>\n",
              "      <th>B</th>\n",
              "      <th>C</th>\n",
              "      <th>D</th>\n",
              "    </tr>\n",
              "  </thead>\n",
              "  <tbody>\n",
              "    <tr>\n",
              "      <th>count</th>\n",
              "      <td>6.000000</td>\n",
              "      <td>6.000000</td>\n",
              "      <td>6.000000</td>\n",
              "      <td>6.000000</td>\n",
              "    </tr>\n",
              "    <tr>\n",
              "      <th>mean</th>\n",
              "      <td>0.233978</td>\n",
              "      <td>0.267470</td>\n",
              "      <td>0.474718</td>\n",
              "      <td>0.185152</td>\n",
              "    </tr>\n",
              "    <tr>\n",
              "      <th>std</th>\n",
              "      <td>0.488184</td>\n",
              "      <td>1.184955</td>\n",
              "      <td>0.958890</td>\n",
              "      <td>1.120559</td>\n",
              "    </tr>\n",
              "    <tr>\n",
              "      <th>min</th>\n",
              "      <td>-0.485335</td>\n",
              "      <td>-0.931592</td>\n",
              "      <td>-0.772073</td>\n",
              "      <td>-1.119034</td>\n",
              "    </tr>\n",
              "    <tr>\n",
              "      <th>25%</th>\n",
              "      <td>-0.023427</td>\n",
              "      <td>-0.372470</td>\n",
              "      <td>-0.272321</td>\n",
              "      <td>-0.337329</td>\n",
              "    </tr>\n",
              "    <tr>\n",
              "      <th>50%</th>\n",
              "      <td>0.233524</td>\n",
              "      <td>-0.051355</td>\n",
              "      <td>0.566162</td>\n",
              "      <td>0.040645</td>\n",
              "    </tr>\n",
              "    <tr>\n",
              "      <th>75%</th>\n",
              "      <td>0.608266</td>\n",
              "      <td>0.506127</td>\n",
              "      <td>1.275071</td>\n",
              "      <td>0.315753</td>\n",
              "    </tr>\n",
              "    <tr>\n",
              "      <th>max</th>\n",
              "      <td>0.798053</td>\n",
              "      <td>2.426678</td>\n",
              "      <td>1.528496</td>\n",
              "      <td>2.204523</td>\n",
              "    </tr>\n",
              "  </tbody>\n",
              "</table>\n",
              "</div>"
            ],
            "text/plain": [
              "              A         B         C         D\n",
              "count  6.000000  6.000000  6.000000  6.000000\n",
              "mean   0.233978  0.267470  0.474718  0.185152\n",
              "std    0.488184  1.184955  0.958890  1.120559\n",
              "min   -0.485335 -0.931592 -0.772073 -1.119034\n",
              "25%   -0.023427 -0.372470 -0.272321 -0.337329\n",
              "50%    0.233524 -0.051355  0.566162  0.040645\n",
              "75%    0.608266  0.506127  1.275071  0.315753\n",
              "max    0.798053  2.426678  1.528496  2.204523"
            ]
          },
          "metadata": {},
          "execution_count": 14
        }
      ]
    },
    {
      "cell_type": "code",
      "metadata": {
        "id": "ExhpF6H8dDKo",
        "colab": {
          "base_uri": "https://localhost:8080/",
          "height": 173
        },
        "outputId": "71937cab-292f-4c53-cb0e-fb71c3b6e6e9"
      },
      "source": [
        "df.describe().T"
      ],
      "execution_count": 15,
      "outputs": [
        {
          "output_type": "execute_result",
          "data": {
            "text/html": [
              "<div>\n",
              "<style scoped>\n",
              "    .dataframe tbody tr th:only-of-type {\n",
              "        vertical-align: middle;\n",
              "    }\n",
              "\n",
              "    .dataframe tbody tr th {\n",
              "        vertical-align: top;\n",
              "    }\n",
              "\n",
              "    .dataframe thead th {\n",
              "        text-align: right;\n",
              "    }\n",
              "</style>\n",
              "<table border=\"1\" class=\"dataframe\">\n",
              "  <thead>\n",
              "    <tr style=\"text-align: right;\">\n",
              "      <th></th>\n",
              "      <th>count</th>\n",
              "      <th>mean</th>\n",
              "      <th>std</th>\n",
              "      <th>min</th>\n",
              "      <th>25%</th>\n",
              "      <th>50%</th>\n",
              "      <th>75%</th>\n",
              "      <th>max</th>\n",
              "    </tr>\n",
              "  </thead>\n",
              "  <tbody>\n",
              "    <tr>\n",
              "      <th>A</th>\n",
              "      <td>6.0</td>\n",
              "      <td>0.233978</td>\n",
              "      <td>0.488184</td>\n",
              "      <td>-0.485335</td>\n",
              "      <td>-0.023427</td>\n",
              "      <td>0.233524</td>\n",
              "      <td>0.608266</td>\n",
              "      <td>0.798053</td>\n",
              "    </tr>\n",
              "    <tr>\n",
              "      <th>B</th>\n",
              "      <td>6.0</td>\n",
              "      <td>0.267470</td>\n",
              "      <td>1.184955</td>\n",
              "      <td>-0.931592</td>\n",
              "      <td>-0.372470</td>\n",
              "      <td>-0.051355</td>\n",
              "      <td>0.506127</td>\n",
              "      <td>2.426678</td>\n",
              "    </tr>\n",
              "    <tr>\n",
              "      <th>C</th>\n",
              "      <td>6.0</td>\n",
              "      <td>0.474718</td>\n",
              "      <td>0.958890</td>\n",
              "      <td>-0.772073</td>\n",
              "      <td>-0.272321</td>\n",
              "      <td>0.566162</td>\n",
              "      <td>1.275071</td>\n",
              "      <td>1.528496</td>\n",
              "    </tr>\n",
              "    <tr>\n",
              "      <th>D</th>\n",
              "      <td>6.0</td>\n",
              "      <td>0.185152</td>\n",
              "      <td>1.120559</td>\n",
              "      <td>-1.119034</td>\n",
              "      <td>-0.337329</td>\n",
              "      <td>0.040645</td>\n",
              "      <td>0.315753</td>\n",
              "      <td>2.204523</td>\n",
              "    </tr>\n",
              "  </tbody>\n",
              "</table>\n",
              "</div>"
            ],
            "text/plain": [
              "   count      mean       std       min       25%       50%       75%       max\n",
              "A    6.0  0.233978  0.488184 -0.485335 -0.023427  0.233524  0.608266  0.798053\n",
              "B    6.0  0.267470  1.184955 -0.931592 -0.372470 -0.051355  0.506127  2.426678\n",
              "C    6.0  0.474718  0.958890 -0.772073 -0.272321  0.566162  1.275071  1.528496\n",
              "D    6.0  0.185152  1.120559 -1.119034 -0.337329  0.040645  0.315753  2.204523"
            ]
          },
          "metadata": {},
          "execution_count": 15
        }
      ]
    },
    {
      "cell_type": "code",
      "metadata": {
        "colab": {
          "base_uri": "https://localhost:8080/",
          "height": 235
        },
        "id": "rMpc_1QyzYD5",
        "outputId": "c1e1f60d-0b27-46d6-d196-1ae5932dfdbe"
      },
      "source": [
        "df"
      ],
      "execution_count": 17,
      "outputs": [
        {
          "output_type": "execute_result",
          "data": {
            "text/html": [
              "<div>\n",
              "<style scoped>\n",
              "    .dataframe tbody tr th:only-of-type {\n",
              "        vertical-align: middle;\n",
              "    }\n",
              "\n",
              "    .dataframe tbody tr th {\n",
              "        vertical-align: top;\n",
              "    }\n",
              "\n",
              "    .dataframe thead th {\n",
              "        text-align: right;\n",
              "    }\n",
              "</style>\n",
              "<table border=\"1\" class=\"dataframe\">\n",
              "  <thead>\n",
              "    <tr style=\"text-align: right;\">\n",
              "      <th></th>\n",
              "      <th>A</th>\n",
              "      <th>B</th>\n",
              "      <th>C</th>\n",
              "      <th>D</th>\n",
              "    </tr>\n",
              "  </thead>\n",
              "  <tbody>\n",
              "    <tr>\n",
              "      <th>2021-09-27</th>\n",
              "      <td>-0.102040</td>\n",
              "      <td>2.426678</td>\n",
              "      <td>1.410468</td>\n",
              "      <td>0.063679</td>\n",
              "    </tr>\n",
              "    <tr>\n",
              "      <th>2021-09-28</th>\n",
              "      <td>-0.485335</td>\n",
              "      <td>-0.931592</td>\n",
              "      <td>-0.772073</td>\n",
              "      <td>-1.119034</td>\n",
              "    </tr>\n",
              "    <tr>\n",
              "      <th>2021-09-29</th>\n",
              "      <td>0.726142</td>\n",
              "      <td>0.682277</td>\n",
              "      <td>0.868881</td>\n",
              "      <td>-0.455642</td>\n",
              "    </tr>\n",
              "    <tr>\n",
              "      <th>2021-09-30</th>\n",
              "      <td>0.798053</td>\n",
              "      <td>-0.022322</td>\n",
              "      <td>1.528496</td>\n",
              "      <td>0.399777</td>\n",
              "    </tr>\n",
              "    <tr>\n",
              "      <th>2021-10-01</th>\n",
              "      <td>0.212409</td>\n",
              "      <td>-0.080389</td>\n",
              "      <td>-0.450908</td>\n",
              "      <td>2.204523</td>\n",
              "    </tr>\n",
              "    <tr>\n",
              "      <th>2021-10-02</th>\n",
              "      <td>0.254639</td>\n",
              "      <td>-0.469830</td>\n",
              "      <td>0.263443</td>\n",
              "      <td>0.017610</td>\n",
              "    </tr>\n",
              "  </tbody>\n",
              "</table>\n",
              "</div>"
            ],
            "text/plain": [
              "                   A         B         C         D\n",
              "2021-09-27 -0.102040  2.426678  1.410468  0.063679\n",
              "2021-09-28 -0.485335 -0.931592 -0.772073 -1.119034\n",
              "2021-09-29  0.726142  0.682277  0.868881 -0.455642\n",
              "2021-09-30  0.798053 -0.022322  1.528496  0.399777\n",
              "2021-10-01  0.212409 -0.080389 -0.450908  2.204523\n",
              "2021-10-02  0.254639 -0.469830  0.263443  0.017610"
            ]
          },
          "metadata": {},
          "execution_count": 17
        }
      ]
    },
    {
      "cell_type": "code",
      "metadata": {
        "id": "Br9VwFVex5rE",
        "colab": {
          "base_uri": "https://localhost:8080/",
          "height": 173
        },
        "outputId": "7985f1a1-bcbd-4597-e58f-f0fe029abf2f"
      },
      "source": [
        "# Transposing your dataframe:\n",
        "df.T"
      ],
      "execution_count": 16,
      "outputs": [
        {
          "output_type": "execute_result",
          "data": {
            "text/html": [
              "<div>\n",
              "<style scoped>\n",
              "    .dataframe tbody tr th:only-of-type {\n",
              "        vertical-align: middle;\n",
              "    }\n",
              "\n",
              "    .dataframe tbody tr th {\n",
              "        vertical-align: top;\n",
              "    }\n",
              "\n",
              "    .dataframe thead th {\n",
              "        text-align: right;\n",
              "    }\n",
              "</style>\n",
              "<table border=\"1\" class=\"dataframe\">\n",
              "  <thead>\n",
              "    <tr style=\"text-align: right;\">\n",
              "      <th></th>\n",
              "      <th>2021-09-27</th>\n",
              "      <th>2021-09-28</th>\n",
              "      <th>2021-09-29</th>\n",
              "      <th>2021-09-30</th>\n",
              "      <th>2021-10-01</th>\n",
              "      <th>2021-10-02</th>\n",
              "    </tr>\n",
              "  </thead>\n",
              "  <tbody>\n",
              "    <tr>\n",
              "      <th>A</th>\n",
              "      <td>-0.102040</td>\n",
              "      <td>-0.485335</td>\n",
              "      <td>0.726142</td>\n",
              "      <td>0.798053</td>\n",
              "      <td>0.212409</td>\n",
              "      <td>0.254639</td>\n",
              "    </tr>\n",
              "    <tr>\n",
              "      <th>B</th>\n",
              "      <td>2.426678</td>\n",
              "      <td>-0.931592</td>\n",
              "      <td>0.682277</td>\n",
              "      <td>-0.022322</td>\n",
              "      <td>-0.080389</td>\n",
              "      <td>-0.469830</td>\n",
              "    </tr>\n",
              "    <tr>\n",
              "      <th>C</th>\n",
              "      <td>1.410468</td>\n",
              "      <td>-0.772073</td>\n",
              "      <td>0.868881</td>\n",
              "      <td>1.528496</td>\n",
              "      <td>-0.450908</td>\n",
              "      <td>0.263443</td>\n",
              "    </tr>\n",
              "    <tr>\n",
              "      <th>D</th>\n",
              "      <td>0.063679</td>\n",
              "      <td>-1.119034</td>\n",
              "      <td>-0.455642</td>\n",
              "      <td>0.399777</td>\n",
              "      <td>2.204523</td>\n",
              "      <td>0.017610</td>\n",
              "    </tr>\n",
              "  </tbody>\n",
              "</table>\n",
              "</div>"
            ],
            "text/plain": [
              "   2021-09-27  2021-09-28  2021-09-29  2021-09-30  2021-10-01  2021-10-02\n",
              "A   -0.102040   -0.485335    0.726142    0.798053    0.212409    0.254639\n",
              "B    2.426678   -0.931592    0.682277   -0.022322   -0.080389   -0.469830\n",
              "C    1.410468   -0.772073    0.868881    1.528496   -0.450908    0.263443\n",
              "D    0.063679   -1.119034   -0.455642    0.399777    2.204523    0.017610"
            ]
          },
          "metadata": {},
          "execution_count": 16
        }
      ]
    },
    {
      "cell_type": "code",
      "metadata": {
        "id": "vkg1gQUVLoy9",
        "colab": {
          "base_uri": "https://localhost:8080/"
        },
        "outputId": "05ae18c5-4ace-457a-8dea-b896b0da1aa1"
      },
      "source": [
        "df.T.index"
      ],
      "execution_count": 18,
      "outputs": [
        {
          "output_type": "execute_result",
          "data": {
            "text/plain": [
              "Index(['A', 'B', 'C', 'D'], dtype='object')"
            ]
          },
          "metadata": {},
          "execution_count": 18
        }
      ]
    },
    {
      "cell_type": "markdown",
      "metadata": {
        "id": "A4lHGd4px5rU"
      },
      "source": [
        "### Sorting"
      ]
    },
    {
      "cell_type": "markdown",
      "metadata": {
        "id": "jlXuIbzD6oUD"
      },
      "source": [
        "#### Sort by index\n",
        "- sort_index(axis=0, ascending=False)\n",
        "- sort_index(axis=1, ascending=False)\n",
        "\n",
        "> Axis=0 Column-Wise Operation (수직으로)\n",
        "\n",
        "> Axis=1 Row-Wise Operation (수평으로)"
      ]
    },
    {
      "cell_type": "code",
      "metadata": {
        "id": "RM9Rlk64x5rW",
        "colab": {
          "base_uri": "https://localhost:8080/"
        },
        "outputId": "882f0087-a27b-4197-8ee2-c7af62d3f4be"
      },
      "source": [
        "# Sorting by an axis:\n",
        "df, df.sort_index(axis=0, ascending=False)\n",
        "\n",
        "# ascending default = True\n",
        "# ascending 내림차순으로 정렬하는 거인듯?\n",
        "# ascending=False 하니까 역순으로 제일 근래의 값부터 나옴"
      ],
      "execution_count": 25,
      "outputs": [
        {
          "output_type": "execute_result",
          "data": {
            "text/plain": [
              "(                   A         B         C         D\n",
              " 2021-09-27 -0.102040  2.426678  1.410468  0.063679\n",
              " 2021-09-28 -0.485335 -0.931592 -0.772073 -1.119034\n",
              " 2021-09-29  0.726142  0.682277  0.868881 -0.455642\n",
              " 2021-09-30  0.798053 -0.022322  1.528496  0.399777\n",
              " 2021-10-01  0.212409 -0.080389 -0.450908  2.204523\n",
              " 2021-10-02  0.254639 -0.469830  0.263443  0.017610,\n",
              "                    A         B         C         D\n",
              " 2021-10-02  0.254639 -0.469830  0.263443  0.017610\n",
              " 2021-10-01  0.212409 -0.080389 -0.450908  2.204523\n",
              " 2021-09-30  0.798053 -0.022322  1.528496  0.399777\n",
              " 2021-09-29  0.726142  0.682277  0.868881 -0.455642\n",
              " 2021-09-28 -0.485335 -0.931592 -0.772073 -1.119034\n",
              " 2021-09-27 -0.102040  2.426678  1.410468  0.063679)"
            ]
          },
          "metadata": {},
          "execution_count": 25
        }
      ]
    },
    {
      "cell_type": "code",
      "metadata": {
        "id": "w_7d__Hsx5rb",
        "colab": {
          "base_uri": "https://localhost:8080/"
        },
        "outputId": "d59350da-e23d-4c17-c392-1ff82273ea0b"
      },
      "source": [
        "df,df.sort_index(axis=1, ascending=False)"
      ],
      "execution_count": 24,
      "outputs": [
        {
          "output_type": "execute_result",
          "data": {
            "text/plain": [
              "(                   A         B         C         D\n",
              " 2021-09-27 -0.102040  2.426678  1.410468  0.063679\n",
              " 2021-09-28 -0.485335 -0.931592 -0.772073 -1.119034\n",
              " 2021-09-29  0.726142  0.682277  0.868881 -0.455642\n",
              " 2021-09-30  0.798053 -0.022322  1.528496  0.399777\n",
              " 2021-10-01  0.212409 -0.080389 -0.450908  2.204523\n",
              " 2021-10-02  0.254639 -0.469830  0.263443  0.017610,\n",
              "                    D         C         B         A\n",
              " 2021-09-27  0.063679  1.410468  2.426678 -0.102040\n",
              " 2021-09-28 -1.119034 -0.772073 -0.931592 -0.485335\n",
              " 2021-09-29 -0.455642  0.868881  0.682277  0.726142\n",
              " 2021-09-30  0.399777  1.528496 -0.022322  0.798053\n",
              " 2021-10-01  2.204523 -0.450908 -0.080389  0.212409\n",
              " 2021-10-02  0.017610  0.263443 -0.469830  0.254639)"
            ]
          },
          "metadata": {},
          "execution_count": 24
        }
      ]
    },
    {
      "cell_type": "markdown",
      "metadata": {
        "id": "8J59I-KW6yNK"
      },
      "source": [
        "#### Sort by value\n",
        "- sort_values(by='column')"
      ]
    },
    {
      "cell_type": "code",
      "metadata": {
        "id": "VJw7_sTLx5rg",
        "colab": {
          "base_uri": "https://localhost:8080/"
        },
        "outputId": "8960d3a6-4f5f-45b4-8042-61810e483b32"
      },
      "source": [
        "# Sorting by values:\n",
        "df,df.sort_values(by='B') #, ascending=False)\n",
        "\n",
        "# B열을 기준으로 재정렬"
      ],
      "execution_count": 26,
      "outputs": [
        {
          "output_type": "execute_result",
          "data": {
            "text/plain": [
              "(                   A         B         C         D\n",
              " 2021-09-27 -0.102040  2.426678  1.410468  0.063679\n",
              " 2021-09-28 -0.485335 -0.931592 -0.772073 -1.119034\n",
              " 2021-09-29  0.726142  0.682277  0.868881 -0.455642\n",
              " 2021-09-30  0.798053 -0.022322  1.528496  0.399777\n",
              " 2021-10-01  0.212409 -0.080389 -0.450908  2.204523\n",
              " 2021-10-02  0.254639 -0.469830  0.263443  0.017610,\n",
              "                    A         B         C         D\n",
              " 2021-09-28 -0.485335 -0.931592 -0.772073 -1.119034\n",
              " 2021-10-02  0.254639 -0.469830  0.263443  0.017610\n",
              " 2021-10-01  0.212409 -0.080389 -0.450908  2.204523\n",
              " 2021-09-30  0.798053 -0.022322  1.528496  0.399777\n",
              " 2021-09-29  0.726142  0.682277  0.868881 -0.455642\n",
              " 2021-09-27 -0.102040  2.426678  1.410468  0.063679)"
            ]
          },
          "metadata": {},
          "execution_count": 26
        }
      ]
    },
    {
      "cell_type": "markdown",
      "metadata": {
        "id": "rBW0-saPPGbN"
      },
      "source": [
        "## indexing and slicing of DataFrame"
      ]
    },
    {
      "cell_type": "markdown",
      "metadata": {
        "id": "oH89Wa-ix5rq"
      },
      "source": [
        "#### Selecting data by indexing and slicing\n",
        "- indexing\n",
        "- slicing\n"
      ]
    },
    {
      "cell_type": "code",
      "metadata": {
        "id": "YufIBMYzx5ru",
        "colab": {
          "base_uri": "https://localhost:8080/"
        },
        "outputId": "181f764e-bfdd-44a2-c7b3-b9acebcfc107"
      },
      "source": [
        "# Selecting a single column, which yields a Series\n",
        "df['A']\n",
        "\n",
        "# A의 인덱스(날짜)와 값이 나옴"
      ],
      "execution_count": 27,
      "outputs": [
        {
          "output_type": "execute_result",
          "data": {
            "text/plain": [
              "2021-09-27   -0.102040\n",
              "2021-09-28   -0.485335\n",
              "2021-09-29    0.726142\n",
              "2021-09-30    0.798053\n",
              "2021-10-01    0.212409\n",
              "2021-10-02    0.254639\n",
              "Freq: D, Name: A, dtype: float64"
            ]
          },
          "metadata": {},
          "execution_count": 27
        }
      ]
    },
    {
      "cell_type": "code",
      "metadata": {
        "id": "ijxuNMS5x5r3",
        "colab": {
          "base_uri": "https://localhost:8080/",
          "height": 142
        },
        "outputId": "4a41b7d3-ece6-4e89-8a22-599f18fa45d7"
      },
      "source": [
        "# Selecting via [], which slices the rows.\n",
        "df[0:3]"
      ],
      "execution_count": 28,
      "outputs": [
        {
          "output_type": "execute_result",
          "data": {
            "text/html": [
              "<div>\n",
              "<style scoped>\n",
              "    .dataframe tbody tr th:only-of-type {\n",
              "        vertical-align: middle;\n",
              "    }\n",
              "\n",
              "    .dataframe tbody tr th {\n",
              "        vertical-align: top;\n",
              "    }\n",
              "\n",
              "    .dataframe thead th {\n",
              "        text-align: right;\n",
              "    }\n",
              "</style>\n",
              "<table border=\"1\" class=\"dataframe\">\n",
              "  <thead>\n",
              "    <tr style=\"text-align: right;\">\n",
              "      <th></th>\n",
              "      <th>A</th>\n",
              "      <th>B</th>\n",
              "      <th>C</th>\n",
              "      <th>D</th>\n",
              "    </tr>\n",
              "  </thead>\n",
              "  <tbody>\n",
              "    <tr>\n",
              "      <th>2021-09-27</th>\n",
              "      <td>-0.102040</td>\n",
              "      <td>2.426678</td>\n",
              "      <td>1.410468</td>\n",
              "      <td>0.063679</td>\n",
              "    </tr>\n",
              "    <tr>\n",
              "      <th>2021-09-28</th>\n",
              "      <td>-0.485335</td>\n",
              "      <td>-0.931592</td>\n",
              "      <td>-0.772073</td>\n",
              "      <td>-1.119034</td>\n",
              "    </tr>\n",
              "    <tr>\n",
              "      <th>2021-09-29</th>\n",
              "      <td>0.726142</td>\n",
              "      <td>0.682277</td>\n",
              "      <td>0.868881</td>\n",
              "      <td>-0.455642</td>\n",
              "    </tr>\n",
              "  </tbody>\n",
              "</table>\n",
              "</div>"
            ],
            "text/plain": [
              "                   A         B         C         D\n",
              "2021-09-27 -0.102040  2.426678  1.410468  0.063679\n",
              "2021-09-28 -0.485335 -0.931592 -0.772073 -1.119034\n",
              "2021-09-29  0.726142  0.682277  0.868881 -0.455642"
            ]
          },
          "metadata": {},
          "execution_count": 28
        }
      ]
    },
    {
      "cell_type": "code",
      "metadata": {
        "id": "T8XP7m9nx5r9",
        "colab": {
          "base_uri": "https://localhost:8080/",
          "height": 204
        },
        "outputId": "fe1a9507-9742-4386-ea87-204a8cc849b0"
      },
      "source": [
        "df['20210927':'20211001'] # 인덱스가 아닌 값인 경우는 지정된 범위가 다 선택된다."
      ],
      "execution_count": 33,
      "outputs": [
        {
          "output_type": "execute_result",
          "data": {
            "text/html": [
              "<div>\n",
              "<style scoped>\n",
              "    .dataframe tbody tr th:only-of-type {\n",
              "        vertical-align: middle;\n",
              "    }\n",
              "\n",
              "    .dataframe tbody tr th {\n",
              "        vertical-align: top;\n",
              "    }\n",
              "\n",
              "    .dataframe thead th {\n",
              "        text-align: right;\n",
              "    }\n",
              "</style>\n",
              "<table border=\"1\" class=\"dataframe\">\n",
              "  <thead>\n",
              "    <tr style=\"text-align: right;\">\n",
              "      <th></th>\n",
              "      <th>A</th>\n",
              "      <th>B</th>\n",
              "      <th>C</th>\n",
              "      <th>D</th>\n",
              "    </tr>\n",
              "  </thead>\n",
              "  <tbody>\n",
              "    <tr>\n",
              "      <th>2021-09-27</th>\n",
              "      <td>-0.102040</td>\n",
              "      <td>2.426678</td>\n",
              "      <td>1.410468</td>\n",
              "      <td>0.063679</td>\n",
              "    </tr>\n",
              "    <tr>\n",
              "      <th>2021-09-28</th>\n",
              "      <td>-0.485335</td>\n",
              "      <td>-0.931592</td>\n",
              "      <td>-0.772073</td>\n",
              "      <td>-1.119034</td>\n",
              "    </tr>\n",
              "    <tr>\n",
              "      <th>2021-09-29</th>\n",
              "      <td>0.726142</td>\n",
              "      <td>0.682277</td>\n",
              "      <td>0.868881</td>\n",
              "      <td>-0.455642</td>\n",
              "    </tr>\n",
              "    <tr>\n",
              "      <th>2021-09-30</th>\n",
              "      <td>0.798053</td>\n",
              "      <td>-0.022322</td>\n",
              "      <td>1.528496</td>\n",
              "      <td>0.399777</td>\n",
              "    </tr>\n",
              "    <tr>\n",
              "      <th>2021-10-01</th>\n",
              "      <td>0.212409</td>\n",
              "      <td>-0.080389</td>\n",
              "      <td>-0.450908</td>\n",
              "      <td>2.204523</td>\n",
              "    </tr>\n",
              "  </tbody>\n",
              "</table>\n",
              "</div>"
            ],
            "text/plain": [
              "                   A         B         C         D\n",
              "2021-09-27 -0.102040  2.426678  1.410468  0.063679\n",
              "2021-09-28 -0.485335 -0.931592 -0.772073 -1.119034\n",
              "2021-09-29  0.726142  0.682277  0.868881 -0.455642\n",
              "2021-09-30  0.798053 -0.022322  1.528496  0.399777\n",
              "2021-10-01  0.212409 -0.080389 -0.450908  2.204523"
            ]
          },
          "metadata": {},
          "execution_count": 33
        }
      ]
    },
    {
      "cell_type": "markdown",
      "metadata": {
        "id": "E7-V96t9x5sB"
      },
      "source": [
        "#### Selecting data by label [중요!!]\n",
        "\n",
        "> **loc, iloc**\n"
      ]
    },
    {
      "cell_type": "code",
      "metadata": {
        "id": "TV4dnwU-x5sC",
        "colab": {
          "base_uri": "https://localhost:8080/",
          "height": 235
        },
        "outputId": "d6a3d485-f7f3-4608-c794-5fcf4475e693"
      },
      "source": [
        "df"
      ],
      "execution_count": 29,
      "outputs": [
        {
          "output_type": "execute_result",
          "data": {
            "text/html": [
              "<div>\n",
              "<style scoped>\n",
              "    .dataframe tbody tr th:only-of-type {\n",
              "        vertical-align: middle;\n",
              "    }\n",
              "\n",
              "    .dataframe tbody tr th {\n",
              "        vertical-align: top;\n",
              "    }\n",
              "\n",
              "    .dataframe thead th {\n",
              "        text-align: right;\n",
              "    }\n",
              "</style>\n",
              "<table border=\"1\" class=\"dataframe\">\n",
              "  <thead>\n",
              "    <tr style=\"text-align: right;\">\n",
              "      <th></th>\n",
              "      <th>A</th>\n",
              "      <th>B</th>\n",
              "      <th>C</th>\n",
              "      <th>D</th>\n",
              "    </tr>\n",
              "  </thead>\n",
              "  <tbody>\n",
              "    <tr>\n",
              "      <th>2021-09-27</th>\n",
              "      <td>-0.102040</td>\n",
              "      <td>2.426678</td>\n",
              "      <td>1.410468</td>\n",
              "      <td>0.063679</td>\n",
              "    </tr>\n",
              "    <tr>\n",
              "      <th>2021-09-28</th>\n",
              "      <td>-0.485335</td>\n",
              "      <td>-0.931592</td>\n",
              "      <td>-0.772073</td>\n",
              "      <td>-1.119034</td>\n",
              "    </tr>\n",
              "    <tr>\n",
              "      <th>2021-09-29</th>\n",
              "      <td>0.726142</td>\n",
              "      <td>0.682277</td>\n",
              "      <td>0.868881</td>\n",
              "      <td>-0.455642</td>\n",
              "    </tr>\n",
              "    <tr>\n",
              "      <th>2021-09-30</th>\n",
              "      <td>0.798053</td>\n",
              "      <td>-0.022322</td>\n",
              "      <td>1.528496</td>\n",
              "      <td>0.399777</td>\n",
              "    </tr>\n",
              "    <tr>\n",
              "      <th>2021-10-01</th>\n",
              "      <td>0.212409</td>\n",
              "      <td>-0.080389</td>\n",
              "      <td>-0.450908</td>\n",
              "      <td>2.204523</td>\n",
              "    </tr>\n",
              "    <tr>\n",
              "      <th>2021-10-02</th>\n",
              "      <td>0.254639</td>\n",
              "      <td>-0.469830</td>\n",
              "      <td>0.263443</td>\n",
              "      <td>0.017610</td>\n",
              "    </tr>\n",
              "  </tbody>\n",
              "</table>\n",
              "</div>"
            ],
            "text/plain": [
              "                   A         B         C         D\n",
              "2021-09-27 -0.102040  2.426678  1.410468  0.063679\n",
              "2021-09-28 -0.485335 -0.931592 -0.772073 -1.119034\n",
              "2021-09-29  0.726142  0.682277  0.868881 -0.455642\n",
              "2021-09-30  0.798053 -0.022322  1.528496  0.399777\n",
              "2021-10-01  0.212409 -0.080389 -0.450908  2.204523\n",
              "2021-10-02  0.254639 -0.469830  0.263443  0.017610"
            ]
          },
          "metadata": {},
          "execution_count": 29
        }
      ]
    },
    {
      "cell_type": "code",
      "metadata": {
        "id": "iPZE3U5cx5sG",
        "colab": {
          "base_uri": "https://localhost:8080/"
        },
        "outputId": "17323a88-ea7e-42c1-87fa-7bb062a7e513"
      },
      "source": [
        "df.loc[dates[0]]   # loc()"
      ],
      "execution_count": 34,
      "outputs": [
        {
          "output_type": "execute_result",
          "data": {
            "text/plain": [
              "A   -0.102040\n",
              "B    2.426678\n",
              "C    1.410468\n",
              "D    0.063679\n",
              "Name: 2021-09-27 00:00:00, dtype: float64"
            ]
          },
          "metadata": {},
          "execution_count": 34
        }
      ]
    },
    {
      "cell_type": "code",
      "metadata": {
        "id": "jteYZDQnx5sL",
        "colab": {
          "base_uri": "https://localhost:8080/",
          "height": 235
        },
        "outputId": "e70c0f15-fdf1-4aeb-997c-1bab8ceebae5"
      },
      "source": [
        "# Selecting on a multi-axis by label:\n",
        "df.loc[:,['A','B']]\n",
        "\n",
        "# 동시에 할 거면 리스트로"
      ],
      "execution_count": 35,
      "outputs": [
        {
          "output_type": "execute_result",
          "data": {
            "text/html": [
              "<div>\n",
              "<style scoped>\n",
              "    .dataframe tbody tr th:only-of-type {\n",
              "        vertical-align: middle;\n",
              "    }\n",
              "\n",
              "    .dataframe tbody tr th {\n",
              "        vertical-align: top;\n",
              "    }\n",
              "\n",
              "    .dataframe thead th {\n",
              "        text-align: right;\n",
              "    }\n",
              "</style>\n",
              "<table border=\"1\" class=\"dataframe\">\n",
              "  <thead>\n",
              "    <tr style=\"text-align: right;\">\n",
              "      <th></th>\n",
              "      <th>A</th>\n",
              "      <th>B</th>\n",
              "    </tr>\n",
              "  </thead>\n",
              "  <tbody>\n",
              "    <tr>\n",
              "      <th>2021-09-27</th>\n",
              "      <td>-0.102040</td>\n",
              "      <td>2.426678</td>\n",
              "    </tr>\n",
              "    <tr>\n",
              "      <th>2021-09-28</th>\n",
              "      <td>-0.485335</td>\n",
              "      <td>-0.931592</td>\n",
              "    </tr>\n",
              "    <tr>\n",
              "      <th>2021-09-29</th>\n",
              "      <td>0.726142</td>\n",
              "      <td>0.682277</td>\n",
              "    </tr>\n",
              "    <tr>\n",
              "      <th>2021-09-30</th>\n",
              "      <td>0.798053</td>\n",
              "      <td>-0.022322</td>\n",
              "    </tr>\n",
              "    <tr>\n",
              "      <th>2021-10-01</th>\n",
              "      <td>0.212409</td>\n",
              "      <td>-0.080389</td>\n",
              "    </tr>\n",
              "    <tr>\n",
              "      <th>2021-10-02</th>\n",
              "      <td>0.254639</td>\n",
              "      <td>-0.469830</td>\n",
              "    </tr>\n",
              "  </tbody>\n",
              "</table>\n",
              "</div>"
            ],
            "text/plain": [
              "                   A         B\n",
              "2021-09-27 -0.102040  2.426678\n",
              "2021-09-28 -0.485335 -0.931592\n",
              "2021-09-29  0.726142  0.682277\n",
              "2021-09-30  0.798053 -0.022322\n",
              "2021-10-01  0.212409 -0.080389\n",
              "2021-10-02  0.254639 -0.469830"
            ]
          },
          "metadata": {},
          "execution_count": 35
        }
      ]
    },
    {
      "cell_type": "markdown",
      "metadata": {
        "id": "QqYJvRLnx5sP"
      },
      "source": [
        "#### [DIY: 도전코딩]\n",
        "\n",
        "> Select data for first two days AND column 3,4 from df using loc[]."
      ]
    },
    {
      "cell_type": "code",
      "metadata": {
        "id": "jSUlF4icx5sQ",
        "colab": {
          "base_uri": "https://localhost:8080/",
          "height": 111
        },
        "outputId": "85601770-079a-414b-aa20-a9d910254cf5"
      },
      "source": [
        "# df.loc[0:2,['C','D']]\n",
        "# loc 함수를 쓸 때에는 정수 인덱스로 지정 x\n",
        "# df.loc['20210927':'20210928',['C','D']]\n",
        "# value index o\n",
        "df.loc[dates[:2],['C','D']]\n",
        "\n",
        "# loc은 []대괄호 사용\n",
        "\n",
        "# 중간고사 필기 시험 출제 value index 기억"
      ],
      "execution_count": 40,
      "outputs": [
        {
          "output_type": "execute_result",
          "data": {
            "text/html": [
              "<div>\n",
              "<style scoped>\n",
              "    .dataframe tbody tr th:only-of-type {\n",
              "        vertical-align: middle;\n",
              "    }\n",
              "\n",
              "    .dataframe tbody tr th {\n",
              "        vertical-align: top;\n",
              "    }\n",
              "\n",
              "    .dataframe thead th {\n",
              "        text-align: right;\n",
              "    }\n",
              "</style>\n",
              "<table border=\"1\" class=\"dataframe\">\n",
              "  <thead>\n",
              "    <tr style=\"text-align: right;\">\n",
              "      <th></th>\n",
              "      <th>C</th>\n",
              "      <th>D</th>\n",
              "    </tr>\n",
              "  </thead>\n",
              "  <tbody>\n",
              "    <tr>\n",
              "      <th>2021-09-27</th>\n",
              "      <td>1.410468</td>\n",
              "      <td>0.063679</td>\n",
              "    </tr>\n",
              "    <tr>\n",
              "      <th>2021-09-28</th>\n",
              "      <td>-0.772073</td>\n",
              "      <td>-1.119034</td>\n",
              "    </tr>\n",
              "  </tbody>\n",
              "</table>\n",
              "</div>"
            ],
            "text/plain": [
              "                   C         D\n",
              "2021-09-27  1.410468  0.063679\n",
              "2021-09-28 -0.772073 -1.119034"
            ]
          },
          "metadata": {},
          "execution_count": 40
        }
      ]
    },
    {
      "cell_type": "markdown",
      "metadata": {
        "id": "-BGWuIwpx5sV"
      },
      "source": [
        "#### Selecting data by position (iloc())\n",
        "- index 사용"
      ]
    },
    {
      "cell_type": "code",
      "metadata": {
        "id": "gYtgID9rx5sW",
        "colab": {
          "base_uri": "https://localhost:8080/",
          "height": 235
        },
        "outputId": "54e93bb1-c1d4-49e8-e3be-0f82b1c451f4"
      },
      "source": [
        "df"
      ],
      "execution_count": 41,
      "outputs": [
        {
          "output_type": "execute_result",
          "data": {
            "text/html": [
              "<div>\n",
              "<style scoped>\n",
              "    .dataframe tbody tr th:only-of-type {\n",
              "        vertical-align: middle;\n",
              "    }\n",
              "\n",
              "    .dataframe tbody tr th {\n",
              "        vertical-align: top;\n",
              "    }\n",
              "\n",
              "    .dataframe thead th {\n",
              "        text-align: right;\n",
              "    }\n",
              "</style>\n",
              "<table border=\"1\" class=\"dataframe\">\n",
              "  <thead>\n",
              "    <tr style=\"text-align: right;\">\n",
              "      <th></th>\n",
              "      <th>A</th>\n",
              "      <th>B</th>\n",
              "      <th>C</th>\n",
              "      <th>D</th>\n",
              "    </tr>\n",
              "  </thead>\n",
              "  <tbody>\n",
              "    <tr>\n",
              "      <th>2021-09-27</th>\n",
              "      <td>-0.102040</td>\n",
              "      <td>2.426678</td>\n",
              "      <td>1.410468</td>\n",
              "      <td>0.063679</td>\n",
              "    </tr>\n",
              "    <tr>\n",
              "      <th>2021-09-28</th>\n",
              "      <td>-0.485335</td>\n",
              "      <td>-0.931592</td>\n",
              "      <td>-0.772073</td>\n",
              "      <td>-1.119034</td>\n",
              "    </tr>\n",
              "    <tr>\n",
              "      <th>2021-09-29</th>\n",
              "      <td>0.726142</td>\n",
              "      <td>0.682277</td>\n",
              "      <td>0.868881</td>\n",
              "      <td>-0.455642</td>\n",
              "    </tr>\n",
              "    <tr>\n",
              "      <th>2021-09-30</th>\n",
              "      <td>0.798053</td>\n",
              "      <td>-0.022322</td>\n",
              "      <td>1.528496</td>\n",
              "      <td>0.399777</td>\n",
              "    </tr>\n",
              "    <tr>\n",
              "      <th>2021-10-01</th>\n",
              "      <td>0.212409</td>\n",
              "      <td>-0.080389</td>\n",
              "      <td>-0.450908</td>\n",
              "      <td>2.204523</td>\n",
              "    </tr>\n",
              "    <tr>\n",
              "      <th>2021-10-02</th>\n",
              "      <td>0.254639</td>\n",
              "      <td>-0.469830</td>\n",
              "      <td>0.263443</td>\n",
              "      <td>0.017610</td>\n",
              "    </tr>\n",
              "  </tbody>\n",
              "</table>\n",
              "</div>"
            ],
            "text/plain": [
              "                   A         B         C         D\n",
              "2021-09-27 -0.102040  2.426678  1.410468  0.063679\n",
              "2021-09-28 -0.485335 -0.931592 -0.772073 -1.119034\n",
              "2021-09-29  0.726142  0.682277  0.868881 -0.455642\n",
              "2021-09-30  0.798053 -0.022322  1.528496  0.399777\n",
              "2021-10-01  0.212409 -0.080389 -0.450908  2.204523\n",
              "2021-10-02  0.254639 -0.469830  0.263443  0.017610"
            ]
          },
          "metadata": {},
          "execution_count": 41
        }
      ]
    },
    {
      "cell_type": "code",
      "metadata": {
        "id": "PNgZ3u8-x5sa",
        "colab": {
          "base_uri": "https://localhost:8080/"
        },
        "outputId": "317fee59-0fb8-41c6-d769-516e00c58f10"
      },
      "source": [
        "df.iloc[3]  # 결과는 차원축소형으로 표현됨.\n",
        "# 4행의 값들이 축소돼서 출력"
      ],
      "execution_count": 42,
      "outputs": [
        {
          "output_type": "execute_result",
          "data": {
            "text/plain": [
              "A    0.798053\n",
              "B   -0.022322\n",
              "C    1.528496\n",
              "D    0.399777\n",
              "Name: 2021-09-30 00:00:00, dtype: float64"
            ]
          },
          "metadata": {},
          "execution_count": 42
        }
      ]
    },
    {
      "cell_type": "code",
      "metadata": {
        "id": "12eWuxQ_x5sh",
        "colab": {
          "base_uri": "https://localhost:8080/",
          "height": 111
        },
        "outputId": "03c8ad4a-8a9f-4676-95b6-e15e52f645fc"
      },
      "source": [
        "# [다시 도전]\n",
        "# Select data for first two days AND comumn 3,4 from df.\n",
        "# Use iloc\n",
        "df.iloc[:2,2:4]\n",
        "\n",
        "# 중요\n"
      ],
      "execution_count": 43,
      "outputs": [
        {
          "output_type": "execute_result",
          "data": {
            "text/html": [
              "<div>\n",
              "<style scoped>\n",
              "    .dataframe tbody tr th:only-of-type {\n",
              "        vertical-align: middle;\n",
              "    }\n",
              "\n",
              "    .dataframe tbody tr th {\n",
              "        vertical-align: top;\n",
              "    }\n",
              "\n",
              "    .dataframe thead th {\n",
              "        text-align: right;\n",
              "    }\n",
              "</style>\n",
              "<table border=\"1\" class=\"dataframe\">\n",
              "  <thead>\n",
              "    <tr style=\"text-align: right;\">\n",
              "      <th></th>\n",
              "      <th>C</th>\n",
              "      <th>D</th>\n",
              "    </tr>\n",
              "  </thead>\n",
              "  <tbody>\n",
              "    <tr>\n",
              "      <th>2021-09-27</th>\n",
              "      <td>1.410468</td>\n",
              "      <td>0.063679</td>\n",
              "    </tr>\n",
              "    <tr>\n",
              "      <th>2021-09-28</th>\n",
              "      <td>-0.772073</td>\n",
              "      <td>-1.119034</td>\n",
              "    </tr>\n",
              "  </tbody>\n",
              "</table>\n",
              "</div>"
            ],
            "text/plain": [
              "                   C         D\n",
              "2021-09-27  1.410468  0.063679\n",
              "2021-09-28 -0.772073 -1.119034"
            ]
          },
          "metadata": {},
          "execution_count": 43
        }
      ]
    },
    {
      "cell_type": "code",
      "metadata": {
        "id": "_S-omW3hx5sn",
        "colab": {
          "base_uri": "https://localhost:8080/"
        },
        "outputId": "c5c899e4-f628-48b0-a40e-66d2948b8033"
      },
      "source": [
        "# Select one item\n",
        "df.iloc[1,1]"
      ],
      "execution_count": 44,
      "outputs": [
        {
          "output_type": "execute_result",
          "data": {
            "text/plain": [
              "-0.9315919456697471"
            ]
          },
          "metadata": {},
          "execution_count": 44
        }
      ]
    },
    {
      "cell_type": "code",
      "metadata": {
        "id": "fjAsIAidfVUQ",
        "colab": {
          "base_uri": "https://localhost:8080/",
          "height": 142
        },
        "outputId": "c0c7ccd3-6601-40c1-e218-c3849438149d"
      },
      "source": [
        "# [DIY: 다시 도전]\n",
        "# Select data for first three days from df\n",
        "# Your code\n",
        "df.iloc[:3,:]\n",
        "# df[:3,:]"
      ],
      "execution_count": 48,
      "outputs": [
        {
          "output_type": "execute_result",
          "data": {
            "text/html": [
              "<div>\n",
              "<style scoped>\n",
              "    .dataframe tbody tr th:only-of-type {\n",
              "        vertical-align: middle;\n",
              "    }\n",
              "\n",
              "    .dataframe tbody tr th {\n",
              "        vertical-align: top;\n",
              "    }\n",
              "\n",
              "    .dataframe thead th {\n",
              "        text-align: right;\n",
              "    }\n",
              "</style>\n",
              "<table border=\"1\" class=\"dataframe\">\n",
              "  <thead>\n",
              "    <tr style=\"text-align: right;\">\n",
              "      <th></th>\n",
              "      <th>A</th>\n",
              "      <th>B</th>\n",
              "      <th>C</th>\n",
              "      <th>D</th>\n",
              "    </tr>\n",
              "  </thead>\n",
              "  <tbody>\n",
              "    <tr>\n",
              "      <th>2021-09-27</th>\n",
              "      <td>-0.102040</td>\n",
              "      <td>2.426678</td>\n",
              "      <td>1.410468</td>\n",
              "      <td>0.063679</td>\n",
              "    </tr>\n",
              "    <tr>\n",
              "      <th>2021-09-28</th>\n",
              "      <td>-0.485335</td>\n",
              "      <td>-0.931592</td>\n",
              "      <td>-0.772073</td>\n",
              "      <td>-1.119034</td>\n",
              "    </tr>\n",
              "    <tr>\n",
              "      <th>2021-09-29</th>\n",
              "      <td>0.726142</td>\n",
              "      <td>0.682277</td>\n",
              "      <td>0.868881</td>\n",
              "      <td>-0.455642</td>\n",
              "    </tr>\n",
              "  </tbody>\n",
              "</table>\n",
              "</div>"
            ],
            "text/plain": [
              "                   A         B         C         D\n",
              "2021-09-27 -0.102040  2.426678  1.410468  0.063679\n",
              "2021-09-28 -0.485335 -0.931592 -0.772073 -1.119034\n",
              "2021-09-29  0.726142  0.682277  0.868881 -0.455642"
            ]
          },
          "metadata": {},
          "execution_count": 48
        }
      ]
    },
    {
      "cell_type": "markdown",
      "metadata": {
        "id": "fDoWVVGHx5su"
      },
      "source": [
        "#### Selecting data by Boolean indexing"
      ]
    },
    {
      "cell_type": "code",
      "metadata": {
        "id": "CG7LipUrx5sv",
        "colab": {
          "base_uri": "https://localhost:8080/",
          "height": 235
        },
        "outputId": "56289f9b-23e6-476b-c2b6-9c2ecf57ea1c"
      },
      "source": [
        "df"
      ],
      "execution_count": 49,
      "outputs": [
        {
          "output_type": "execute_result",
          "data": {
            "text/html": [
              "<div>\n",
              "<style scoped>\n",
              "    .dataframe tbody tr th:only-of-type {\n",
              "        vertical-align: middle;\n",
              "    }\n",
              "\n",
              "    .dataframe tbody tr th {\n",
              "        vertical-align: top;\n",
              "    }\n",
              "\n",
              "    .dataframe thead th {\n",
              "        text-align: right;\n",
              "    }\n",
              "</style>\n",
              "<table border=\"1\" class=\"dataframe\">\n",
              "  <thead>\n",
              "    <tr style=\"text-align: right;\">\n",
              "      <th></th>\n",
              "      <th>A</th>\n",
              "      <th>B</th>\n",
              "      <th>C</th>\n",
              "      <th>D</th>\n",
              "    </tr>\n",
              "  </thead>\n",
              "  <tbody>\n",
              "    <tr>\n",
              "      <th>2021-09-27</th>\n",
              "      <td>-0.102040</td>\n",
              "      <td>2.426678</td>\n",
              "      <td>1.410468</td>\n",
              "      <td>0.063679</td>\n",
              "    </tr>\n",
              "    <tr>\n",
              "      <th>2021-09-28</th>\n",
              "      <td>-0.485335</td>\n",
              "      <td>-0.931592</td>\n",
              "      <td>-0.772073</td>\n",
              "      <td>-1.119034</td>\n",
              "    </tr>\n",
              "    <tr>\n",
              "      <th>2021-09-29</th>\n",
              "      <td>0.726142</td>\n",
              "      <td>0.682277</td>\n",
              "      <td>0.868881</td>\n",
              "      <td>-0.455642</td>\n",
              "    </tr>\n",
              "    <tr>\n",
              "      <th>2021-09-30</th>\n",
              "      <td>0.798053</td>\n",
              "      <td>-0.022322</td>\n",
              "      <td>1.528496</td>\n",
              "      <td>0.399777</td>\n",
              "    </tr>\n",
              "    <tr>\n",
              "      <th>2021-10-01</th>\n",
              "      <td>0.212409</td>\n",
              "      <td>-0.080389</td>\n",
              "      <td>-0.450908</td>\n",
              "      <td>2.204523</td>\n",
              "    </tr>\n",
              "    <tr>\n",
              "      <th>2021-10-02</th>\n",
              "      <td>0.254639</td>\n",
              "      <td>-0.469830</td>\n",
              "      <td>0.263443</td>\n",
              "      <td>0.017610</td>\n",
              "    </tr>\n",
              "  </tbody>\n",
              "</table>\n",
              "</div>"
            ],
            "text/plain": [
              "                   A         B         C         D\n",
              "2021-09-27 -0.102040  2.426678  1.410468  0.063679\n",
              "2021-09-28 -0.485335 -0.931592 -0.772073 -1.119034\n",
              "2021-09-29  0.726142  0.682277  0.868881 -0.455642\n",
              "2021-09-30  0.798053 -0.022322  1.528496  0.399777\n",
              "2021-10-01  0.212409 -0.080389 -0.450908  2.204523\n",
              "2021-10-02  0.254639 -0.469830  0.263443  0.017610"
            ]
          },
          "metadata": {},
          "execution_count": 49
        }
      ]
    },
    {
      "cell_type": "code",
      "metadata": {
        "id": "U5If1VEYx5sy",
        "colab": {
          "base_uri": "https://localhost:8080/",
          "height": 173
        },
        "outputId": "f0bb4e13-d9e0-44c5-901a-a9622e4cc84e"
      },
      "source": [
        "df[df.A > 0]"
      ],
      "execution_count": 50,
      "outputs": [
        {
          "output_type": "execute_result",
          "data": {
            "text/html": [
              "<div>\n",
              "<style scoped>\n",
              "    .dataframe tbody tr th:only-of-type {\n",
              "        vertical-align: middle;\n",
              "    }\n",
              "\n",
              "    .dataframe tbody tr th {\n",
              "        vertical-align: top;\n",
              "    }\n",
              "\n",
              "    .dataframe thead th {\n",
              "        text-align: right;\n",
              "    }\n",
              "</style>\n",
              "<table border=\"1\" class=\"dataframe\">\n",
              "  <thead>\n",
              "    <tr style=\"text-align: right;\">\n",
              "      <th></th>\n",
              "      <th>A</th>\n",
              "      <th>B</th>\n",
              "      <th>C</th>\n",
              "      <th>D</th>\n",
              "    </tr>\n",
              "  </thead>\n",
              "  <tbody>\n",
              "    <tr>\n",
              "      <th>2021-09-29</th>\n",
              "      <td>0.726142</td>\n",
              "      <td>0.682277</td>\n",
              "      <td>0.868881</td>\n",
              "      <td>-0.455642</td>\n",
              "    </tr>\n",
              "    <tr>\n",
              "      <th>2021-09-30</th>\n",
              "      <td>0.798053</td>\n",
              "      <td>-0.022322</td>\n",
              "      <td>1.528496</td>\n",
              "      <td>0.399777</td>\n",
              "    </tr>\n",
              "    <tr>\n",
              "      <th>2021-10-01</th>\n",
              "      <td>0.212409</td>\n",
              "      <td>-0.080389</td>\n",
              "      <td>-0.450908</td>\n",
              "      <td>2.204523</td>\n",
              "    </tr>\n",
              "    <tr>\n",
              "      <th>2021-10-02</th>\n",
              "      <td>0.254639</td>\n",
              "      <td>-0.469830</td>\n",
              "      <td>0.263443</td>\n",
              "      <td>0.017610</td>\n",
              "    </tr>\n",
              "  </tbody>\n",
              "</table>\n",
              "</div>"
            ],
            "text/plain": [
              "                   A         B         C         D\n",
              "2021-09-29  0.726142  0.682277  0.868881 -0.455642\n",
              "2021-09-30  0.798053 -0.022322  1.528496  0.399777\n",
              "2021-10-01  0.212409 -0.080389 -0.450908  2.204523\n",
              "2021-10-02  0.254639 -0.469830  0.263443  0.017610"
            ]
          },
          "metadata": {},
          "execution_count": 50
        }
      ]
    },
    {
      "cell_type": "code",
      "metadata": {
        "id": "8WkB7Q5rx5s1",
        "colab": {
          "base_uri": "https://localhost:8080/",
          "height": 235
        },
        "outputId": "876a8ebe-d78e-47b8-9e85-7966317fa315"
      },
      "source": [
        "df[df > 0]\n",
        "\n",
        "# True는 True의 값이 False는 NoN값이 출력"
      ],
      "execution_count": 51,
      "outputs": [
        {
          "output_type": "execute_result",
          "data": {
            "text/html": [
              "<div>\n",
              "<style scoped>\n",
              "    .dataframe tbody tr th:only-of-type {\n",
              "        vertical-align: middle;\n",
              "    }\n",
              "\n",
              "    .dataframe tbody tr th {\n",
              "        vertical-align: top;\n",
              "    }\n",
              "\n",
              "    .dataframe thead th {\n",
              "        text-align: right;\n",
              "    }\n",
              "</style>\n",
              "<table border=\"1\" class=\"dataframe\">\n",
              "  <thead>\n",
              "    <tr style=\"text-align: right;\">\n",
              "      <th></th>\n",
              "      <th>A</th>\n",
              "      <th>B</th>\n",
              "      <th>C</th>\n",
              "      <th>D</th>\n",
              "    </tr>\n",
              "  </thead>\n",
              "  <tbody>\n",
              "    <tr>\n",
              "      <th>2021-09-27</th>\n",
              "      <td>NaN</td>\n",
              "      <td>2.426678</td>\n",
              "      <td>1.410468</td>\n",
              "      <td>0.063679</td>\n",
              "    </tr>\n",
              "    <tr>\n",
              "      <th>2021-09-28</th>\n",
              "      <td>NaN</td>\n",
              "      <td>NaN</td>\n",
              "      <td>NaN</td>\n",
              "      <td>NaN</td>\n",
              "    </tr>\n",
              "    <tr>\n",
              "      <th>2021-09-29</th>\n",
              "      <td>0.726142</td>\n",
              "      <td>0.682277</td>\n",
              "      <td>0.868881</td>\n",
              "      <td>NaN</td>\n",
              "    </tr>\n",
              "    <tr>\n",
              "      <th>2021-09-30</th>\n",
              "      <td>0.798053</td>\n",
              "      <td>NaN</td>\n",
              "      <td>1.528496</td>\n",
              "      <td>0.399777</td>\n",
              "    </tr>\n",
              "    <tr>\n",
              "      <th>2021-10-01</th>\n",
              "      <td>0.212409</td>\n",
              "      <td>NaN</td>\n",
              "      <td>NaN</td>\n",
              "      <td>2.204523</td>\n",
              "    </tr>\n",
              "    <tr>\n",
              "      <th>2021-10-02</th>\n",
              "      <td>0.254639</td>\n",
              "      <td>NaN</td>\n",
              "      <td>0.263443</td>\n",
              "      <td>0.017610</td>\n",
              "    </tr>\n",
              "  </tbody>\n",
              "</table>\n",
              "</div>"
            ],
            "text/plain": [
              "                   A         B         C         D\n",
              "2021-09-27       NaN  2.426678  1.410468  0.063679\n",
              "2021-09-28       NaN       NaN       NaN       NaN\n",
              "2021-09-29  0.726142  0.682277  0.868881       NaN\n",
              "2021-09-30  0.798053       NaN  1.528496  0.399777\n",
              "2021-10-01  0.212409       NaN       NaN  2.204523\n",
              "2021-10-02  0.254639       NaN  0.263443  0.017610"
            ]
          },
          "metadata": {},
          "execution_count": 51
        }
      ]
    }
  ]
}