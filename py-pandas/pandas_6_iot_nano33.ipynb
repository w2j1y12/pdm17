{
  "nbformat": 4,
  "nbformat_minor": 0,
  "metadata": {
    "colab": {
      "name": "pandas_6_iot_nano33.ipynb",
      "provenance": [],
      "collapsed_sections": [],
      "include_colab_link": true
    },
    "kernelspec": {
      "name": "python3",
      "display_name": "Python 3"
    }
  },
  "cells": [
    {
      "cell_type": "markdown",
      "metadata": {
        "id": "view-in-github",
        "colab_type": "text"
      },
      "source": [
        "<a href=\"https://colab.research.google.com/github/w2j1y12/pdm17/blob/main/py-pandas/pandas_6_iot_nano33.ipynb\" target=\"_parent\"><img src=\"https://colab.research.google.com/assets/colab-badge.svg\" alt=\"Open In Colab\"/></a>"
      ]
    },
    {
      "cell_type": "markdown",
      "metadata": {
        "id": "oYht3IoGwlyU"
      },
      "source": [
        "## Pandas: access to the remote json from MongoDB\n",
        "- The json file is generated on the fly from the express server of Node.js.\n",
        "- The data stored in MongoDB are saved in the json file.\n",
        "- The data are composed of three time series; temperature, humidity, and luminosity.\n"
      ]
    },
    {
      "cell_type": "code",
      "metadata": {
        "id": "GYezm0oWwlyW"
      },
      "source": [
        "import pandas as pd\n",
        "import numpy as np\n",
        "import matplotlib.pyplot as plt\n",
        "from matplotlib import animation, rc"
      ],
      "execution_count": 32,
      "outputs": []
    },
    {
      "cell_type": "markdown",
      "metadata": {
        "id": "1xQdk1RkeFpY"
      },
      "source": [
        "## [데이터 로드 1.]\n",
        "- loading real-time json file from MongoDB via web\n",
        "\n",
        "- http://chaos.inje.ac.kr:3030/client_33.html"
      ]
    },
    {
      "cell_type": "code",
      "metadata": {
        "id": "jguBydRLwlyc"
      },
      "source": [
        "# loading real-time json file from MongoDB via web (CORS, port=3030)\n",
        "# url=\"http://chaos.inje.ac.kr:3030/iot\"\n",
        "# df=pd.read_json(url)\n",
        "# print('Large IoT data was retrieved successfully from MongoDB!')"
      ],
      "execution_count": 33,
      "outputs": []
    },
    {
      "cell_type": "markdown",
      "metadata": {
        "id": "TpDlu78Hd37h"
      },
      "source": [
        "## [데이터 로드 2.]\n",
        "- Load the compressed data from github.com"
      ]
    },
    {
      "cell_type": "code",
      "metadata": {
        "id": "vDohppnxx3CD",
        "colab": {
          "base_uri": "https://localhost:8080/"
        },
        "outputId": "52a7990b-a0c4-4a1e-d8b5-a6aef49f083f"
      },
      "source": [
        "# Load the compressed data from github.com\n",
        "# https://towardsdatascience.com/4-awesome-ways-of-loading-ml-data-in-google-colab-9a5264c61966\n",
        "# url_zip = 'https://github.com/Redwoods/Py/raw/master/pdm2020/my-note/py-pandas/data/iot_data_201005_raw.zip'\n",
        "!wget https://github.com/Redwoods/Py/raw/master/pdm2020/my-note/py-pandas/data/iot_data_201005_raw.zip\n",
        "!unzip iot_data_201005_raw.zip"
      ],
      "execution_count": null,
      "outputs": [
        {
          "output_type": "stream",
          "name": "stdout",
          "text": [
            "--2021-10-17 11:21:19--  https://github.com/Redwoods/Py/raw/master/pdm2020/my-note/py-pandas/data/iot_data_201005_raw.zip\n",
            "Resolving github.com (github.com)... 192.30.255.113\n",
            "Connecting to github.com (github.com)|192.30.255.113|:443... connected.\n",
            "HTTP request sent, awaiting response... 302 Found\n",
            "Location: https://raw.githubusercontent.com/Redwoods/Py/master/pdm2020/my-note/py-pandas/data/iot_data_201005_raw.zip [following]\n",
            "--2021-10-17 11:21:20--  https://raw.githubusercontent.com/Redwoods/Py/master/pdm2020/my-note/py-pandas/data/iot_data_201005_raw.zip\n",
            "Resolving raw.githubusercontent.com (raw.githubusercontent.com)... 185.199.108.133, 185.199.109.133, 185.199.110.133, ...\n",
            "Connecting to raw.githubusercontent.com (raw.githubusercontent.com)|185.199.108.133|:443... connected.\n",
            "HTTP request sent, awaiting response... 200 OK\n",
            "Length: 8389520 (8.0M) [application/zip]\n",
            "Saving to: ‘iot_data_201005_raw.zip.1’\n",
            "\n",
            "iot_data_201005_raw 100%[===================>]   8.00M  --.-KB/s    in 0.08s   \n",
            "\n",
            "2021-10-17 11:21:20 (104 MB/s) - ‘iot_data_201005_raw.zip.1’ saved [8389520/8389520]\n",
            "\n",
            "Archive:  iot_data_201005_raw.zip\n",
            "replace iot_data_201005_raw.csv? [y]es, [n]o, [A]ll, [N]one, [r]ename: "
          ]
        }
      ]
    },
    {
      "cell_type": "code",
      "metadata": {
        "id": "g5r86Xpo0gjq"
      },
      "source": [
        "df = pd.read_csv(\"iot_data_201005_raw.csv\", index_col=False)\n",
        "df.head()\n",
        "# 시간/ 온도/ 습도/ 조도/ 대기압/ 빛의 3요소 r비율/ g비울/ b비율"
      ],
      "execution_count": null,
      "outputs": []
    },
    {
      "cell_type": "code",
      "metadata": {
        "id": "ATXd9T04wlyg"
      },
      "source": [
        "df.head()"
      ],
      "execution_count": null,
      "outputs": []
    },
    {
      "cell_type": "code",
      "metadata": {
        "id": "Qz0XxhI4wlyn"
      },
      "source": [
        "df.tail()"
      ],
      "execution_count": null,
      "outputs": []
    },
    {
      "cell_type": "code",
      "metadata": {
        "id": "xu5T5omfwlys"
      },
      "source": [
        "df.shape, type(df)"
      ],
      "execution_count": null,
      "outputs": []
    },
    {
      "cell_type": "code",
      "metadata": {
        "id": "IGr_hz20Il9L"
      },
      "source": [
        "df['date'][:1],df['date'][-1:]\n",
        "# 처음/ 끝"
      ],
      "execution_count": null,
      "outputs": []
    },
    {
      "cell_type": "code",
      "metadata": {
        "id": "Ba7jYmgKwlyx"
      },
      "source": [
        "df.info()\n",
        "# r,g,b_ratio는 값이 반만 나오는데 밤에는 조도가 0이라서(방에 불이 꺼진 경우) non값으로 나와서 그렇대"
      ],
      "execution_count": null,
      "outputs": []
    },
    {
      "cell_type": "code",
      "metadata": {
        "id": "6VGEIgiEydOV"
      },
      "source": [
        "df.describe()"
      ],
      "execution_count": null,
      "outputs": []
    },
    {
      "cell_type": "code",
      "metadata": {
        "id": "hhP06hHOLHVg"
      },
      "source": [
        "# Save iot data in csv file.\n",
        "# df.to_csv('iot_data_201005_raw.csv')"
      ],
      "execution_count": null,
      "outputs": []
    },
    {
      "cell_type": "markdown",
      "metadata": {
        "id": "g9Z8adSvNEp_"
      },
      "source": [
        "## Check data\n",
        "- NaN\n",
        "- missing value"
      ]
    },
    {
      "cell_type": "code",
      "metadata": {
        "id": "c35w4k5fNJRI"
      },
      "source": [
        "df.isnull().sum() #/df.shape[0]*100"
      ],
      "execution_count": null,
      "outputs": []
    },
    {
      "cell_type": "code",
      "metadata": {
        "id": "V6txumYNbERU"
      },
      "source": [
        "df.isna().sum()"
      ],
      "execution_count": null,
      "outputs": []
    },
    {
      "cell_type": "markdown",
      "metadata": {
        "id": "eR-9lPsaN1ce"
      },
      "source": [
        "## Replace NaN with mean: Imputation\n",
        "- NaN ==>> 33.3 (100/3)"
      ]
    },
    {
      "cell_type": "code",
      "metadata": {
        "id": "aOZec4f9Z4uB"
      },
      "source": [
        "df=df.fillna(33.3)\n",
        "df.isna().sum()\n",
        "# NaN에다가 33.3을 넣어줌"
      ],
      "execution_count": null,
      "outputs": []
    },
    {
      "cell_type": "code",
      "metadata": {
        "id": "azt9NJNhOGI-"
      },
      "source": [
        "# for whole dataframe\n",
        "# df = df.replace(np.nan, 33.3)\n",
        "# df.isnull().sum()"
      ],
      "execution_count": null,
      "outputs": []
    },
    {
      "cell_type": "markdown",
      "metadata": {
        "id": "fMZWYEMxOmSy"
      },
      "source": [
        "## IoT data were cleaned!"
      ]
    },
    {
      "cell_type": "code",
      "metadata": {
        "id": "BPVHonjyB7n8"
      },
      "source": [
        "df.head()\n",
        "# 시간이 중요해서 시간을 기준으로 데이터프레임을 재구성"
      ],
      "execution_count": null,
      "outputs": []
    },
    {
      "cell_type": "markdown",
      "metadata": {
        "id": "H5gtQbgCw62w"
      },
      "source": [
        "## New DataFrame : iot_data\n",
        "### Dataframe with date and sensor values(temperature, humidity, luminosity, pressure, r, g, b)"
      ]
    },
    {
      "cell_type": "code",
      "metadata": {
        "id": "5VTfTsldfaGj"
      },
      "source": [
        "#  select columns\n",
        "cols = ['date', 'temperature', 'humidity', 'luminosity', 'pressure', 'r_ratio', 'g_ratio', 'b_ratio']"
      ],
      "execution_count": null,
      "outputs": []
    },
    {
      "cell_type": "code",
      "metadata": {
        "id": "wLi8PDa_wly3"
      },
      "source": [
        "# Make iot data\n",
        "iot_data = df[cols]"
      ],
      "execution_count": null,
      "outputs": []
    },
    {
      "cell_type": "code",
      "metadata": {
        "id": "NWW0Y_Zswly8"
      },
      "source": [
        "iot_data.shape\n",
        "# -> shape이 바뀌겠지(11->8)"
      ],
      "execution_count": null,
      "outputs": []
    },
    {
      "cell_type": "code",
      "metadata": {
        "id": "QrsngVb8wlzA"
      },
      "source": [
        "iot_data.head()  # date와 7 개의 신호를 확인."
      ],
      "execution_count": null,
      "outputs": []
    },
    {
      "cell_type": "code",
      "metadata": {
        "id": "ZI7ggvWpwlzG"
      },
      "source": [
        "iot_data.info()"
      ],
      "execution_count": null,
      "outputs": []
    },
    {
      "cell_type": "code",
      "metadata": {
        "id": "YlYSuLHMdX3_"
      },
      "source": [
        "iot_data.isna().sum()"
      ],
      "execution_count": null,
      "outputs": []
    },
    {
      "cell_type": "code",
      "metadata": {
        "id": "sKH2MLA7lxjh"
      },
      "source": [
        "# Save iot data in csv file.\n",
        "iot_data.to_csv('iot_data_201005_clean.csv')\n",
        "# NaN과 Null값이 처리된 깨끗한 값이 저장된 파일\n",
        "# 다운로드해서 재활용 가능"
      ],
      "execution_count": null,
      "outputs": []
    },
    {
      "cell_type": "markdown",
      "metadata": {
        "id": "tqGuXzIPfYbZ"
      },
      "source": [
        "## EDA"
      ]
    },
    {
      "cell_type": "code",
      "metadata": {
        "id": "2vP1ahjACxk5"
      },
      "source": [
        "# 20년도 중간고사\n",
        "# csv 파일로 특정한 데이터를 주고 그동안 배운 파이썬 모듈을 사용해 EDA 수행 후 결과 github에 올렸"
      ],
      "execution_count": null,
      "outputs": []
    },
    {
      "cell_type": "code",
      "metadata": {
        "id": "2QB6w7uvuN6R"
      },
      "source": [
        "# Plot boxplot\n",
        "# iot_data[['temperature','humidity','luminosity']].plot.box(title='Boxplot of temperature, humidity, and luminosity')\n",
        "# 온도 습도 조도를 박스플랏으로\n",
        "\n",
        "# iot_data.loc[:,'temperature':'luminosity'].plot.box(title='Boxplot of temperature, humidity, and luminosity')\n",
        "# loc은 인덱스 마지막도 포함\n",
        "\n",
        "iot_data.iloc[:,1:].plot.box(title='Boxplot of all signals')\n",
        "# 7개의 신호에 대한 박스플랏\n",
        "# plt.xticks(rotation=60)\n",
        "plt.show()"
      ],
      "execution_count": null,
      "outputs": []
    },
    {
      "cell_type": "markdown",
      "metadata": {
        "id": "feFqm_ocxRjV"
      },
      "source": [
        "### Plot time series of sensor data"
      ]
    },
    {
      "cell_type": "code",
      "metadata": {
        "id": "7mcQ0axNiZ01"
      },
      "source": [
        "iot_data.head()"
      ],
      "execution_count": null,
      "outputs": []
    },
    {
      "cell_type": "code",
      "metadata": {
        "id": "AM_CyVjawlzM"
      },
      "source": [
        "iot_data.plot(x='date', y='temperature', figsize=(10,5), title='temperature')\n",
        "plt.xticks(rotation=90)\n",
        "plt.show()\n",
        "# 한 달동안의 온도 변화"
      ],
      "execution_count": null,
      "outputs": []
    },
    {
      "cell_type": "markdown",
      "metadata": {
        "id": "RzdQY6Nbf7ET"
      },
      "source": [
        "### Set style of graph\n",
        "- plt.style.use('fivethirtyeight')\n",
        "- plt.style.use('ggplot')"
      ]
    },
    {
      "cell_type": "code",
      "metadata": {
        "id": "e0GNB13ngjo2"
      },
      "source": [
        "plt.style.available"
      ],
      "execution_count": null,
      "outputs": []
    },
    {
      "cell_type": "code",
      "metadata": {
        "id": "iUAvX6E_gMkU"
      },
      "source": [
        "iot_data.plot(x='date', y='temperature', figsize=(10,5), title='temperature')\n",
        "plt.xticks(rotation=60)\n",
        "plt.style.use('seaborn-pastel') # 'seaborn-pastel', 'fivethirtyeight'\n",
        "plt.show()"
      ],
      "execution_count": null,
      "outputs": []
    },
    {
      "cell_type": "code",
      "metadata": {
        "id": "yEIaJZVVgT8u"
      },
      "source": [
        "iot_data.plot(x='date', y='temperature', figsize=(10,5), title='temperature')\n",
        "plt.xticks(rotation=60)\n",
        "plt.style.use('ggplot')\n",
        "plt.show()"
      ],
      "execution_count": null,
      "outputs": []
    },
    {
      "cell_type": "code",
      "metadata": {
        "id": "b3s_-fushN1y"
      },
      "source": [
        "# restore default style\n",
        "plt.style.use('default')"
      ],
      "execution_count": null,
      "outputs": []
    },
    {
      "cell_type": "code",
      "metadata": {
        "id": "SAy74_iEwlzQ"
      },
      "source": [
        "iot_data.plot(x='date', y='humidity', figsize=(10,5), title='humidity')\n",
        "plt.xticks(rotation=60)\n",
        "plt.show()"
      ],
      "execution_count": null,
      "outputs": []
    },
    {
      "cell_type": "code",
      "metadata": {
        "id": "d7kyWhVDwlzW"
      },
      "source": [
        "iot_data.plot(x='date', y='luminosity', figsize=(10,5), title='luminosity')\n",
        "plt.xticks(rotation=60)\n",
        "plt.show()"
      ],
      "execution_count": null,
      "outputs": []
    },
    {
      "cell_type": "code",
      "metadata": {
        "id": "MbaBO6uRKCjj"
      },
      "source": [
        "iot_data.plot(x='date', y='pressure', figsize=(10,5), title='pressure')\n",
        "plt.xticks(rotation=90)\n",
        "plt.show()\n",
        "# 극도로 낮은 저기압 = 태풍(며칠동안 낮에도 조도가 낮음)"
      ],
      "execution_count": null,
      "outputs": []
    },
    {
      "cell_type": "markdown",
      "metadata": {
        "id": "4W2OVUXZ0eKc"
      },
      "source": [
        "#### 다중그래프 (multiple graphs)"
      ]
    },
    {
      "cell_type": "code",
      "metadata": {
        "id": "7XiF7ghFwlzc",
        "colab": {
          "base_uri": "https://localhost:8080/",
          "height": 133
        },
        "outputId": "dc9ef1b4-7890-4148-c92a-626363154ef7"
      },
      "source": [
        "# Plot of ['temperature','humidity']\n",
        "iot_data.plot(x='date', y=['temperature','humidity'], figsize=(10,5), title='temperature and humidity') 시원 하이방가방가방가방 키보드 귀여우ㅝㅠㅠ"
      ],
      "execution_count": 31,
      "outputs": [
        {
          "output_type": "error",
          "ename": "SyntaxError",
          "evalue": "ignored",
          "traceback": [
            "\u001b[0;36m  File \u001b[0;32m\"<ipython-input-31-4b0b41c30901>\"\u001b[0;36m, line \u001b[0;32m2\u001b[0m\n\u001b[0;31m    iot_data.plot(x='date', y=['temperature','humidity'], figsize=(10,5), title='temperature and humidity') 시원 하이방가방가방가방 키보드 귀여우ㅝㅠㅠ\u001b[0m\n\u001b[0m                                                                                                             ^\u001b[0m\n\u001b[0;31mSyntaxError\u001b[0m\u001b[0;31m:\u001b[0m invalid syntax\n"
          ]
        }
      ]
    },
    {
      "cell_type": "code",
      "metadata": {
        "id": "3tH-ca5Jwlzi"
      },
      "source": [
        "# Plot of ['temperature','humidity','luminosity','pressure']\n",
        "iot_data.plot(x='date', y=['temperature','humidity','luminosity','pressure'], figsize=(10,6), \n",
        "             title='temperature, humidity, luminosity and pressure')\n",
        "plt.show()"
      ],
      "execution_count": null,
      "outputs": []
    },
    {
      "cell_type": "markdown",
      "metadata": {
        "id": "6yaOaE05xthv"
      },
      "source": [
        "#### Plot the mean of sensor data"
      ]
    },
    {
      "cell_type": "code",
      "metadata": {
        "id": "455qOpbbwlzp"
      },
      "source": [
        "iot_data[['temperature','humidity','luminosity']].mean()  "
      ],
      "execution_count": null,
      "outputs": []
    },
    {
      "cell_type": "code",
      "metadata": {
        "id": "26ZUc5ULwlzw"
      },
      "source": [
        "iot_data[['temperature','humidity','luminosity']].mean().plot.bar(figsize=(8,5), \n",
        "                                                                  title=\"Mean of temperature, humidity, and luminosity\")"
      ],
      "execution_count": null,
      "outputs": []
    },
    {
      "cell_type": "code",
      "metadata": {
        "id": "0aQZ0HN_ihK4"
      },
      "source": [
        "plt.style.use('seaborn-pastel')   # fivethirtyeight, ggplot\n",
        "iot_data[['temperature','humidity','luminosity']].mean().plot.bar(figsize=(6,3), \n",
        "                                                                  title=\"Mean of temperature, humidity, and luminosity\")"
      ],
      "execution_count": null,
      "outputs": []
    },
    {
      "cell_type": "markdown",
      "metadata": {
        "id": "DwAOwL1kdEUn"
      },
      "source": [
        "# Advanced graphics using pandas"
      ]
    },
    {
      "cell_type": "markdown",
      "metadata": {
        "id": "LxgcWZ2wx6TQ"
      },
      "source": [
        "### Plot the change of sensor data over various time spans.\n",
        "\n",
        "> time span: 60 sec, 1 hour, 1 day, 1 week"
      ]
    },
    {
      "cell_type": "markdown",
      "metadata": {
        "id": "ndt4b_ZTwlz1"
      },
      "source": [
        "#### Set date as index of timestamp"
      ]
    },
    {
      "cell_type": "code",
      "metadata": {
        "id": "xopxI05ggHJb"
      },
      "source": [
        "iot_data.head()"
      ],
      "execution_count": null,
      "outputs": []
    },
    {
      "cell_type": "code",
      "metadata": {
        "id": "V6MpkrDhwlz2"
      },
      "source": [
        "iot_data.set_index('date',inplace=True)"
      ],
      "execution_count": null,
      "outputs": []
    },
    {
      "cell_type": "code",
      "metadata": {
        "id": "g1MtmghfiQk7"
      },
      "source": [
        "# Convert date index to Datetime index\n",
        "iot_data.index = pd.to_datetime(iot_data.index)"
      ],
      "execution_count": null,
      "outputs": []
    },
    {
      "cell_type": "code",
      "metadata": {
        "id": "gY7QvLKbwlz5"
      },
      "source": [
        "iot_data.info() # Range index -> timestamp(Datetime) index "
      ],
      "execution_count": null,
      "outputs": []
    },
    {
      "cell_type": "code",
      "metadata": {
        "id": "5fjfDVvhwlz-"
      },
      "source": [
        "iot_data.head()"
      ],
      "execution_count": null,
      "outputs": []
    },
    {
      "cell_type": "code",
      "metadata": {
        "id": "TDkJgBRJwl0D"
      },
      "source": [
        "# Estimate the mean of the iot data for every minute\n",
        "iot_data.resample('60S').mean()"
      ],
      "execution_count": null,
      "outputs": []
    },
    {
      "cell_type": "code",
      "metadata": {
        "id": "pTaucOzzwl0H"
      },
      "source": [
        "#  Plot mean of the iot data per every minute\n",
        "iot_data.resample('60S').mean().plot(figsize=(8,5), \n",
        "                                     title='Minutely change of temperature, humidity, and luminosity')\n",
        "plt.legend(bbox_to_anchor=(1.02, 1.0))"
      ],
      "execution_count": null,
      "outputs": []
    },
    {
      "cell_type": "code",
      "metadata": {
        "id": "12Ydfv9ULNBl"
      },
      "source": [
        "#  Plot mean of the iot data per every minute\n",
        "iot_data[['r_ratio', 'g_ratio', 'b_ratio']].resample('60S').mean().plot(figsize=(10,5), \n",
        "                                     title='Minutely change of R, G, B',\n",
        "                                     color=\"rgb\")"
      ],
      "execution_count": null,
      "outputs": []
    },
    {
      "cell_type": "code",
      "metadata": {
        "id": "cMHVdg3awl0M"
      },
      "source": [
        "# Estimate the mean of iot data for every hour\n",
        "iot_data.resample('H').mean()  # mean per each hour"
      ],
      "execution_count": null,
      "outputs": []
    },
    {
      "cell_type": "code",
      "metadata": {
        "id": "44z_H8_DPqIV"
      },
      "source": [
        "iot_data.resample('H').mean().shape, iot_data.resample('H').mean().info()"
      ],
      "execution_count": null,
      "outputs": []
    },
    {
      "cell_type": "code",
      "metadata": {
        "id": "7zNu8qnxwl0Q"
      },
      "source": [
        "#  Plot mean of the iot data per every hour \n",
        "iot_data.resample('H').mean().plot(figsize=(10,6), \n",
        "                                   title='Hourly change of temperature, humidity, and luminosity') #, \n",
        "                                #    ylim=[0,500])"
      ],
      "execution_count": null,
      "outputs": []
    },
    {
      "cell_type": "code",
      "metadata": {
        "id": "QXDpqM0IMSho"
      },
      "source": [
        "#  Plot mean of the iot data per every minute\n",
        "iot_data[['r_ratio', 'g_ratio', 'b_ratio']].resample('H').mean().plot(figsize=(10,6), \n",
        "                                    color = ['red', 'green', 'blue'],\n",
        "                                    title='Hourly change of R, G, B')"
      ],
      "execution_count": null,
      "outputs": []
    },
    {
      "cell_type": "markdown",
      "metadata": {
        "id": "4wCl6uERks-6"
      },
      "source": [
        "## [도전하기]  하루 24 시간 동안의 R,G,B 변화 그래프를 그려보시오."
      ]
    },
    {
      "cell_type": "code",
      "metadata": {
        "id": "JyLg04APwl0W"
      },
      "source": [
        "# Estimate the mean of iot data for every day\n",
        "iot_data.resample('D').mean()"
      ],
      "execution_count": null,
      "outputs": []
    },
    {
      "cell_type": "code",
      "metadata": {
        "id": "gVG9n14NRpMr"
      },
      "source": [
        "iot_data.resample('D').mean().shape, iot_data.resample('D').mean().info()"
      ],
      "execution_count": null,
      "outputs": []
    },
    {
      "cell_type": "code",
      "metadata": {
        "id": "7pu_nLRlR43f"
      },
      "source": [
        "iot_data.resample('D').mean().head()"
      ],
      "execution_count": null,
      "outputs": []
    },
    {
      "cell_type": "code",
      "metadata": {
        "id": "xdaLijZESQJD"
      },
      "source": [
        "iot_data_day=iot_data.resample('D').mean()\n",
        "iot_data_day.head()"
      ],
      "execution_count": null,
      "outputs": []
    },
    {
      "cell_type": "code",
      "metadata": {
        "id": "FRRF6x-rSacH"
      },
      "source": [
        "iot_data_day.info()"
      ],
      "execution_count": null,
      "outputs": []
    },
    {
      "cell_type": "code",
      "metadata": {
        "id": "xuIjKqS4wl0b"
      },
      "source": [
        "#  Plot mean of the iot data per every day\n",
        "iot_data.resample('D').mean().plot(kind='bar', #marker='o', ms=6, figsize=(12,6), \n",
        "                                   title='Daily change of temperature, humidity, and luminosity')"
      ],
      "execution_count": null,
      "outputs": []
    },
    {
      "cell_type": "code",
      "metadata": {
        "id": "hNwnad-1Mq2J"
      },
      "source": [
        "#  Plot mean of the iot data per every minute\n",
        "iot_data[['r_ratio', 'g_ratio', 'b_ratio']].resample('D').mean().plot(figsize=(10,6), \n",
        "                                    color = ['r','g','b'], #marker='o', ms=6, \n",
        "                                    title='Dayly change of R, G, B')"
      ],
      "execution_count": null,
      "outputs": []
    },
    {
      "cell_type": "markdown",
      "metadata": {
        "id": "YWg8g8NLNEq5"
      },
      "source": [
        "## 위의 그래프를 파이 그래프로 그려보시오."
      ]
    },
    {
      "cell_type": "code",
      "metadata": {
        "id": "Ww1n14LgMyu0"
      },
      "source": [
        "#  Plot mean of the iot data per every day\n",
        "# df.plot.pie(subplots=True, figsize=(6, 3))\n",
        "iot_rgb = iot_data[['r_ratio', 'g_ratio', 'b_ratio']].resample('D').mean()\n",
        "iot_rgb.head()\n"
      ],
      "execution_count": null,
      "outputs": []
    },
    {
      "cell_type": "code",
      "metadata": {
        "id": "iHXiQOJ3hDUE"
      },
      "source": [
        "iot_rgb.iloc[0],iot_rgb.iloc[1]"
      ],
      "execution_count": null,
      "outputs": []
    },
    {
      "cell_type": "code",
      "metadata": {
        "id": "-j_JwzWzUMsE"
      },
      "source": [
        "iot_rgb.index, len(iot_rgb.index)"
      ],
      "execution_count": null,
      "outputs": []
    },
    {
      "cell_type": "code",
      "metadata": {
        "id": "njj5inFhUsNY"
      },
      "source": [
        "# Convert timestamp to date string\n",
        "iot_rgb.index[0].strftime('%Y-%m-%d')"
      ],
      "execution_count": null,
      "outputs": []
    },
    {
      "cell_type": "code",
      "metadata": {
        "id": "Z0qbRkwbg0Ki"
      },
      "source": [
        "iot_rgb.iloc[0].plot.pie(subplots=True, figsize=(5,3), \n",
        "                         colors = ['red', 'green', 'blue'], labeldistance=None, \n",
        "                         autopct='%.2f', \n",
        "                         title='Daily change of R, G, B')\n",
        "plt.ylabel(iot_rgb.index[0].strftime('%Y-%m-%d'))\n",
        "plt.show()"
      ],
      "execution_count": null,
      "outputs": []
    },
    {
      "cell_type": "markdown",
      "metadata": {
        "id": "GAwnIF7LxcBX"
      },
      "source": [
        "## Weekly graph"
      ]
    },
    {
      "cell_type": "code",
      "metadata": {
        "id": "HtVlVQjtyifN"
      },
      "source": [
        "# Estimate the mean of iot data for every week\n",
        "iot_data.resample('W').mean()"
      ],
      "execution_count": null,
      "outputs": []
    },
    {
      "cell_type": "code",
      "metadata": {
        "id": "-2V_u9mAyo3z"
      },
      "source": [
        "#  Plot mean of the iot data per every week\n",
        "iot_data.resample('W').mean().plot(kind='bar', #marker='o', ms=10, \n",
        "                                   figsize=(12,6), \n",
        "                                   title='Weekly change of temperature, humidity, and luminosity, pressure, R, G , B')"
      ],
      "execution_count": null,
      "outputs": []
    },
    {
      "cell_type": "code",
      "metadata": {
        "id": "JfDPpCrpdKHE"
      },
      "source": [
        "#  Plot mean of the iot data per every week\n",
        "iot_data['temperature'].resample('W').mean().plot(kind='bar', #marker='o', ms=10, \n",
        "                                   figsize=(12,6), \n",
        "                                   title='Weekly change of temperature')"
      ],
      "execution_count": null,
      "outputs": []
    },
    {
      "cell_type": "markdown",
      "metadata": {
        "id": "J78vRZd9rNbg"
      },
      "source": [
        "### 다중 파이 그래프\n",
        "- https://medium.com/@kvnamipara/a-better-visualisation-of-pie-charts-by-matplotlib-935b7667d77f"
      ]
    },
    {
      "cell_type": "code",
      "metadata": {
        "id": "FHgZpSWiqdF-"
      },
      "source": [
        "fig, axs = plt.subplots(nrows=1, ncols=iot_rgb.index.size, figsize=(20,5))\n",
        "\n",
        "fig.subplots_adjust(hspace=0.5, wspace=0.05)\n",
        "\n",
        "for row in range(iot_rgb.index.size):\n",
        "    fig.add_subplot(axs[row] )\n",
        "    plt.pie(iot_rgb.iloc[row],\n",
        "            colors = ['red', 'green', 'blue'], labeldistance=None, \n",
        "                         autopct='%.2f')  #, labels=df.columns)\n",
        "    plt.ylabel(iot_rgb.index[row].strftime('%Y-%m-%d'))\n",
        "    # plt.axis('off')"
      ],
      "execution_count": null,
      "outputs": []
    },
    {
      "cell_type": "code",
      "metadata": {
        "id": "6dS0OnwOnoaM"
      },
      "source": [
        "for row in ax:\n",
        "    for col in row:\n",
        "        col.plot(x, y)"
      ],
      "execution_count": null,
      "outputs": []
    },
    {
      "cell_type": "code",
      "metadata": {
        "id": "rBrWEwN2uyb4"
      },
      "source": [
        "fig, axs = plt.subplots(nrows=(iot_rgb.index.size-1)//7+1, ncols=7, figsize=(16,16))\n",
        "# axs.set_axis_off()\n",
        "\n",
        "fig.subplots_adjust(hspace=0.5, wspace=0.05)\n",
        "idx=0\n",
        "for row in axs:\n",
        "    # fig.add_subplot(axs[row] )\n",
        "    # fig.add_subplot(5, 7, row+1)\n",
        "    # ax = axs[row]\n",
        "    for col in row:\n",
        "        col.pie(iot_rgb.iloc[idx],\n",
        "            colors = ['red', 'green', 'blue'], labeldistance=None, \n",
        "                         autopct='%.2f')  #, labels=df.columns)\n",
        "        \n",
        "        col.set_ylabel(iot_rgb.index[idx].strftime('%Y-%m-%d'),fontsize=12)\n",
        "        idx = idx + 1\n",
        "\n",
        "        if idx == iot_rgb.index.size:\n",
        "            idx = iot_rgb.index.size-1\n",
        "        \n",
        "    # plt.axis('off')\n",
        "    # plt.axis('off')\n",
        "    # plt.grid(False)\n",
        "plt.show()"
      ],
      "execution_count": null,
      "outputs": []
    },
    {
      "cell_type": "code",
      "metadata": {
        "id": "hrLimCddnx9U"
      },
      "source": [
        "fig, axs = plt.subplots(nrows=(iot_rgb.index.size-1)//7+1, ncols=7, figsize=(16,16))\n",
        "# axs.set_axis_off()\n",
        "\n",
        "fig.subplots_adjust(hspace=0.5, wspace=0.05)\n",
        "\n",
        "for row in range(iot_rgb.index.size):\n",
        "    # fig.add_subplot(axs[row] )\n",
        "    fig.add_subplot(5, 7, row+1)\n",
        "    ax = axs[row]\n",
        "    plt.pie(iot_rgb.iloc[row],\n",
        "            colors = ['red', 'green', 'blue'], labeldistance=None, \n",
        "                         autopct='%.2f')  #, labels=df.columns)\n",
        "    plt.ylabel(iot_rgb.index[row].strftime('%Y-%m-%d'),fontsize=14)\n",
        "    # plt.axis('off')\n",
        "    # plt.axis('off')\n",
        "    plt.grid(False)\n",
        "plt.show()"
      ],
      "execution_count": null,
      "outputs": []
    },
    {
      "cell_type": "markdown",
      "metadata": {
        "id": "3wvbI6pXnfCs"
      },
      "source": [
        "### animate pie chart\n",
        "- https://towardsdatascience.com/learn-how-to-create-animated-graphs-in-python-fce780421afe\n",
        "- https://pinkwink.kr/1090"
      ]
    },
    {
      "cell_type": "code",
      "metadata": {
        "id": "T0r-hoYw7Svs"
      },
      "source": [
        "iot_rgb.columns"
      ],
      "execution_count": null,
      "outputs": []
    },
    {
      "cell_type": "code",
      "metadata": {
        "id": "0A5SzUM95xkI"
      },
      "source": [
        "fig,ax = plt.subplots()\n",
        "explode=[0.01,0.01,0.01] #pop out each slice from the pie\n",
        "def getmepie(i):\n",
        "    iv = min(i, len(iot_rgb.index)-1)\n",
        "    # def absolute_value(val): #turn % back to a number\n",
        "    #     a  = np.round(val/100.*df1.head(i).max().sum(), 0)\n",
        "    #     return int(a)\n",
        "    ax.clear()\n",
        "    plot = iot_rgb.iloc[iv].plot.pie(y=iot_rgb.columns, autopct='%.2f', label='',explode = explode, colors=['r','g','b'], shadow = True)\n",
        "    plot.set_title('Date\\n' + str(iot_rgb.index[iv].strftime('%Y-%m-%d')), fontsize=12)\n",
        "\n",
        "# import matplotlib.animation as ani\n",
        "animator = animation.FuncAnimation(fig, getmepie, interval = 200)\n",
        "# plt.show()\n",
        "rc('animation', html='html5')\n",
        "animator"
      ],
      "execution_count": null,
      "outputs": []
    },
    {
      "cell_type": "markdown",
      "metadata": {
        "id": "CiIDU0dHwl0h"
      },
      "source": [
        "## 와, Great!"
      ]
    },
    {
      "cell_type": "code",
      "metadata": {
        "id": "LgCISM41wl0j"
      },
      "source": [
        ""
      ],
      "execution_count": null,
      "outputs": []
    }
  ]
}