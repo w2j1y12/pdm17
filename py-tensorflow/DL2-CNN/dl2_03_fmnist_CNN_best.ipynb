{
  "nbformat": 4,
  "nbformat_minor": 0,
  "metadata": {
    "accelerator": "GPU",
    "colab": {
      "name": "dl2-03-fmnist-CNN-best.ipynb",
      "provenance": [],
      "collapsed_sections": [],
      "include_colab_link": true
    },
    "interpreter": {
      "hash": "3834ce636a3ba6c6c2bd8b9b527c48eede78c367f849f6cce666ea7f1d26e2fb"
    },
    "kernelspec": {
      "display_name": "Python 3.8.5 64-bit ('base': conda)",
      "name": "python3"
    },
    "language_info": {
      "codemirror_mode": {
        "name": "ipython",
        "version": 3
      },
      "file_extension": ".py",
      "mimetype": "text/x-python",
      "name": "python",
      "nbconvert_exporter": "python",
      "pygments_lexer": "ipython3",
      "version": "3.8.5"
    }
  },
  "cells": [
    {
      "cell_type": "markdown",
      "metadata": {
        "id": "view-in-github",
        "colab_type": "text"
      },
      "source": [
        "<a href=\"https://colab.research.google.com/github/w2j1y12/pdm17/blob/main/py-tensorflow/DL2-CNN/dl2_03_fmnist_CNN_best.ipynb\" target=\"_parent\"><img src=\"https://colab.research.google.com/assets/colab-badge.svg\" alt=\"Open In Colab\"/></a>"
      ]
    },
    {
      "cell_type": "markdown",
      "metadata": {
        "id": "rswfCVLZ-QW0"
      },
      "source": [
        "# **CNN model of fmnist dataset**\n",
        "- Conv2D + FCN\n",
        "    * Conv2D : 2차원 합성곱 필터링 + 풀링(Pooling)\n",
        "    - > 2차원 필터로 영상을 대표하는 특징을 추출\n",
        "    * FCN : 1차원 완전연결신경망\n",
        "    - > Conv2D에서 추출된 대표 특징들을 이용하여 FCN으로 최종 학습 완료\n",
        "    \n",
        "\n",
        "***\n",
        "- ## Traget: Find the best model of fmnist dataset\n",
        "***\n",
        "\n",
        "![mnist_NN_2_layers](https://img1.daumcdn.net/thumb/R1280x0/?scode=mtistory2&fname=https%3A%2F%2Fblog.kakaocdn.net%2Fdn%2FdJp5Z6%2FbtqAPebnF3x%2FQCe5vVcskhmxe964bGz4iK%2Fimg.png)\n",
        "\n",
        "(source: https://img1.daumcdn.net/thumb/R1280x0/?scode=mtistory2&fname=https%3A%2F%2Fblog.kakaocdn.net%2Fdn%2FdJp5Z6%2FbtqAPebnF3x%2FQCe5vVcskhmxe964bGz4iK%2Fimg.png)"
      ]
    },
    {
      "cell_type": "markdown",
      "metadata": {
        "id": "ISueys4bNHd1"
      },
      "source": [
        "## dataset: fashion_mnist\n",
        "- (60000, 28, 28), train\n",
        "- (10000, 28, 28), test\n",
        "- grayscale images of items of 10 types of clothings, such as shoes, t-shirts, dresses, and more.\n",
        "- class names\n",
        "> class_names = ['T-shirt/top', 'Trouser', 'Pullover', 'Dress', 'Coat', 'Sandal', 'Shirt', 'Sneaker', 'Bag', 'Ankle boot']\n",
        "\n",
        "- DL of fmnist\n",
        "> https://machinelearningmastery.com/how-to-develop-a-cnn-from-scratch-for-fashion-mnist-clothing-classification/\n"
      ]
    },
    {
      "cell_type": "markdown",
      "metadata": {
        "id": "1yhvkxS_HhpK"
      },
      "source": [
        "## Search the best model of C2F2\n",
        "- callback\n",
        "    - Early stopping\n",
        "    - model checkpoint"
      ]
    },
    {
      "cell_type": "code",
      "metadata": {
        "id": "8GgGzPXPVyfa",
        "colab": {
          "base_uri": "https://localhost:8080/"
        },
        "outputId": "c3501a18-52e8-4d7f-d2d4-b55b02d84033"
      },
      "source": [
        "import numpy as np\n",
        "import tensorflow as tf\n",
        "from tensorflow import keras\n",
        "import pandas as pd\n",
        "import matplotlib.pyplot as plt\n",
        "# %matplotlib inline\n",
        "\n",
        "tf.random.set_seed(0)\n",
        "\n",
        "print(tf.__version__)"
      ],
      "execution_count": 1,
      "outputs": [
        {
          "output_type": "stream",
          "name": "stdout",
          "text": [
            "2.7.0\n"
          ]
        }
      ]
    },
    {
      "cell_type": "code",
      "metadata": {
        "id": "nMZqMpIvIlwf"
      },
      "source": [
        "# import TF2 submodules\n",
        "from tensorflow.keras import layers, models, callbacks"
      ],
      "execution_count": 2,
      "outputs": []
    },
    {
      "cell_type": "markdown",
      "metadata": {
        "id": "-0IOOUM14Jk1"
      },
      "source": [
        "## **데이터 로딩, 정규화**"
      ]
    },
    {
      "cell_type": "code",
      "metadata": {
        "id": "N1ogJ7I64Fz-",
        "colab": {
          "base_uri": "https://localhost:8080/"
        },
        "outputId": "678f3e43-d540-4b33-8483-bbb97de0cad5"
      },
      "source": [
        "from keras.datasets import fashion_mnist\n",
        "\n",
        "(X_train0, y_train0), (X_test0, y_test0) = fashion_mnist.load_data()\n",
        "\n",
        "# Reshape\n",
        "X_train = X_train0.reshape(60000,28,28,1)\n",
        "X_test = X_test0.reshape(10000,28,28,1)\n",
        "\n",
        "# Normalization\n",
        "X_train, X_test = X_train/255.0, X_test/255.0 # 정규화\n",
        "\n",
        "print(\"X_train={0}\".format(X_train.shape))\n",
        "print(\"y_train={0}\".format(y_train0.shape)) \n",
        "print(\"X_test={0}\".format(X_test.shape))\n",
        "print(\"y_test={0}\".format(y_test0.shape))"
      ],
      "execution_count": 5,
      "outputs": [
        {
          "output_type": "stream",
          "name": "stdout",
          "text": [
            "Downloading data from https://storage.googleapis.com/tensorflow/tf-keras-datasets/train-labels-idx1-ubyte.gz\n",
            "32768/29515 [=================================] - 0s 0us/step\n",
            "40960/29515 [=========================================] - 0s 0us/step\n",
            "Downloading data from https://storage.googleapis.com/tensorflow/tf-keras-datasets/train-images-idx3-ubyte.gz\n",
            "26427392/26421880 [==============================] - 0s 0us/step\n",
            "26435584/26421880 [==============================] - 0s 0us/step\n",
            "Downloading data from https://storage.googleapis.com/tensorflow/tf-keras-datasets/t10k-labels-idx1-ubyte.gz\n",
            "16384/5148 [===============================================================================================] - 0s 0us/step\n",
            "Downloading data from https://storage.googleapis.com/tensorflow/tf-keras-datasets/t10k-images-idx3-ubyte.gz\n",
            "4423680/4422102 [==============================] - 0s 0us/step\n",
            "4431872/4422102 [==============================] - 0s 0us/step\n",
            "X_train=(60000, 28, 28, 1)\n",
            "y_train=(60000,)\n",
            "X_test=(10000, 28, 28, 1)\n",
            "y_test=(10000,)\n"
          ]
        }
      ]
    },
    {
      "cell_type": "code",
      "metadata": {
        "id": "F46-QZqJHiQ6",
        "colab": {
          "base_uri": "https://localhost:8080/"
        },
        "outputId": "2dd7eb21-ef74-43e9-ffa6-c7c02ff30cf0"
      },
      "source": [
        "# One-Hot-Encoding\n",
        "# Use function to_categorical() to do One-Hot-Encoding\n",
        "# tf.keras.utils.to_categorical\n",
        "from tensorflow.keras.utils import to_categorical\n",
        "\n",
        "y_train = to_categorical(y_train0, 10)\n",
        "y_test = to_categorical(y_test0, 10)\n",
        "y_train.shape,y_test.shape"
      ],
      "execution_count": 6,
      "outputs": [
        {
          "output_type": "execute_result",
          "data": {
            "text/plain": [
              "((60000, 10), (10000, 10))"
            ]
          },
          "metadata": {},
          "execution_count": 6
        }
      ]
    },
    {
      "cell_type": "code",
      "metadata": {
        "id": "eZ3OfP5PkEkL",
        "colab": {
          "base_uri": "https://localhost:8080/"
        },
        "outputId": "867c1eb7-c362-41ae-8555-beaa5b93e923"
      },
      "source": [
        "# y_train0.shape vs. y_train.shape\n",
        "y_train0.shape, y_train.shape"
      ],
      "execution_count": 7,
      "outputs": [
        {
          "output_type": "execute_result",
          "data": {
            "text/plain": [
              "((60000,), (60000, 10))"
            ]
          },
          "metadata": {},
          "execution_count": 7
        }
      ]
    },
    {
      "cell_type": "markdown",
      "metadata": {
        "id": "5z7SozStigmF"
      },
      "source": [
        "### Display fashions\n",
        "- one random fashion\n",
        "- 10 representative fashions"
      ]
    },
    {
      "cell_type": "code",
      "metadata": {
        "id": "IK7XT3XoirSL",
        "colab": {
          "base_uri": "https://localhost:8080/",
          "height": 286
        },
        "outputId": "ab30e7e5-c1a9-4f5d-900b-0781e23f794c"
      },
      "source": [
        "# Code here!\n",
        "# display one random image from the training set:\n",
        "class_names =  ['T-shirt/top', 'Trouser', 'Pullover', 'Dress', 'Coat', 'Sandal', 'Shirt', 'Sneaker', 'Bag', 'Ankle boot']\n",
        "\n",
        "idx = np.random.randint(0, X_train0.shape[0])\n",
        "print(idx)\n",
        "image = X_train0[idx]\n",
        "plt.imshow(image) #, cmap=plt.get_cmap('gray'))\n",
        "plt.title(class_names[y_train0[idx]])\n",
        "plt.xticks([])\n",
        "plt.yticks([])\n",
        "plt.show()"
      ],
      "execution_count": 8,
      "outputs": [
        {
          "output_type": "stream",
          "name": "stdout",
          "text": [
            "5540\n"
          ]
        },
        {
          "output_type": "display_data",
          "data": {
            "image/png": "[encoded data removed]",
            "text/plain": [
              "<Figure size 432x288 with 1 Axes>"
            ]
          },
          "metadata": {}
        }
      ]
    },
    {
      "cell_type": "code",
      "metadata": {
        "id": "LzhD5pcukau7",
        "colab": {
          "base_uri": "https://localhost:8080/",
          "height": 325
        },
        "outputId": "875ee456-f08a-4e21-cf2a-745d8defbd15"
      },
      "source": [
        "fig = plt.figure(figsize=(10,6))\n",
        "for i in range(10):\n",
        "    plt.subplot(2, 5, i+1)\n",
        "    num0_9 = X_train0[y_train0 == i]\n",
        "    # print(num0_9.shape)\n",
        "    plt.imshow(num0_9[0]) #, cmap='gray') #, interpolation='none')\n",
        "    plt.title(class_names[i])\n",
        "    plt.xticks([])\n",
        "    plt.yticks([])"
      ],
      "execution_count": 9,
      "outputs": [
        {
          "output_type": "display_data",
          "data": {
            "image/png": "[encoded data removed]",
            "text/plain": [
              "<Figure size 720x432 with 10 Axes>"
            ]
          },
          "metadata": {}
        }
      ]
    },
    {
      "cell_type": "markdown",
      "metadata": {
        "id": "55DYVfFXi0WR"
      },
      "source": [
        "# Design CNN"
      ]
    },
    {
      "cell_type": "markdown",
      "metadata": {
        "id": "iPcLIcUCcsiG"
      },
      "source": [
        "### import models, layers, callbacks\n",
        "- models: Sequential\n",
        "- layers: Conv2D, MaxPool2D, Flatten\n",
        "- callbacks: ModelCheckpoint, EarlyStopping"
      ]
    },
    {
      "cell_type": "code",
      "metadata": {
        "id": "NzqMC4Xtc3ZE"
      },
      "source": [
        "from keras.models import Sequential\n",
        "from keras.layers import Conv2D, MaxPool2D, Flatten\n",
        "from keras.callbacks import ModelCheckpoint, EarlyStopping"
      ],
      "execution_count": 10,
      "outputs": []
    },
    {
      "cell_type": "markdown",
      "metadata": {
        "id": "7Z6DJJUCei-s"
      },
      "source": [
        "## **CNN2 + FCN2**"
      ]
    },
    {
      "cell_type": "code",
      "metadata": {
        "id": "cSFVjVngsELo"
      },
      "source": [
        "# Random number seed\n",
        "np.random.seed(1234)\n",
        "tf.random.set_seed(1234)"
      ],
      "execution_count": 11,
      "outputs": []
    },
    {
      "cell_type": "code",
      "metadata": {
        "id": "pV3NFglM7P65"
      },
      "source": [
        "c2f2 = keras.models.Sequential([ \n",
        "    Conv2D(input_shape=(28,28,1), filters= 64, \n",
        "                kernel_size=(3,3),strides=(1,1),padding='same',activation='relu'),\n",
        "    MaxPool2D(pool_size=(2,2), strides=(2,2)), \n",
        "    Conv2D(filters= 32, \n",
        "                kernel_size=(3,3),strides=(1,1),padding='same',activation='relu'),\n",
        "    MaxPool2D(pool_size=(2,2), strides=(2,2)),\n",
        "    Flatten(), \n",
        "    keras.layers.Dense(128, activation='relu'),  \n",
        "    keras.layers.Dropout(0.25), \n",
        "    keras.layers.Dense(10, activation='softmax')\n",
        "])\n",
        "\n",
        "c2f2.compile(optimizer='adam',\n",
        "              loss='categorical_crossentropy',\n",
        "              metrics=['accuracy']) "
      ],
      "execution_count": 13,
      "outputs": []
    },
    {
      "cell_type": "code",
      "metadata": {
        "id": "OGtCiKy57YkR",
        "colab": {
          "base_uri": "https://localhost:8080/"
        },
        "outputId": "393d1668-ef49-4253-edaf-d12e273e32ac"
      },
      "source": [
        "c2f2.summary()"
      ],
      "execution_count": 14,
      "outputs": [
        {
          "output_type": "stream",
          "name": "stdout",
          "text": [
            "Model: \"sequential_1\"\n",
            "_________________________________________________________________\n",
            " Layer (type)                Output Shape              Param #   \n",
            "=================================================================\n",
            " conv2d_2 (Conv2D)           (None, 28, 28, 64)        640       \n",
            "                                                                 \n",
            " max_pooling2d_2 (MaxPooling  (None, 14, 14, 64)       0         \n",
            " 2D)                                                             \n",
            "                                                                 \n",
            " conv2d_3 (Conv2D)           (None, 14, 14, 32)        18464     \n",
            "                                                                 \n",
            " max_pooling2d_3 (MaxPooling  (None, 7, 7, 32)         0         \n",
            " 2D)                                                             \n",
            "                                                                 \n",
            " flatten_1 (Flatten)         (None, 1568)              0         \n",
            "                                                                 \n",
            " dense_2 (Dense)             (None, 128)               200832    \n",
            "                                                                 \n",
            " dropout_1 (Dropout)         (None, 128)               0         \n",
            "                                                                 \n",
            " dense_3 (Dense)             (None, 10)                1290      \n",
            "                                                                 \n",
            "=================================================================\n",
            "Total params: 221,226\n",
            "Trainable params: 221,226\n",
            "Non-trainable params: 0\n",
            "_________________________________________________________________\n"
          ]
        }
      ]
    },
    {
      "cell_type": "code",
      "metadata": {
        "id": "zw_pQPBdJmU8"
      },
      "source": [
        "mc_callback = callbacks.ModelCheckpoint(filepath=\"./fmnist_c2f2_best_weights.{epoch:03d}-{val_accuracy:.4f}.hdf5\", \n",
        "                              monitor='val_accuracy', verbose=0, save_best_only=True)\n",
        "es_callback = callbacks.EarlyStopping(monitor='val_accuracy', \n",
        "                            mode='max', verbose=1, patience=5)    # patience=5, 10, 20, 50"
      ],
      "execution_count": 15,
      "outputs": []
    },
    {
      "cell_type": "code",
      "metadata": {
        "id": "94GWWQt-7eRS",
        "colab": {
          "base_uri": "https://localhost:8080/"
        },
        "outputId": "d8c23a32-eeaa-4c15-de04-d97d9fd051cf"
      },
      "source": [
        "hist = c2f2.fit(X_train, y_train, epochs = 500 , batch_size =100, \n",
        "         callbacks=[mc_callback, es_callback], \n",
        "         validation_data=(X_test,y_test))\n",
        "# 영상이 복잡할 수록 정확도? 여튼 뭐가 떨어진대"
      ],
      "execution_count": 17,
      "outputs": [
        {
          "output_type": "stream",
          "name": "stdout",
          "text": [
            "Epoch 1/500\n",
            "600/600 [==============================] - 36s 10ms/step - loss: 0.5214 - accuracy: 0.8112 - val_loss: 0.3530 - val_accuracy: 0.8737\n",
            "Epoch 2/500\n",
            "600/600 [==============================] - 6s 10ms/step - loss: 0.3352 - accuracy: 0.8793 - val_loss: 0.3060 - val_accuracy: 0.8877\n",
            "Epoch 3/500\n",
            "600/600 [==============================] - 6s 10ms/step - loss: 0.2901 - accuracy: 0.8950 - val_loss: 0.2870 - val_accuracy: 0.8965\n",
            "Epoch 4/500\n",
            "600/600 [==============================] - 6s 9ms/step - loss: 0.2607 - accuracy: 0.9048 - val_loss: 0.2632 - val_accuracy: 0.9072\n",
            "Epoch 5/500\n",
            "600/600 [==============================] - 6s 10ms/step - loss: 0.2384 - accuracy: 0.9128 - val_loss: 0.2568 - val_accuracy: 0.9068\n",
            "Epoch 6/500\n",
            "600/600 [==============================] - 6s 10ms/step - loss: 0.2210 - accuracy: 0.9191 - val_loss: 0.2476 - val_accuracy: 0.9106\n",
            "Epoch 7/500\n",
            "600/600 [==============================] - 6s 10ms/step - loss: 0.2053 - accuracy: 0.9242 - val_loss: 0.2440 - val_accuracy: 0.9110\n",
            "Epoch 8/500\n",
            "600/600 [==============================] - 6s 10ms/step - loss: 0.1906 - accuracy: 0.9293 - val_loss: 0.2427 - val_accuracy: 0.9133\n",
            "Epoch 9/500\n",
            "600/600 [==============================] - 6s 9ms/step - loss: 0.1785 - accuracy: 0.9326 - val_loss: 0.2299 - val_accuracy: 0.9198\n",
            "Epoch 10/500\n",
            "600/600 [==============================] - 6s 10ms/step - loss: 0.1653 - accuracy: 0.9379 - val_loss: 0.2272 - val_accuracy: 0.9196\n",
            "Epoch 11/500\n",
            "600/600 [==============================] - 6s 9ms/step - loss: 0.1551 - accuracy: 0.9415 - val_loss: 0.2244 - val_accuracy: 0.9229\n",
            "Epoch 12/500\n",
            "600/600 [==============================] - 6s 10ms/step - loss: 0.1435 - accuracy: 0.9462 - val_loss: 0.2573 - val_accuracy: 0.9159\n",
            "Epoch 13/500\n",
            "600/600 [==============================] - 6s 10ms/step - loss: 0.1354 - accuracy: 0.9488 - val_loss: 0.2326 - val_accuracy: 0.9239\n",
            "Epoch 14/500\n",
            "600/600 [==============================] - 6s 9ms/step - loss: 0.1256 - accuracy: 0.9517 - val_loss: 0.2434 - val_accuracy: 0.9221\n",
            "Epoch 15/500\n",
            "600/600 [==============================] - 6s 9ms/step - loss: 0.1178 - accuracy: 0.9548 - val_loss: 0.2556 - val_accuracy: 0.9162\n",
            "Epoch 16/500\n",
            "600/600 [==============================] - 6s 9ms/step - loss: 0.1094 - accuracy: 0.9580 - val_loss: 0.2584 - val_accuracy: 0.9208\n",
            "Epoch 17/500\n",
            "600/600 [==============================] - 6s 9ms/step - loss: 0.1020 - accuracy: 0.9609 - val_loss: 0.2502 - val_accuracy: 0.9213\n",
            "Epoch 18/500\n",
            "600/600 [==============================] - 6s 9ms/step - loss: 0.0971 - accuracy: 0.9626 - val_loss: 0.2559 - val_accuracy: 0.9235\n",
            "Epoch 00018: early stopping\n"
          ]
        }
      ]
    },
    {
      "cell_type": "code",
      "metadata": {
        "id": "0-7is2U49A6Z",
        "colab": {
          "base_uri": "https://localhost:8080/"
        },
        "outputId": "13125afe-f9b1-4d0e-d859-6f57514c5786"
      },
      "source": [
        "c2f2.evaluate(X_test, y_test, batch_size =100)"
      ],
      "execution_count": 18,
      "outputs": [
        {
          "output_type": "stream",
          "name": "stdout",
          "text": [
            "100/100 [==============================] - 1s 6ms/step - loss: 0.2559 - accuracy: 0.9235\n"
          ]
        },
        {
          "output_type": "execute_result",
          "data": {
            "text/plain": [
              "[0.25587278604507446, 0.9235000014305115]"
            ]
          },
          "metadata": {},
          "execution_count": 18
        }
      ]
    },
    {
      "cell_type": "markdown",
      "metadata": {
        "id": "3Ub3qGnjs4EI"
      },
      "source": [
        "## Graph of loss and accuracy\n",
        "- model: C2F2"
      ]
    },
    {
      "cell_type": "code",
      "metadata": {
        "colab": {
          "base_uri": "https://localhost:8080/",
          "height": 295
        },
        "id": "x9EQ2Z_c2gYL",
        "outputId": "d5b68a10-9093-43e4-cfa1-430700b8e64b"
      },
      "source": [
        "# More graphs of loss and accuracy\n",
        "history_dict = hist.history\n",
        "loss = history_dict['loss']\n",
        "val_loss = history_dict['val_loss']\n",
        "\n",
        "epochs = range(1, len(loss) + 1)\n",
        "\n",
        "plt.figure(figsize=(14, 4))\n",
        "\n",
        "plt.subplot(1,2,1)\n",
        "plt.plot(epochs, loss, 'go-', label='Training Loss')\n",
        "plt.plot(epochs, val_loss, 'bd', label='Validation Loss')\n",
        "plt.plot(np.argmin(np.array(val_loss))+1,val_loss[np.argmin(np.array(val_loss))], 'r*', ms=12)\n",
        "plt.title('Training and Validation Loss, min: ' + str(np.round(val_loss[np.argmin(np.array(val_loss))],2)))\n",
        "plt.xlabel('Epochs')\n",
        "plt.ylabel('Loss')\n",
        "plt.legend()\n",
        "\n",
        "acc = history_dict['accuracy']\n",
        "val_acc = history_dict['val_accuracy']\n",
        "\n",
        "epochs = range(1, len(loss) + 1)\n",
        "\n",
        "plt.subplot(1,2,2)\n",
        "plt.plot(epochs, acc, 'go-', label='Training Accuracy') #, c='blue')\n",
        "plt.plot(epochs, val_acc, 'bd', label='Validation Accuracy') #, c='red')\n",
        "plt.plot(np.argmax(np.array(val_acc))+1,val_acc[np.argmax(np.array(val_acc))], 'r*', ms=12)\n",
        "plt.title('Training and Validation Accuracy, max: ' + str(np.round(val_acc[np.argmax(np.array(val_acc))],4)))\n",
        "plt.xlabel('Epochs')\n",
        "plt.ylabel('Accuracy')\n",
        "plt.legend()\n",
        "plt.show()"
      ],
      "execution_count": 19,
      "outputs": [
        {
          "output_type": "display_data",
          "data": {
            "image/png": "[encoded data removed]",
            "text/plain": [
              "<Figure size 1008x288 with 2 Axes>"
            ]
          },
          "metadata": {
            "needs_background": "light"
          }
        }
      ]
    },
    {
      "cell_type": "markdown",
      "metadata": {
        "id": "SUJxRQtafihM"
      },
      "source": [
        "## **CNN2 + FCN3**"
      ]
    },
    {
      "cell_type": "code",
      "metadata": {
        "id": "7cHrK78WsELt"
      },
      "source": [
        "# Random number seed\n",
        "np.random.seed(1234)\n",
        "tf.random.set_seed(1234)"
      ],
      "execution_count": 20,
      "outputs": []
    },
    {
      "cell_type": "code",
      "metadata": {
        "id": "Nl5CyAymAB34"
      },
      "source": [
        "c2f3 = keras.models.Sequential([ \n",
        "    Conv2D(input_shape=(28,28,1),filters= 64, kernel_size=(3,3),strides=(1,1),padding='same',activation='relu'),\n",
        "    MaxPool2D(pool_size=(2,2), strides=(2,2)), \n",
        "    Conv2D(filters= 32, kernel_size=(3,3),strides=(1,1),padding='same',activation='relu'),\n",
        "    MaxPool2D(pool_size=(2,2), strides=(2,2)),\n",
        "    Flatten(), \n",
        "    keras.layers.Dense(128, activation='relu'),  \n",
        "    keras.layers.Dropout(0.25), \n",
        "    keras.layers.Dense(64, activation='relu'),  \n",
        "    keras.layers.Dropout(0.25), \n",
        "    keras.layers.Dense(10, activation='softmax')\n",
        "])\n",
        "\n",
        "c2f3.compile(optimizer='adam',\n",
        "              loss='categorical_crossentropy',\n",
        "              metrics=['accuracy']) "
      ],
      "execution_count": 23,
      "outputs": []
    },
    {
      "cell_type": "code",
      "metadata": {
        "id": "gYxuGW_2ANL8",
        "colab": {
          "base_uri": "https://localhost:8080/"
        },
        "outputId": "b5d821a4-b1f9-4c60-ea1d-af091fd7bf06"
      },
      "source": [
        "c2f3.summary()"
      ],
      "execution_count": 24,
      "outputs": [
        {
          "output_type": "stream",
          "name": "stdout",
          "text": [
            "Model: \"sequential_3\"\n",
            "_________________________________________________________________\n",
            " Layer (type)                Output Shape              Param #   \n",
            "=================================================================\n",
            " conv2d_6 (Conv2D)           (None, 28, 28, 64)        640       \n",
            "                                                                 \n",
            " max_pooling2d_6 (MaxPooling  (None, 14, 14, 64)       0         \n",
            " 2D)                                                             \n",
            "                                                                 \n",
            " conv2d_7 (Conv2D)           (None, 14, 14, 32)        18464     \n",
            "                                                                 \n",
            " max_pooling2d_7 (MaxPooling  (None, 7, 7, 32)         0         \n",
            " 2D)                                                             \n",
            "                                                                 \n",
            " flatten_3 (Flatten)         (None, 1568)              0         \n",
            "                                                                 \n",
            " dense_7 (Dense)             (None, 128)               200832    \n",
            "                                                                 \n",
            " dropout_4 (Dropout)         (None, 128)               0         \n",
            "                                                                 \n",
            " dense_8 (Dense)             (None, 64)                8256      \n",
            "                                                                 \n",
            " dropout_5 (Dropout)         (None, 64)                0         \n",
            "                                                                 \n",
            " dense_9 (Dense)             (None, 10)                650       \n",
            "                                                                 \n",
            "=================================================================\n",
            "Total params: 228,842\n",
            "Trainable params: 228,842\n",
            "Non-trainable params: 0\n",
            "_________________________________________________________________\n"
          ]
        }
      ]
    },
    {
      "cell_type": "code",
      "metadata": {
        "id": "KMsTuhO2x61z"
      },
      "source": [
        "mc_callback = callbacks.ModelCheckpoint(filepath=\"./fmnist_c2f3_best_weights.{epoch:03d}-{val_accuracy:.4f}.hdf5\", \n",
        "                              monitor='val_accuracy', verbose=0, save_best_only=True)\n",
        "es_callback = callbacks.EarlyStopping(monitor='val_accuracy', \n",
        "                            mode='max', verbose=1, patience=5)    # patience=5, 10, 20, 50"
      ],
      "execution_count": 25,
      "outputs": []
    },
    {
      "cell_type": "code",
      "metadata": {
        "id": "lO1of4AOAQlV",
        "colab": {
          "base_uri": "https://localhost:8080/"
        },
        "outputId": "a2239768-464b-4a8c-9a0f-4d3534ee482a"
      },
      "source": [
        "hist = c2f3.fit(X_train, y_train, epochs=500, batch_size =100, \n",
        "         callbacks=[mc_callback, es_callback], \n",
        "         validation_data=(X_test,y_test))"
      ],
      "execution_count": 26,
      "outputs": [
        {
          "output_type": "stream",
          "name": "stdout",
          "text": [
            "Epoch 1/500\n",
            "600/600 [==============================] - 7s 11ms/step - loss: 0.6220 - accuracy: 0.7775 - val_loss: 0.3753 - val_accuracy: 0.8616\n",
            "Epoch 2/500\n",
            "600/600 [==============================] - 6s 10ms/step - loss: 0.3706 - accuracy: 0.8677 - val_loss: 0.3126 - val_accuracy: 0.8850\n",
            "Epoch 3/500\n",
            "600/600 [==============================] - 6s 10ms/step - loss: 0.3145 - accuracy: 0.8875 - val_loss: 0.2906 - val_accuracy: 0.8954\n",
            "Epoch 4/500\n",
            "600/600 [==============================] - 6s 10ms/step - loss: 0.2774 - accuracy: 0.9005 - val_loss: 0.2665 - val_accuracy: 0.9031\n",
            "Epoch 5/500\n",
            "600/600 [==============================] - 6s 10ms/step - loss: 0.2577 - accuracy: 0.9075 - val_loss: 0.2544 - val_accuracy: 0.9078\n",
            "Epoch 6/500\n",
            "600/600 [==============================] - 6s 10ms/step - loss: 0.2355 - accuracy: 0.9146 - val_loss: 0.2442 - val_accuracy: 0.9136\n",
            "Epoch 7/500\n",
            "600/600 [==============================] - 6s 10ms/step - loss: 0.2196 - accuracy: 0.9192 - val_loss: 0.2364 - val_accuracy: 0.9140\n",
            "Epoch 8/500\n",
            "600/600 [==============================] - 6s 10ms/step - loss: 0.2075 - accuracy: 0.9244 - val_loss: 0.2539 - val_accuracy: 0.9077\n",
            "Epoch 9/500\n",
            "600/600 [==============================] - 6s 10ms/step - loss: 0.1908 - accuracy: 0.9304 - val_loss: 0.2460 - val_accuracy: 0.9104\n",
            "Epoch 10/500\n",
            "600/600 [==============================] - 6s 10ms/step - loss: 0.1826 - accuracy: 0.9327 - val_loss: 0.2315 - val_accuracy: 0.9188\n",
            "Epoch 11/500\n",
            "600/600 [==============================] - 6s 10ms/step - loss: 0.1730 - accuracy: 0.9363 - val_loss: 0.2298 - val_accuracy: 0.9178\n",
            "Epoch 12/500\n",
            "600/600 [==============================] - 6s 10ms/step - loss: 0.1582 - accuracy: 0.9424 - val_loss: 0.2412 - val_accuracy: 0.9190\n",
            "Epoch 13/500\n",
            "600/600 [==============================] - 6s 10ms/step - loss: 0.1509 - accuracy: 0.9449 - val_loss: 0.2372 - val_accuracy: 0.9240\n",
            "Epoch 14/500\n",
            "600/600 [==============================] - 6s 10ms/step - loss: 0.1431 - accuracy: 0.9466 - val_loss: 0.2398 - val_accuracy: 0.9217\n",
            "Epoch 15/500\n",
            "600/600 [==============================] - 6s 10ms/step - loss: 0.1383 - accuracy: 0.9491 - val_loss: 0.2433 - val_accuracy: 0.9216\n",
            "Epoch 16/500\n",
            "600/600 [==============================] - 6s 10ms/step - loss: 0.1278 - accuracy: 0.9534 - val_loss: 0.2544 - val_accuracy: 0.9225\n",
            "Epoch 17/500\n",
            "600/600 [==============================] - 6s 10ms/step - loss: 0.1215 - accuracy: 0.9550 - val_loss: 0.2569 - val_accuracy: 0.9178\n",
            "Epoch 18/500\n",
            "600/600 [==============================] - 6s 10ms/step - loss: 0.1151 - accuracy: 0.9570 - val_loss: 0.2591 - val_accuracy: 0.9231\n",
            "Epoch 00018: early stopping\n"
          ]
        }
      ]
    },
    {
      "cell_type": "code",
      "metadata": {
        "id": "W-eIxCasDBil",
        "colab": {
          "base_uri": "https://localhost:8080/"
        },
        "outputId": "5de90264-dd0b-4f5e-ab81-1b313da8f34f"
      },
      "source": [
        " c2f3.evaluate(X_test, y_test, batch_size = 100)"
      ],
      "execution_count": 27,
      "outputs": [
        {
          "output_type": "stream",
          "name": "stdout",
          "text": [
            "100/100 [==============================] - 1s 6ms/step - loss: 0.2591 - accuracy: 0.9231\n"
          ]
        },
        {
          "output_type": "execute_result",
          "data": {
            "text/plain": [
              "[0.25912320613861084, 0.9230999946594238]"
            ]
          },
          "metadata": {},
          "execution_count": 27
        }
      ]
    },
    {
      "cell_type": "markdown",
      "metadata": {
        "id": "XxwYdib0fT56"
      },
      "source": [
        "## Graph of loss and accuracy\n",
        "- model: C2F3"
      ]
    },
    {
      "cell_type": "code",
      "metadata": {
        "colab": {
          "base_uri": "https://localhost:8080/",
          "height": 295
        },
        "id": "RRgGPgv6sELv",
        "outputId": "f79ca476-ba3a-4e14-fa1e-76f4ffc4b603"
      },
      "source": [
        "# More graphs of loss and accuracy\n",
        "history_dict = hist.history\n",
        "loss = history_dict['loss']\n",
        "val_loss = history_dict['val_loss']\n",
        "\n",
        "epochs = range(1, len(loss) + 1)\n",
        "\n",
        "plt.figure(figsize=(14, 4))\n",
        "\n",
        "plt.subplot(1,2,1)\n",
        "plt.plot(epochs, loss, 'go-', label='Training Loss')\n",
        "plt.plot(epochs, val_loss, 'bd', label='Validation Loss')\n",
        "plt.plot(np.argmin(np.array(val_loss))+1,val_loss[np.argmin(np.array(val_loss))], 'r*', ms=12)\n",
        "plt.title('Training and Validation Loss, min: ' + str(np.round(val_loss[np.argmin(np.array(val_loss))],2)))\n",
        "plt.xlabel('Epochs')\n",
        "plt.ylabel('Loss')\n",
        "plt.legend()\n",
        "\n",
        "acc = history_dict['accuracy']\n",
        "val_acc = history_dict['val_accuracy']\n",
        "\n",
        "epochs = range(1, len(loss) + 1)\n",
        "\n",
        "plt.subplot(1,2,2)\n",
        "plt.plot(epochs, acc, 'go-', label='Training Accuracy') #, c='blue')\n",
        "plt.plot(epochs, val_acc, 'bd', label='Validation Accuracy') #, c='red')\n",
        "plt.plot(np.argmax(np.array(val_acc))+1,val_acc[np.argmax(np.array(val_acc))], 'r*', ms=12)\n",
        "plt.title('Training and Validation Accuracy, max: ' + str(np.round(val_acc[np.argmax(np.array(val_acc))],4)))\n",
        "plt.xlabel('Epochs')\n",
        "plt.ylabel('Accuracy')\n",
        "plt.legend()\n",
        "plt.show()"
      ],
      "execution_count": 28,
      "outputs": [
        {
          "output_type": "display_data",
          "data": {
            "image/png": "[encoded data removed]",
            "text/plain": [
              "<Figure size 1008x288 with 2 Axes>"
            ]
          },
          "metadata": {
            "needs_background": "light"
          }
        }
      ]
    },
    {
      "cell_type": "markdown",
      "metadata": {
        "id": "5XYSVtC-DVsz"
      },
      "source": [
        "# **[DIY] Hidden layer에 따른 정확도**"
      ]
    },
    {
      "cell_type": "code",
      "metadata": {
        "id": "OiCc_UO2rGmp",
        "colab": {
          "base_uri": "https://localhost:8080/"
        },
        "outputId": "ad5e22ce-c72e-4a69-8c70-d4a75322e8ad"
      },
      "source": [
        "score1=c2f2.evaluate(X_test, y_test, batch_size = 100)\n",
        "score2=c2f3.evaluate(X_test, y_test, batch_size = 100)\n",
        "losses = [score1[0],score2[0]]\n",
        "accuracies= [score1[1],score2[1]]\n",
        "losses,accuracies"
      ],
      "execution_count": 29,
      "outputs": [
        {
          "output_type": "stream",
          "name": "stdout",
          "text": [
            "100/100 [==============================] - 1s 6ms/step - loss: 0.2559 - accuracy: 0.9235\n",
            "100/100 [==============================] - 1s 6ms/step - loss: 0.2591 - accuracy: 0.9231\n"
          ]
        },
        {
          "output_type": "execute_result",
          "data": {
            "text/plain": [
              "([0.25587278604507446, 0.25912320613861084],\n",
              " [0.9235000014305115, 0.9230999946594238])"
            ]
          },
          "metadata": {},
          "execution_count": 29
        }
      ]
    },
    {
      "cell_type": "code",
      "metadata": {
        "id": "vZv6a2aVRw9j",
        "colab": {
          "base_uri": "https://localhost:8080/",
          "height": 269
        },
        "outputId": "db0683e5-a4c5-4a9d-e7f9-cde893b0adcc"
      },
      "source": [
        "x = np.arange(2)\n",
        "cnns = ['C2F2','C2F3']\n",
        "\n",
        "plt.bar(x, accuracies)\n",
        "plt.xticks(x, cnns)\n",
        "plt.ylim((.9,.93))\n",
        "plt.show()"
      ],
      "execution_count": 30,
      "outputs": [
        {
          "output_type": "display_data",
          "data": {
            "image/png": "[encoded data removed]",
            "text/plain": [
              "<Figure size 432x288 with 1 Axes>"
            ]
          },
          "metadata": {
            "needs_background": "light"
          }
        }
      ]
    },
    {
      "cell_type": "markdown",
      "metadata": {
        "id": "gBPKMI4y3fsa"
      },
      "source": [
        "## 모형의 저장\n",
        "\n",
        "- 트레이닝이 끝난 모형은 save 메서드로 가중치와 함께 hdf5 형식으로 저장\n",
        "- load 명령으로 불러 사용"
      ]
    },
    {
      "cell_type": "markdown",
      "metadata": {
        "id": "PjYYv00wsELx"
      },
      "source": [
        "## Best models\n",
        "- c2f2: fmnist_c2f2_best_weights.013-0.9239.hdf5\n",
        "- c2f3: fmnist_c2f3_best_weights.013-0.9240.hdf5"
      ]
    },
    {
      "cell_type": "code",
      "metadata": {
        "id": "b7-ysIVy3fse",
        "colab": {
          "base_uri": "https://localhost:8080/"
        },
        "outputId": "ed7ef62b-3978-40b6-e053-ada7d544b50f"
      },
      "source": [
        "from keras.models import load_model\n",
        "\n",
        "model_best = load_model('fmnist_c2f2_best_weights.013-0.9239.hdf5')\n",
        "model_best.evaluate(X_test, y_test, batch_size=100)"
      ],
      "execution_count": 33,
      "outputs": [
        {
          "output_type": "stream",
          "name": "stdout",
          "text": [
            "100/100 [==============================] - 1s 6ms/step - loss: 0.2326 - accuracy: 0.9239\n"
          ]
        },
        {
          "output_type": "execute_result",
          "data": {
            "text/plain": [
              "[0.23263730108737946, 0.9239000082015991]"
            ]
          },
          "metadata": {},
          "execution_count": 33
        }
      ]
    },
    {
      "cell_type": "markdown",
      "metadata": {
        "id": "KF3UzDJotZrh"
      },
      "source": [
        "## Confusion matrix"
      ]
    },
    {
      "cell_type": "code",
      "metadata": {
        "id": "RV1IaOyeu6Em"
      },
      "source": [
        "from sklearn.metrics import confusion_matrix\n",
        "import seaborn as sns"
      ],
      "execution_count": 34,
      "outputs": []
    },
    {
      "cell_type": "code",
      "metadata": {
        "id": "Bxs1eC-cuO0Y"
      },
      "source": [
        "predictions = model_best.predict(X_test)"
      ],
      "execution_count": 35,
      "outputs": []
    },
    {
      "cell_type": "code",
      "metadata": {
        "id": "6Tqhg-UJujo5",
        "colab": {
          "base_uri": "https://localhost:8080/"
        },
        "outputId": "f37c24bd-6a47-4b46-9003-04b7b6f68611"
      },
      "source": [
        "predictions.shape"
      ],
      "execution_count": 36,
      "outputs": [
        {
          "output_type": "execute_result",
          "data": {
            "text/plain": [
              "(10000, 10)"
            ]
          },
          "metadata": {},
          "execution_count": 36
        }
      ]
    },
    {
      "cell_type": "code",
      "metadata": {
        "id": "nZch1JFSufoR",
        "colab": {
          "base_uri": "https://localhost:8080/"
        },
        "outputId": "7bd66f7e-a960-4d1c-a457-d6156a811ace"
      },
      "source": [
        "predictions0 = np.argmax(predictions, axis=1)\n",
        "predictions0.shape"
      ],
      "execution_count": 37,
      "outputs": [
        {
          "output_type": "execute_result",
          "data": {
            "text/plain": [
              "(10000,)"
            ]
          },
          "metadata": {},
          "execution_count": 37
        }
      ]
    },
    {
      "cell_type": "code",
      "metadata": {
        "id": "hiPMQeYXt12l"
      },
      "source": [
        "cm = confusion_matrix(y_test0, predictions0)"
      ],
      "execution_count": 38,
      "outputs": []
    },
    {
      "cell_type": "code",
      "metadata": {
        "id": "YITaGwYjvatc"
      },
      "source": [
        "# class_names =  ['T-shirt/top', 'Trouser', 'Pullover', 'Dress', 'Coat', 'Sandal', 'Shirt', 'Sneaker', 'Bag', 'Ankle boot']"
      ],
      "execution_count": 39,
      "outputs": []
    },
    {
      "cell_type": "code",
      "metadata": {
        "id": "2qGHMNU3u8ut",
        "colab": {
          "base_uri": "https://localhost:8080/",
          "height": 552
        },
        "outputId": "939a7eeb-119a-454d-ec49-0d5904a42415"
      },
      "source": [
        "plt.figure(figsize=(9,9))\n",
        "sns.heatmap(cm, cbar=False, xticklabels=class_names, yticklabels=class_names, fmt='d', annot=True, cmap=plt.cm.coolwarm)\n",
        "plt.xlabel('Predicted')\n",
        "plt.ylabel('Actual')\n",
        "plt.show()"
      ],
      "execution_count": 40,
      "outputs": [
        {
          "output_type": "display_data",
          "data": {
            "image/png": "[encoded data removed]",
            "text/plain": [
              "<Figure size 648x648 with 1 Axes>"
            ]
          },
          "metadata": {
            "needs_background": "light"
          }
        }
      ]
    },
    {
      "cell_type": "markdown",
      "metadata": {
        "id": "XR6u9ev1fpy3"
      },
      "source": [
        "---"
      ]
    }
  ]
}