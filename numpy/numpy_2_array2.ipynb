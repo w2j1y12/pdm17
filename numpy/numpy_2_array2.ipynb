{
  "nbformat": 4,
  "nbformat_minor": 0,
  "metadata": {
    "colab": {
      "name": "numpy_2_array2.ipynb",
      "provenance": [],
      "collapsed_sections": [],
      "include_colab_link": true
    },
    "kernelspec": {
      "name": "python3",
      "display_name": "Python 3"
    }
  },
  "cells": [
    {
      "cell_type": "markdown",
      "metadata": {
        "id": "view-in-github",
        "colab_type": "text"
      },
      "source": [
        "<a href=\"https://colab.research.google.com/github/w2j1y12/pdm17/blob/main/numpy/numpy_2_array2.ipynb\" target=\"_parent\"><img src=\"https://colab.research.google.com/assets/colab-badge.svg\" alt=\"Open In Colab\"/></a>"
      ]
    },
    {
      "cell_type": "markdown",
      "metadata": {
        "id": "_zrirXHfgmyY"
      },
      "source": [
        "# numpy\n",
        "## concatenate()를 이용한 배열 결합\n",
        "> [numpy 배열 합치기, concatenate 함수](https://m.blog.naver.com/PostView.nhn?blogId=qbxlvnf11&logNo=221490583222&categoryNo=0&proxyReferer=https%3A%2F%2Fwww.google.com%2F)\n",
        "\n",
        "-> 큰 데이터를 합치고, ~~~"
      ]
    },
    {
      "cell_type": "code",
      "metadata": {
        "id": "CDwOGQJ49LE3"
      },
      "source": [
        "import numpy as np"
      ],
      "execution_count": 1,
      "outputs": []
    },
    {
      "cell_type": "code",
      "metadata": {
        "id": "AJyEO89Y9bwx",
        "colab": {
          "base_uri": "https://localhost:8080/"
        },
        "outputId": "d1ae16e6-269d-4c60-809d-d60566530456"
      },
      "source": [
        "ar1 = np.array(range(1,5)).reshape(2,2)\n",
        "ar1"
      ],
      "execution_count": 2,
      "outputs": [
        {
          "output_type": "execute_result",
          "data": {
            "text/plain": [
              "array([[1, 2],\n",
              "       [3, 4]])"
            ]
          },
          "metadata": {},
          "execution_count": 2
        }
      ]
    },
    {
      "cell_type": "code",
      "metadata": {
        "id": "ZihwnXV4-yOt",
        "colab": {
          "base_uri": "https://localhost:8080/"
        },
        "outputId": "eb711df3-5b8c-45f5-d5db-8406a0d4b355"
      },
      "source": [
        "ar1.shape\n",
        "\n",
        "# shape로 모양을 먼저 확인하는 버릇"
      ],
      "execution_count": 3,
      "outputs": [
        {
          "output_type": "execute_result",
          "data": {
            "text/plain": [
              "(2, 2)"
            ]
          },
          "metadata": {},
          "execution_count": 3
        }
      ]
    },
    {
      "cell_type": "code",
      "metadata": {
        "colab": {
          "base_uri": "https://localhost:8080/"
        },
        "id": "fquIlsdIobef",
        "outputId": "24ef3f8b-6a09-4554-e878-9ee696441d38"
      },
      "source": [
        "np.array(range(5, 11)) # -> 1차원 array"
      ],
      "execution_count": 5,
      "outputs": [
        {
          "output_type": "execute_result",
          "data": {
            "text/plain": [
              "array([ 5,  6,  7,  8,  9, 10])"
            ]
          },
          "metadata": {},
          "execution_count": 5
        }
      ]
    },
    {
      "cell_type": "code",
      "metadata": {
        "id": "ZzFyvMlgeIGQ",
        "colab": {
          "base_uri": "https://localhost:8080/"
        },
        "outputId": "db94518d-5b66-40d0-c9c8-5d70e5a7d1f6"
      },
      "source": [
        "ar2 = np.array(range(5,11)).reshape(2,3)  \n",
        "# np.array(range(5,11)).reshape(-1,3)\n",
        "# reshape(-1,n) -> n에 맞춰서 알아서 만들어줌\n",
        "ar2"
      ],
      "execution_count": 6,
      "outputs": [
        {
          "output_type": "execute_result",
          "data": {
            "text/plain": [
              "array([[ 5,  6,  7],\n",
              "       [ 8,  9, 10]])"
            ]
          },
          "metadata": {},
          "execution_count": 6
        }
      ]
    },
    {
      "cell_type": "code",
      "metadata": {
        "id": "w-1gGrBueSqI",
        "colab": {
          "base_uri": "https://localhost:8080/"
        },
        "outputId": "844cba3c-e6af-4317-b940-600dcac310d5"
      },
      "source": [
        "ar2.shape  # 2 X 3 array"
      ],
      "execution_count": 7,
      "outputs": [
        {
          "output_type": "execute_result",
          "data": {
            "text/plain": [
              "(2, 3)"
            ]
          },
          "metadata": {},
          "execution_count": 7
        }
      ]
    },
    {
      "cell_type": "code",
      "metadata": {
        "colab": {
          "base_uri": "https://localhost:8080/"
        },
        "id": "BM-rT_Erow_T",
        "outputId": "3daa2dcb-2f61-4ad6-a4bc-6d000e478062"
      },
      "source": [
        "print(ar1)\n",
        "print(ar2)"
      ],
      "execution_count": 10,
      "outputs": [
        {
          "output_type": "stream",
          "name": "stdout",
          "text": [
            "[[1 2]\n",
            " [3 4]]\n",
            "[[ 5  6  7]\n",
            " [ 8  9 10]]\n"
          ]
        }
      ]
    },
    {
      "cell_type": "markdown",
      "metadata": {
        "id": "WadjyZoblwVM"
      },
      "source": [
        "---"
      ]
    },
    {
      "cell_type": "markdown",
      "metadata": {
        "id": "-RUqNH1jefLd"
      },
      "source": [
        "## concatenate()를 이용한 배열 합치기\n"
      ]
    },
    {
      "cell_type": "markdown",
      "metadata": {
        "id": "-rMO4Jzwfqnw"
      },
      "source": [
        "- concatenate(array1, array2, axis = 0)\n",
        "- concatenate(array1, array2, axis = 1)\n",
        "- concatenate(array1, array2, axis = None)"
      ]
    },
    {
      "cell_type": "code",
      "metadata": {
        "id": "Ib68XISkeW34",
        "colab": {
          "base_uri": "https://localhost:8080/"
        },
        "outputId": "0c99dcc8-c8b7-4ab2-be7f-4c6714860788"
      },
      "source": [
        "np.concatenate((ar1,ar1), axis=0)\n",
        "\n",
        "# 튜플로() 원하는 배열을 묶어줘야함\n",
        "# 행 단위로 출력됨"
      ],
      "execution_count": 11,
      "outputs": [
        {
          "output_type": "execute_result",
          "data": {
            "text/plain": [
              "array([[1, 2],\n",
              "       [3, 4],\n",
              "       [1, 2],\n",
              "       [3, 4]])"
            ]
          },
          "metadata": {},
          "execution_count": 11
        }
      ]
    },
    {
      "cell_type": "code",
      "metadata": {
        "colab": {
          "base_uri": "https://localhost:8080/"
        },
        "id": "UVaPhM6MpWwi",
        "outputId": "14262e85-a90c-41fc-b9c6-963a12eef2ff"
      },
      "source": [
        "np.concatenate((ar1,ar1,ar1), axis=0)"
      ],
      "execution_count": 13,
      "outputs": [
        {
          "output_type": "execute_result",
          "data": {
            "text/plain": [
              "array([[1, 2],\n",
              "       [3, 4],\n",
              "       [1, 2],\n",
              "       [3, 4],\n",
              "       [1, 2],\n",
              "       [3, 4]])"
            ]
          },
          "metadata": {},
          "execution_count": 13
        }
      ]
    },
    {
      "cell_type": "code",
      "metadata": {
        "id": "peJO0eQiezng",
        "colab": {
          "base_uri": "https://localhost:8080/"
        },
        "outputId": "c377e063-6bf7-4a23-bc2b-f96502622bf8"
      },
      "source": [
        "np.concatenate((ar1,ar1), axis=1)\n",
        "\n",
        "# axis =1 -> 가로로 확장 -> 배열 모양이 바뀜"
      ],
      "execution_count": 14,
      "outputs": [
        {
          "output_type": "execute_result",
          "data": {
            "text/plain": [
              "array([[1, 2, 1, 2],\n",
              "       [3, 4, 3, 4]])"
            ]
          },
          "metadata": {},
          "execution_count": 14
        }
      ]
    },
    {
      "cell_type": "code",
      "metadata": {
        "id": "HV9kfBoGf_29",
        "colab": {
          "base_uri": "https://localhost:8080/"
        },
        "outputId": "e94bcf6f-e1d7-41b0-a8c7-b07d8ea3abe8"
      },
      "source": [
        "np.concatenate((ar1,ar1), axis=None)"
      ],
      "execution_count": 15,
      "outputs": [
        {
          "output_type": "execute_result",
          "data": {
            "text/plain": [
              "array([1, 2, 3, 4, 1, 2, 3, 4])"
            ]
          },
          "metadata": {},
          "execution_count": 15
        }
      ]
    },
    {
      "cell_type": "markdown",
      "metadata": {
        "id": "hGAJVGgeKkiI"
      },
      "source": [
        "### ar2에 대하여도 배열합치기를 해보시오."
      ]
    },
    {
      "cell_type": "code",
      "metadata": {
        "id": "Ee9pMFym4Ne7",
        "colab": {
          "base_uri": "https://localhost:8080/"
        },
        "outputId": "3ccab652-fbaf-4e15-b197-5b04c2f9a01d"
      },
      "source": [
        "# Your code here!\n",
        "\n",
        "# 1 세로로 확장\n",
        "print(np.concatenate((ar2, ar2), axis=0))\n",
        "\n",
        "# 2 가로로 확장\n",
        "print(np.concatenate((ar2, ar2), axis=1))\n",
        "\n",
        "# 3\n",
        "print(np.concatenate((ar2, ar2), axis=None))\n"
      ],
      "execution_count": 20,
      "outputs": [
        {
          "output_type": "stream",
          "name": "stdout",
          "text": [
            "[[ 5  6  7]\n",
            " [ 8  9 10]\n",
            " [ 5  6  7]\n",
            " [ 8  9 10]]\n",
            "[[ 5  6  7  5  6  7]\n",
            " [ 8  9 10  8  9 10]]\n",
            "[ 5  6  7  8  9 10  5  6  7  8  9 10]\n"
          ]
        }
      ]
    },
    {
      "cell_type": "markdown",
      "metadata": {
        "id": "Hl_PgVdzgEAA"
      },
      "source": [
        "### Error in concatenation"
      ]
    },
    {
      "cell_type": "code",
      "metadata": {
        "id": "wdhuj5Vie8FX",
        "colab": {
          "base_uri": "https://localhost:8080/",
          "height": 208
        },
        "outputId": "5d9febc5-4b6c-4ba0-83af-0dc268c456c0"
      },
      "source": [
        "np.concatenate((ar1,ar2), axis=0)\n",
        "\n",
        "# ar1이랑 ar2 구조가 달라 오류\n",
        "# 따라서 합칠 배열의 구조가 같아야함"
      ],
      "execution_count": 21,
      "outputs": [
        {
          "output_type": "error",
          "ename": "ValueError",
          "evalue": "ignored",
          "traceback": [
            "\u001b[0;31m---------------------------------------------------------------------------\u001b[0m",
            "\u001b[0;31mValueError\u001b[0m                                Traceback (most recent call last)",
            "\u001b[0;32m<ipython-input-21-1c958c5ba355>\u001b[0m in \u001b[0;36m<module>\u001b[0;34m()\u001b[0m\n\u001b[0;32m----> 1\u001b[0;31m \u001b[0mnp\u001b[0m\u001b[0;34m.\u001b[0m\u001b[0mconcatenate\u001b[0m\u001b[0;34m(\u001b[0m\u001b[0;34m(\u001b[0m\u001b[0mar1\u001b[0m\u001b[0;34m,\u001b[0m\u001b[0mar2\u001b[0m\u001b[0;34m)\u001b[0m\u001b[0;34m,\u001b[0m \u001b[0maxis\u001b[0m\u001b[0;34m=\u001b[0m\u001b[0;36m0\u001b[0m\u001b[0;34m)\u001b[0m\u001b[0;34m\u001b[0m\u001b[0;34m\u001b[0m\u001b[0m\n\u001b[0m",
            "\u001b[0;32m<__array_function__ internals>\u001b[0m in \u001b[0;36mconcatenate\u001b[0;34m(*args, **kwargs)\u001b[0m\n",
            "\u001b[0;31mValueError\u001b[0m: all the input array dimensions for the concatenation axis must match exactly, but along dimension 1, the array at index 0 has size 2 and the array at index 1 has size 3"
          ]
        }
      ]
    },
    {
      "cell_type": "markdown",
      "metadata": {
        "id": "5w2gtJc570pG"
      },
      "source": [
        "> ar1의 열의 갯수 == ar2의 열의 갯수"
      ]
    },
    {
      "cell_type": "code",
      "metadata": {
        "id": "z3y05uAz8G-X",
        "colab": {
          "base_uri": "https://localhost:8080/"
        },
        "outputId": "2b3cd612-ce39-4f78-fc8a-876763d35dee"
      },
      "source": [
        "ar1.shape, ar2.shape\n",
        "# 구조를 확인하고"
      ],
      "execution_count": 22,
      "outputs": [
        {
          "output_type": "execute_result",
          "data": {
            "text/plain": [
              "((2, 2), (2, 3))"
            ]
          },
          "metadata": {},
          "execution_count": 22
        }
      ]
    },
    {
      "cell_type": "code",
      "metadata": {
        "id": "Gxhxr_Zq8cv1",
        "colab": {
          "base_uri": "https://localhost:8080/"
        },
        "outputId": "29264054-744b-40c0-fa3b-c5b4f9396a33"
      },
      "source": [
        "ar2.T.shape\n",
        "# 전치행렬 -> ar2.shape = (3,2)"
      ],
      "execution_count": 23,
      "outputs": [
        {
          "output_type": "execute_result",
          "data": {
            "text/plain": [
              "(3, 2)"
            ]
          },
          "metadata": {},
          "execution_count": 23
        }
      ]
    },
    {
      "cell_type": "code",
      "metadata": {
        "id": "-YluBjwJe-ZA",
        "colab": {
          "base_uri": "https://localhost:8080/"
        },
        "outputId": "15d88c7b-da5f-43d5-c164-9d912a84dad8"
      },
      "source": [
        "np.concatenate((ar1,ar2.T), axis=0)"
      ],
      "execution_count": 24,
      "outputs": [
        {
          "output_type": "execute_result",
          "data": {
            "text/plain": [
              "array([[ 1,  2],\n",
              "       [ 3,  4],\n",
              "       [ 5,  8],\n",
              "       [ 6,  9],\n",
              "       [ 7, 10]])"
            ]
          },
          "metadata": {},
          "execution_count": 24
        }
      ]
    },
    {
      "cell_type": "markdown",
      "metadata": {
        "id": "SdshjTzPfesK"
      },
      "source": [
        "### concatenate(array1, array2, axis = 1)"
      ]
    },
    {
      "cell_type": "code",
      "metadata": {
        "id": "w9kFrYBhfHk3",
        "colab": {
          "base_uri": "https://localhost:8080/"
        },
        "outputId": "1f5e0894-02f1-44ee-ec1a-c2379f36014b"
      },
      "source": [
        "np.concatenate((ar1,ar2), axis=1)"
      ],
      "execution_count": 25,
      "outputs": [
        {
          "output_type": "execute_result",
          "data": {
            "text/plain": [
              "array([[ 1,  2,  5,  6,  7],\n",
              "       [ 3,  4,  8,  9, 10]])"
            ]
          },
          "metadata": {},
          "execution_count": 25
        }
      ]
    },
    {
      "cell_type": "markdown",
      "metadata": {
        "id": "jyLRkxWphKuh"
      },
      "source": [
        "\n",
        "\n",
        "---\n",
        "\n",
        "\n",
        "\n",
        "---\n",
        "\n"
      ]
    },
    {
      "cell_type": "markdown",
      "metadata": {
        "id": "0bOTc7xGhNL_"
      },
      "source": [
        "## [복습] numpy 배열 연산: broadcasting\n",
        "> [파이썬 Numpy 라이브러리 (5) Broadcasting|작성자 예비개발자](https://blog.naver.com/qbxlvnf11/221509303462)"
      ]
    },
    {
      "cell_type": "code",
      "metadata": {
        "id": "dbwtQs2_gW4I",
        "colab": {
          "base_uri": "https://localhost:8080/"
        },
        "outputId": "2062de71-af9c-4516-858f-c5d5d7f476f3"
      },
      "source": [
        "a = np.array([1.0, 2.0, 3.0])\n",
        "b = np.array([2.0, 2.0, 2.0])\n",
        "a * b   # elementwise multiplication\n",
        "\n",
        "# 배열을 곱하면 배열의 요소끼리 곱해짐\n",
        "# [출처] 파이썬 Numpy 라이브러리 (5) Broadcasting|작성자 예비개발자\n"
      ],
      "execution_count": 26,
      "outputs": [
        {
          "output_type": "execute_result",
          "data": {
            "text/plain": [
              "array([2., 4., 6.])"
            ]
          },
          "metadata": {},
          "execution_count": 26
        }
      ]
    },
    {
      "cell_type": "code",
      "metadata": {
        "id": "Ulu6tHKKh_KH",
        "colab": {
          "base_uri": "https://localhost:8080/"
        },
        "outputId": "99da4f5b-83ae-4a5f-dff9-6b651eaec342"
      },
      "source": [
        "a = np.array([1.0, 2.0, 3.0])\n",
        "b = 2.0\n",
        "a * b   # broadcasted multiplication\n",
        "\n",
        "# 스칼라 값을 곱하면 배열의 요소 * 스칼라 값"
      ],
      "execution_count": 27,
      "outputs": [
        {
          "output_type": "execute_result",
          "data": {
            "text/plain": [
              "array([2., 4., 6.])"
            ]
          },
          "metadata": {},
          "execution_count": 27
        }
      ]
    },
    {
      "cell_type": "markdown",
      "metadata": {
        "id": "5GD4KImwiVMK"
      },
      "source": [
        "> 차원이 다른 두 개의 피연산자를 산술 연산할 때는 원래 연산이 불가능합니다.\n",
        "하지만, 연산이 가능하도록 배열 b가 브로드캐스팅이 되어 numpy array ([2.0, 2.0, 2.0])으로 확장됩니다."
      ]
    },
    {
      "cell_type": "markdown",
      "metadata": {
        "id": "AawX49nxjTc6"
      },
      "source": [
        "### 2차원 broadcasting"
      ]
    },
    {
      "cell_type": "code",
      "metadata": {
        "id": "knujYDR0iYLi",
        "colab": {
          "base_uri": "https://localhost:8080/"
        },
        "outputId": "84727234-226b-48c8-df50-3e3b37005837"
      },
      "source": [
        "a = np.array([[ 0.0,  0.0,  0.0],\n",
        "              [10.0, 10.0, 10.0],\n",
        "              [20.0, 20.0, 20.0],\n",
        "              [30.0, 30.0, 30.0]])\n",
        "\n",
        "b = np.array([1.0, 2.0, 3.0])\n",
        "\n",
        "a + b"
      ],
      "execution_count": 28,
      "outputs": [
        {
          "output_type": "execute_result",
          "data": {
            "text/plain": [
              "array([[ 1.,  2.,  3.],\n",
              "       [11., 12., 13.],\n",
              "       [21., 22., 23.],\n",
              "       [31., 32., 33.]])"
            ]
          },
          "metadata": {},
          "execution_count": 28
        }
      ]
    },
    {
      "cell_type": "code",
      "metadata": {
        "id": "cWfxzXxvjdWn",
        "colab": {
          "base_uri": "https://localhost:8080/"
        },
        "outputId": "eeae5c0b-c7c5-4591-ff1f-cfa6bb048e1c"
      },
      "source": [
        "(a+b).shape"
      ],
      "execution_count": 29,
      "outputs": [
        {
          "output_type": "execute_result",
          "data": {
            "text/plain": [
              "(4, 3)"
            ]
          },
          "metadata": {},
          "execution_count": 29
        }
      ]
    },
    {
      "cell_type": "code",
      "metadata": {
        "id": "LqvXRY40jjZ7",
        "colab": {
          "base_uri": "https://localhost:8080/"
        },
        "outputId": "67d0a843-6664-4b12-963f-2d9ac945d84a"
      },
      "source": [
        "from numpy import array, newaxis\n",
        "a = array([0.0, 10.0, 20.0, 30.0])\n",
        "b = array([1.0, 2.0, 3.0])\n",
        "# c = a + b\n",
        "# 구조가 달라서 에러\n",
        "c = a[:,newaxis] + b\n",
        "# a[:, newaxis] -> (4,1) 열벡터가 됨\n",
        "c\n"
      ],
      "execution_count": 31,
      "outputs": [
        {
          "output_type": "execute_result",
          "data": {
            "text/plain": [
              "array([[ 1.,  2.,  3.],\n",
              "       [11., 12., 13.],\n",
              "       [21., 22., 23.],\n",
              "       [31., 32., 33.]])"
            ]
          },
          "metadata": {},
          "execution_count": 31
        }
      ]
    },
    {
      "cell_type": "code",
      "metadata": {
        "id": "JHIEdW8s8RGN",
        "colab": {
          "base_uri": "https://localhost:8080/"
        },
        "outputId": "bcbd2b1f-2ecb-427d-b298-60737b033562"
      },
      "source": [
        "c.shape"
      ],
      "execution_count": 32,
      "outputs": [
        {
          "output_type": "execute_result",
          "data": {
            "text/plain": [
              "(4, 3)"
            ]
          },
          "metadata": {},
          "execution_count": 32
        }
      ]
    },
    {
      "cell_type": "markdown",
      "metadata": {
        "id": "1ncYRyHe-CZr"
      },
      "source": [
        "## numpy statistics\n",
        "> [numpy: 기술 통계](https://datascienceschool.net/01%20python/03.04%20%EA%B8%B0%EC%88%A0%20%ED%86%B5%EA%B3%84.html)\n",
        "- min(), max()\n",
        "- mean(), median(), var(), std()"
      ]
    },
    {
      "cell_type": "code",
      "metadata": {
        "id": "Y5ud-HFW8eIf",
        "colab": {
          "base_uri": "https://localhost:8080/"
        },
        "outputId": "817494e1-5d94-4c9b-b9a8-cac7616f84b9"
      },
      "source": [
        "# a = np.array(list(range(1,10)))\n",
        "a = np.arange(1,10)\n",
        "a"
      ],
      "execution_count": 38,
      "outputs": [
        {
          "output_type": "execute_result",
          "data": {
            "text/plain": [
              "array([1, 2, 3, 4, 5, 6, 7, 8, 9])"
            ]
          },
          "metadata": {},
          "execution_count": 38
        }
      ]
    },
    {
      "cell_type": "code",
      "metadata": {
        "id": "wH8of6HA_Prv",
        "colab": {
          "base_uri": "https://localhost:8080/"
        },
        "outputId": "29535461-a0da-4ee3-e23a-5a482e729103"
      },
      "source": [
        "# np.min, np.max\n",
        "a.min(), a.max()"
      ],
      "execution_count": 39,
      "outputs": [
        {
          "output_type": "execute_result",
          "data": {
            "text/plain": [
              "(1, 9)"
            ]
          },
          "metadata": {},
          "execution_count": 39
        }
      ]
    },
    {
      "cell_type": "code",
      "metadata": {
        "id": "ffwHAk09-73z",
        "colab": {
          "base_uri": "https://localhost:8080/"
        },
        "outputId": "b70dd181-189a-4ad1-f9d4-ad8f955ea99e"
      },
      "source": [
        "# array.min(), array.max()\n",
        "np.min(a), np.max(a)"
      ],
      "execution_count": 40,
      "outputs": [
        {
          "output_type": "execute_result",
          "data": {
            "text/plain": [
              "(1, 9)"
            ]
          },
          "metadata": {},
          "execution_count": 40
        }
      ]
    },
    {
      "cell_type": "code",
      "metadata": {
        "id": "kEtVFpFi_1b_",
        "colab": {
          "base_uri": "https://localhost:8080/"
        },
        "outputId": "f7bb3af7-c5a8-4930-d543-8ddcad48b646"
      },
      "source": [
        "# mean() and median()\n",
        "a.mean(), np.median(a)\n",
        "\n",
        "# mean은 되는데 median은 오류뜸\n",
        "# median은 np로 호출해서 매개변수를 넣어줘야함"
      ],
      "execution_count": 44,
      "outputs": [
        {
          "output_type": "execute_result",
          "data": {
            "text/plain": [
              "(5.0, 5.0)"
            ]
          },
          "metadata": {},
          "execution_count": 44
        }
      ]
    },
    {
      "cell_type": "code",
      "metadata": {
        "id": "g7IgKPOe_NBD",
        "colab": {
          "base_uri": "https://localhost:8080/"
        },
        "outputId": "27991ae0-bd4f-4d09-f037-389a21ed8145"
      },
      "source": [
        "# var(), std()\n",
        "a.var(), a.std()\n",
        "# 분산과 표준편차"
      ],
      "execution_count": 46,
      "outputs": [
        {
          "output_type": "execute_result",
          "data": {
            "text/plain": [
              "(6.666666666666667, 2.581988897471611)"
            ]
          },
          "metadata": {},
          "execution_count": 46
        }
      ]
    },
    {
      "cell_type": "code",
      "metadata": {
        "colab": {
          "base_uri": "https://localhost:8080/"
        },
        "id": "vQ3t7prjxDew",
        "outputId": "a19ffe53-be5d-49d4-c80b-ac4cc6430eaa"
      },
      "source": [
        "np.var(a), np.std(a)"
      ],
      "execution_count": 49,
      "outputs": [
        {
          "output_type": "execute_result",
          "data": {
            "text/plain": [
              "(6.666666666666667, 2.581988897471611)"
            ]
          },
          "metadata": {},
          "execution_count": 49
        }
      ]
    },
    {
      "cell_type": "markdown",
      "metadata": {
        "id": "wwGFoE7-A_sL"
      },
      "source": [
        "## 2차원 배열의 기술 통계\n",
        "- axis = 0\n",
        "- axis = 1"
      ]
    },
    {
      "cell_type": "code",
      "metadata": {
        "id": "zus29lwL_v8N",
        "colab": {
          "base_uri": "https://localhost:8080/"
        },
        "outputId": "d80c3645-6c6c-4ae1-c4e9-8ba91185f988"
      },
      "source": [
        "d2arr = np.arange(1,10).reshape(-1,3)\n",
        "d2arr"
      ],
      "execution_count": 50,
      "outputs": [
        {
          "output_type": "execute_result",
          "data": {
            "text/plain": [
              "array([[1, 2, 3],\n",
              "       [4, 5, 6],\n",
              "       [7, 8, 9]])"
            ]
          },
          "metadata": {},
          "execution_count": 50
        }
      ]
    },
    {
      "cell_type": "code",
      "metadata": {
        "id": "i79v3XNTCH1t",
        "colab": {
          "base_uri": "https://localhost:8080/"
        },
        "outputId": "547eb801-1d2a-4be1-9dae-1da9ec08c6dc"
      },
      "source": [
        "d2arr.max()"
      ],
      "execution_count": 51,
      "outputs": [
        {
          "output_type": "execute_result",
          "data": {
            "text/plain": [
              "9"
            ]
          },
          "metadata": {},
          "execution_count": 51
        }
      ]
    },
    {
      "cell_type": "code",
      "metadata": {
        "id": "zwM7hGGsCNc1",
        "colab": {
          "base_uri": "https://localhost:8080/"
        },
        "outputId": "419bb8e5-d869-4e44-b00a-774f09f0954c"
      },
      "source": [
        "d2arr.max(axis=0)\n",
        "# 각 열에서 제일 큰 요소 출력"
      ],
      "execution_count": 52,
      "outputs": [
        {
          "output_type": "execute_result",
          "data": {
            "text/plain": [
              "array([7, 8, 9])"
            ]
          },
          "metadata": {},
          "execution_count": 52
        }
      ]
    },
    {
      "cell_type": "code",
      "metadata": {
        "id": "A8-Nb6k0CQ1M",
        "colab": {
          "base_uri": "https://localhost:8080/"
        },
        "outputId": "00c46269-657c-43e3-9bf8-aab935258e45"
      },
      "source": [
        "d2arr.max(axis=1)\n",
        "# 각 행에서 제일 큰 요소 출력"
      ],
      "execution_count": 53,
      "outputs": [
        {
          "output_type": "execute_result",
          "data": {
            "text/plain": [
              "array([3, 6, 9])"
            ]
          },
          "metadata": {},
          "execution_count": 53
        }
      ]
    },
    {
      "cell_type": "code",
      "metadata": {
        "colab": {
          "base_uri": "https://localhost:8080/"
        },
        "id": "X8UT4-BLyQVK",
        "outputId": "a4e36a0a-f285-4357-ebf1-e442d4b2830b"
      },
      "source": [
        "print(d2arr.min(axis=None))\n",
        "print(d2arr.min(axis=0))\n",
        "print(d2arr.min(axis=1))"
      ],
      "execution_count": 56,
      "outputs": [
        {
          "output_type": "stream",
          "name": "stdout",
          "text": [
            "1\n",
            "[1 2 3]\n",
            "[1 4 7]\n"
          ]
        }
      ]
    },
    {
      "cell_type": "markdown",
      "metadata": {
        "id": "Rxyf4y2gC7xY"
      },
      "source": [
        "## [DIY: 도전과제]\n",
        "- axis = None, 1, 2 에 따른 평균을 구하시오."
      ]
    },
    {
      "cell_type": "code",
      "metadata": {
        "id": "YywXMIAqDMzz",
        "colab": {
          "base_uri": "https://localhost:8080/"
        },
        "outputId": "5c45d371-893f-4fb4-bb24-82e191bebf6e"
      },
      "source": [
        "# Your code here!\n",
        "\n",
        "# 1) axis=None -> 전체 요소의 평균\n",
        "print(d2arr.mean(axis=None))\n",
        "\n",
        "# 2) axis=0 ->각 열의 평균\n",
        "print(d2arr.mean(axis=0))\n",
        "\n",
        "# 3) axis=1 -> 각 행의 평균\n",
        "print(d2arr.mean(axis=1))"
      ],
      "execution_count": 55,
      "outputs": [
        {
          "output_type": "stream",
          "name": "stdout",
          "text": [
            "5.0\n",
            "[4. 5. 6.]\n",
            "[2. 5. 8.]\n"
          ]
        }
      ]
    }
  ]
}