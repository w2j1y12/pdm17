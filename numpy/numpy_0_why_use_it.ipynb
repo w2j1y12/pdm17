{
  "nbformat": 4,
  "nbformat_minor": 0,
  "metadata": {
    "kernelspec": {
      "display_name": "Python 3",
      "language": "python",
      "name": "python3"
    },
    "language_info": {
      "codemirror_mode": {
        "name": "ipython",
        "version": 3
      },
      "file_extension": ".py",
      "mimetype": "text/x-python",
      "name": "python",
      "nbconvert_exporter": "python",
      "pygments_lexer": "ipython3",
      "version": "3.7.5"
    },
    "colab": {
      "name": "numpy_0_why_use_it.ipynb",
      "provenance": [],
      "collapsed_sections": [],
      "include_colab_link": true
    }
  },
  "cells": [
    {
      "cell_type": "markdown",
      "metadata": {
        "id": "view-in-github",
        "colab_type": "text"
      },
      "source": [
        "<a href=\"https://colab.research.google.com/github/w2j1y12/pdm17/blob/main/numpy/numpy_0_why_use_it.ipynb\" target=\"_parent\"><img src=\"https://colab.research.google.com/assets/colab-badge.svg\" alt=\"Open In Colab\"/></a>"
      ]
    },
    {
      "cell_type": "markdown",
      "metadata": {
        "id": "sxXURoB1-TN5"
      },
      "source": [
        "# numpy  \n",
        "## What is numpy?  \n",
        "* python module to do math!  \n",
        "    - random number\n",
        "    - array -> ndarray\n",
        "    - math operations\n",
        "    - ...\n",
        "\n",
        "#### Why do data coders use & enjoy it?"
      ]
    },
    {
      "cell_type": "code",
      "metadata": {
        "id": "MCyAq6tk-JTj",
        "colab": {
          "base_uri": "https://localhost:8080/"
        },
        "outputId": "7fdb1dc1-2399-48a6-934c-fc9960d0df37"
      },
      "source": [
        "a=range(10)"
      ],
      "execution_count": 3,
      "outputs": [
        {
          "output_type": "execute_result",
          "data": {
            "text/plain": [
              "range(0, 10)"
            ]
          },
          "metadata": {},
          "execution_count": 3
        }
      ]
    },
    {
      "cell_type": "code",
      "metadata": {
        "colab": {
          "base_uri": "https://localhost:8080/"
        },
        "id": "BEPX5Gfeii5B",
        "outputId": "80321545-4204-4571-c1f4-b5331cf68e33"
      },
      "source": [
        "a"
      ],
      "execution_count": 4,
      "outputs": [
        {
          "output_type": "execute_result",
          "data": {
            "text/plain": [
              "range(0, 10)"
            ]
          },
          "metadata": {},
          "execution_count": 4
        }
      ]
    },
    {
      "cell_type": "code",
      "metadata": {
        "id": "EaupTQMB-JTq",
        "colab": {
          "base_uri": "https://localhost:8080/"
        },
        "outputId": "0524690b-2ed5-4af7-e90f-2c13b2bff456"
      },
      "source": [
        "la=list(a)\n",
        "la\n",
        "\n",
        "# 제일 마지막에 입련된 것이 출력"
      ],
      "execution_count": 5,
      "outputs": [
        {
          "output_type": "execute_result",
          "data": {
            "text/plain": [
              "[0, 1, 2, 3, 4, 5, 6, 7, 8, 9]"
            ]
          },
          "metadata": {},
          "execution_count": 5
        }
      ]
    },
    {
      "cell_type": "markdown",
      "metadata": {
        "id": "y0J9UXaNBEEZ"
      },
      "source": [
        "> 그러면 리스트 각 요소를 2배, 또는 5배로 변경하는 방법은?"
      ]
    },
    {
      "cell_type": "code",
      "metadata": {
        "id": "mkE27R9y-JTu",
        "colab": {
          "base_uri": "https://localhost:8080/"
        },
        "outputId": "fb243f2c-5261-4970-eef7-218acd80869e"
      },
      "source": [
        "2*la"
      ],
      "execution_count": 6,
      "outputs": [
        {
          "output_type": "execute_result",
          "data": {
            "text/plain": [
              "[0, 1, 2, 3, 4, 5, 6, 7, 8, 9, 0, 1, 2, 3, 4, 5, 6, 7, 8, 9]"
            ]
          },
          "metadata": {},
          "execution_count": 6
        }
      ]
    },
    {
      "cell_type": "markdown",
      "metadata": {
        "id": "inmElVhqjUeX"
      },
      "source": [
        "## 우리가 원하는 결과가 아니다."
      ]
    },
    {
      "cell_type": "code",
      "metadata": {
        "id": "pdLVw53O-JTx",
        "colab": {
          "base_uri": "https://localhost:8080/"
        },
        "outputId": "e4838d62-fea2-4758-813c-5556ccd2543f"
      },
      "source": [
        "[2 * i for i in la]\n",
        "\n",
        "# la라는 리스트의 요소 i에서 5(2)를 곱해라\n",
        "# 머신러닝에서 자주 사용 -> 잘 알아둬래"
      ],
      "execution_count": 7,
      "outputs": [
        {
          "output_type": "execute_result",
          "data": {
            "text/plain": [
              "[0, 2, 4, 6, 8, 10, 12, 14, 16, 18]"
            ]
          },
          "metadata": {},
          "execution_count": 7
        }
      ]
    },
    {
      "cell_type": "code",
      "metadata": {
        "id": "9XBLYZxH-JT3"
      },
      "source": [
        "import numpy as np"
      ],
      "execution_count": 10,
      "outputs": []
    },
    {
      "cell_type": "code",
      "metadata": {
        "colab": {
          "base_uri": "https://localhost:8080/"
        },
        "id": "rjNuOE9DkLhm",
        "outputId": "012c3a57-93e8-4d80-ff60-36ee09693451"
      },
      "source": [
        "la"
      ],
      "execution_count": 8,
      "outputs": [
        {
          "output_type": "execute_result",
          "data": {
            "text/plain": [
              "[0, 1, 2, 3, 4, 5, 6, 7, 8, 9]"
            ]
          },
          "metadata": {},
          "execution_count": 8
        }
      ]
    },
    {
      "cell_type": "code",
      "metadata": {
        "id": "OloSuyLU-JT9",
        "colab": {
          "base_uri": "https://localhost:8080/"
        },
        "outputId": "937fb3fb-abbe-4093-ea5d-2229c5b9975f"
      },
      "source": [
        "larr = np.array(la)\n",
        "larr   # broadcasted multiplication\n",
        "\n",
        "# numpy 배열을 만드는 것"
      ],
      "execution_count": 12,
      "outputs": [
        {
          "output_type": "execute_result",
          "data": {
            "text/plain": [
              "array([0, 1, 2, 3, 4, 5, 6, 7, 8, 9])"
            ]
          },
          "metadata": {},
          "execution_count": 12
        }
      ]
    },
    {
      "cell_type": "code",
      "metadata": {
        "colab": {
          "base_uri": "https://localhost:8080/"
        },
        "id": "Bqdy4q26koZF",
        "outputId": "99f44132-c127-41be-9b44-04d704ecdaee"
      },
      "source": [
        "larr * 5\n",
        "\n",
        "# 각 요소가 곱해져서 나옴"
      ],
      "execution_count": 14,
      "outputs": [
        {
          "output_type": "execute_result",
          "data": {
            "text/plain": [
              "array([ 0,  5, 10, 15, 20, 25, 30, 35, 40, 45])"
            ]
          },
          "metadata": {},
          "execution_count": 14
        }
      ]
    },
    {
      "cell_type": "code",
      "metadata": {
        "id": "TN08-s72eYK8",
        "colab": {
          "base_uri": "https://localhost:8080/"
        },
        "outputId": "01278418-a61e-4d79-a796-4b35c7b13af1"
      },
      "source": [
        "# Try below!\n",
        "la = np.array(a)\n",
        "la"
      ],
      "execution_count": 15,
      "outputs": [
        {
          "output_type": "execute_result",
          "data": {
            "text/plain": [
              "array([0, 1, 2, 3, 4, 5, 6, 7, 8, 9])"
            ]
          },
          "metadata": {},
          "execution_count": 15
        }
      ]
    },
    {
      "cell_type": "markdown",
      "metadata": {
        "id": "FrlJGz2GBbQu"
      },
      "source": [
        "### numpy가 데이터 코딩, 특히 딥러닝에 이용되는 예제\n",
        "\n",
        "> http://life21c.inje.ac.kr:8501/\n"
      ]
    },
    {
      "cell_type": "markdown",
      "metadata": {
        "id": "rkvrp48LJX5-"
      },
      "source": [
        "- numpy array vs. list\n",
        "\n",
        "    *  머신러닝에서 숫자, 사람, 동물 등의 인식을 하기 위해서는 이미지 데이터를 행렬(matrix)로 변환하는 것이 중요하다.\n",
        "    *  행렬을 나타내기 위해서는 list를 사용할 수도 있지만, 행렬 연산이 직관적이지 않고 오류 가능성이 높기 때문에 **행렬 연산을 위해서는 numpy 사용이 필수적**이다."
      ]
    },
    {
      "cell_type": "markdown",
      "metadata": {
        "id": "akd3AxgKe0l5"
      },
      "source": [
        "---"
      ]
    }
  ]
}