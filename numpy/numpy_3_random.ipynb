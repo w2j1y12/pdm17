{
  "nbformat": 4,
  "nbformat_minor": 0,
  "metadata": {
    "colab": {
      "name": "numpy_3_random.ipynb",
      "provenance": [],
      "collapsed_sections": [],
      "include_colab_link": true
    },
    "kernelspec": {
      "name": "python3",
      "display_name": "Python 3"
    }
  },
  "cells": [
    {
      "cell_type": "markdown",
      "metadata": {
        "id": "view-in-github",
        "colab_type": "text"
      },
      "source": [
        "<a href=\"https://colab.research.google.com/github/w2j1y12/pdm17/blob/main/numpy/numpy_3_random.ipynb\" target=\"_parent\"><img src=\"https://colab.research.google.com/assets/colab-badge.svg\" alt=\"Open In Colab\"/></a>"
      ]
    },
    {
      "cell_type": "markdown",
      "metadata": {
        "id": "_zrirXHfgmyY"
      },
      "source": [
        "# numpy\n",
        "## random 서브모듈\n",
        "> [데이터싸이언스 스쿨:난수발생](https://datascienceschool.net/01%20python/03.05%20%EB%82%9C%EC%88%98%20%EB%B0%9C%EC%83%9D%EA%B3%BC%20%EC%B9%B4%EC%9A%B4%ED%8C%85.html)"
      ]
    },
    {
      "cell_type": "code",
      "metadata": {
        "id": "kQbzzSMZG2PX"
      },
      "source": [
        "import numpy as np"
      ],
      "execution_count": null,
      "outputs": []
    },
    {
      "cell_type": "markdown",
      "metadata": {
        "id": "1Ry0YHkNFis5"
      },
      "source": [
        "## 난수 생성\n",
        "> NumPy의 random 서브모듈은 난수를 생성하는 다양한 명령을 제공.\n",
        "\n",
        "- rand: 0부터 1사이의 균일 분포 (uniform distribution)\n",
        "- randn: 가우시안 표준 정규 분포 (normal distribution, Gaussian)\n",
        "- randint: 균일 분포의 정수 난수 (uniform int)\n",
        "\n",
        "> randn()은 평균 0, 표준편차 1 인 가우시안 정규분포를 생성."
      ]
    },
    {
      "cell_type": "markdown",
      "metadata": {
        "id": "CtO1VxvurziR"
      },
      "source": [
        "### rand: 0부터 1사이의 균일 분포 (uniform distribution)"
      ]
    },
    {
      "cell_type": "code",
      "metadata": {
        "id": "LA1oF6aEG7kJ",
        "colab": {
          "base_uri": "https://localhost:8080/"
        },
        "outputId": "09a14cc8-2552-4102-c658-b43e160defbc"
      },
      "source": [
        "np.random.rand(5)"
      ],
      "execution_count": null,
      "outputs": [
        {
          "output_type": "execute_result",
          "data": {
            "text/plain": [
              "array([0.81771405, 0.78407119, 0.56208674, 0.90242596, 0.43440036])"
            ]
          },
          "metadata": {},
          "execution_count": 2
        }
      ]
    },
    {
      "cell_type": "code",
      "metadata": {
        "id": "H6f4ix3NHCyR",
        "colab": {
          "base_uri": "https://localhost:8080/"
        },
        "outputId": "45a7c2ce-0049-4bd1-d78a-c2bd29e6b316"
      },
      "source": [
        "np.random.rand(5)"
      ],
      "execution_count": null,
      "outputs": [
        {
          "output_type": "execute_result",
          "data": {
            "text/plain": [
              "array([0.4694112 , 0.02094785, 0.53136544, 0.71980544, 0.91024651])"
            ]
          },
          "metadata": {},
          "execution_count": 3
        }
      ]
    },
    {
      "cell_type": "markdown",
      "metadata": {
        "id": "c88F6gf8r4K2"
      },
      "source": [
        "### randn: 가우시안 표준 정규 분포 (normal distribution, Gaussian)"
      ]
    },
    {
      "cell_type": "code",
      "metadata": {
        "id": "rtVfCL-uP2Tw",
        "colab": {
          "base_uri": "https://localhost:8080/"
        },
        "outputId": "765c7e56-1a2d-467b-fa4f-7bddbd174ffe"
      },
      "source": [
        "np.random.randn(5)"
      ],
      "execution_count": null,
      "outputs": [
        {
          "output_type": "execute_result",
          "data": {
            "text/plain": [
              "array([-1.14922785,  0.07240345, -0.59542239, -0.63693263,  1.55321465])"
            ]
          },
          "metadata": {},
          "execution_count": 4
        }
      ]
    },
    {
      "cell_type": "markdown",
      "metadata": {
        "id": "wsvTzTFSsBSJ"
      },
      "source": [
        "### randint: 균일 분포의 정수 난수 (uniform int)\n",
        "- numpy.random.randint(low, high=None, size=None, dtype='l')"
      ]
    },
    {
      "cell_type": "code",
      "metadata": {
        "id": "WSvAH8uVs2Vb",
        "colab": {
          "base_uri": "https://localhost:8080/"
        },
        "outputId": "c8c18651-7818-490f-ff00-e4a636bbb9c2"
      },
      "source": [
        "np.random.randint(5)\n",
        "# 5 미만의 정수 (0 포함)"
      ],
      "execution_count": null,
      "outputs": [
        {
          "output_type": "execute_result",
          "data": {
            "text/plain": [
              "4"
            ]
          },
          "metadata": {},
          "execution_count": 5
        }
      ]
    },
    {
      "cell_type": "code",
      "metadata": {
        "colab": {
          "base_uri": "https://localhost:8080/"
        },
        "id": "Q8lqeZqz2BTC",
        "outputId": "1843f309-b6cc-49a6-952e-f08ecb1a7c14"
      },
      "source": [
        "# die number \n",
        "np.random.randint(1,7)"
      ],
      "execution_count": null,
      "outputs": [
        {
          "output_type": "execute_result",
          "data": {
            "text/plain": [
              "4"
            ]
          },
          "metadata": {},
          "execution_count": 6
        }
      ]
    },
    {
      "cell_type": "code",
      "metadata": {
        "id": "McWHW15uQDPr",
        "colab": {
          "base_uri": "https://localhost:8080/"
        },
        "outputId": "676abcfd-3d1f-4739-aaa1-0b33db332e4c"
      },
      "source": [
        "np.random.randint(5,9) "
      ],
      "execution_count": null,
      "outputs": [
        {
          "output_type": "execute_result",
          "data": {
            "text/plain": [
              "8"
            ]
          },
          "metadata": {},
          "execution_count": 7
        }
      ]
    },
    {
      "cell_type": "code",
      "metadata": {
        "id": "oBsWu9FmQQSC",
        "colab": {
          "base_uri": "https://localhost:8080/"
        },
        "outputId": "7dc11118-8fa2-411a-f99c-caf62e28c837"
      },
      "source": [
        "np.random.randint(0,10,5)\n",
        "# 최소 0, 최대 10 미만, 5개\n",
        "# 중복 o"
      ],
      "execution_count": null,
      "outputs": [
        {
          "output_type": "execute_result",
          "data": {
            "text/plain": [
              "array([5, 8, 8, 9, 3])"
            ]
          },
          "metadata": {},
          "execution_count": 8
        }
      ]
    },
    {
      "cell_type": "code",
      "metadata": {
        "id": "0kNuJxjaQYEu",
        "colab": {
          "base_uri": "https://localhost:8080/"
        },
        "outputId": "b26a72d1-d4f1-44fa-e274-a1fb3004b257"
      },
      "source": [
        "np.random.randint(0,10,5)"
      ],
      "execution_count": null,
      "outputs": [
        {
          "output_type": "execute_result",
          "data": {
            "text/plain": [
              "array([9, 2, 9, 3, 9])"
            ]
          },
          "metadata": {},
          "execution_count": 9
        }
      ]
    },
    {
      "cell_type": "markdown",
      "metadata": {
        "id": "K58DiNYUmANL"
      },
      "source": [
        "---"
      ]
    },
    {
      "cell_type": "markdown",
      "metadata": {
        "id": "xU5NWjQ3F_ld"
      },
      "source": [
        "## 난수 생성 seed 설정\n",
        "- numpy.random.seed(seed=None)\n",
        "- np.random.seed(number)"
      ]
    },
    {
      "cell_type": "code",
      "metadata": {
        "id": "AxUeYmQSQawG"
      },
      "source": [
        "np.random.seed()"
      ],
      "execution_count": null,
      "outputs": []
    },
    {
      "cell_type": "code",
      "metadata": {
        "id": "C33YjKqvRJ33",
        "colab": {
          "base_uri": "https://localhost:8080/"
        },
        "outputId": "0326d5f9-1670-43d0-bf8a-0c7054149de2"
      },
      "source": [
        "np.random.rand(5)"
      ],
      "execution_count": null,
      "outputs": [
        {
          "output_type": "execute_result",
          "data": {
            "text/plain": [
              "array([0.90048175, 0.40424099, 0.05033755, 0.97207941, 0.36470254])"
            ]
          },
          "metadata": {},
          "execution_count": 11
        }
      ]
    },
    {
      "cell_type": "code",
      "metadata": {
        "id": "Ne8rIyN9RO81",
        "colab": {
          "base_uri": "https://localhost:8080/"
        },
        "outputId": "b56e4ace-205e-4df2-e7e9-5f8f1c311f95"
      },
      "source": [
        "np.random.rand(5)"
      ],
      "execution_count": null,
      "outputs": [
        {
          "output_type": "execute_result",
          "data": {
            "text/plain": [
              "array([0.20077821, 0.01842984, 0.01838763, 0.82438521, 0.75903326])"
            ]
          },
          "metadata": {},
          "execution_count": 12
        }
      ]
    },
    {
      "cell_type": "markdown",
      "metadata": {
        "id": "wnQ4gFoltu81"
      },
      "source": [
        "### 동일한 무작위수 생성\n",
        "- seed를 고정하고 무작위수 생성"
      ]
    },
    {
      "cell_type": "code",
      "metadata": {
        "id": "LGPOJGfgRSWx"
      },
      "source": [
        "np.random.seed(1234)"
      ],
      "execution_count": null,
      "outputs": []
    },
    {
      "cell_type": "code",
      "metadata": {
        "id": "t2PNRUpfRXZk",
        "colab": {
          "base_uri": "https://localhost:8080/"
        },
        "outputId": "ad1e1c51-2e10-47bb-942a-42606562c717"
      },
      "source": [
        "np.random.rand(5)\n",
        "# seed 고정했는데 왜 딴 값이 나오냐?"
      ],
      "execution_count": null,
      "outputs": [
        {
          "output_type": "execute_result",
          "data": {
            "text/plain": [
              "array([0.19151945, 0.62210877, 0.43772774, 0.78535858, 0.77997581])"
            ]
          },
          "metadata": {},
          "execution_count": 14
        }
      ]
    },
    {
      "cell_type": "code",
      "metadata": {
        "id": "x8yKednV8CZy",
        "colab": {
          "base_uri": "https://localhost:8080/"
        },
        "outputId": "0db2bda4-05ec-4ea1-a4df-6bcf203bea59"
      },
      "source": [
        "np.random.rand(5)\n",
        "# 랜덤인데 위에랑 밑에가 똑같게 나옴\n",
        "# seed를 고정해서 동일한 값이 나옴"
      ],
      "execution_count": null,
      "outputs": [
        {
          "output_type": "execute_result",
          "data": {
            "text/plain": [
              "array([0.19151945, 0.62210877, 0.43772774, 0.78535858, 0.77997581])"
            ]
          },
          "metadata": {},
          "execution_count": 16
        }
      ]
    },
    {
      "cell_type": "code",
      "metadata": {
        "id": "bo2A_ntYRcKw"
      },
      "source": [
        "np.random.seed(1234)"
      ],
      "execution_count": null,
      "outputs": []
    },
    {
      "cell_type": "code",
      "metadata": {
        "id": "U5qXdwYQRYeT",
        "colab": {
          "base_uri": "https://localhost:8080/"
        },
        "outputId": "14144e47-913a-404c-a85b-eb05e91ea12c"
      },
      "source": [
        "np.random.rand(5)"
      ],
      "execution_count": null,
      "outputs": [
        {
          "output_type": "execute_result",
          "data": {
            "text/plain": [
              "array([0.19151945, 0.62210877, 0.43772774, 0.78535858, 0.77997581])"
            ]
          },
          "metadata": {},
          "execution_count": 18
        }
      ]
    },
    {
      "cell_type": "markdown",
      "metadata": {
        "id": "pwMXGAwmRhpW"
      },
      "source": [
        "### seed 고정 후에 randint(5)"
      ]
    },
    {
      "cell_type": "code",
      "metadata": {
        "id": "tqmTOMMVRhGW",
        "colab": {
          "base_uri": "https://localhost:8080/"
        },
        "outputId": "a846dc27-4719-4e78-a9b0-b10351affcc2"
      },
      "source": [
        "np.random.seed(5678)\n",
        "np.random.randint(1,10,5)"
      ],
      "execution_count": null,
      "outputs": [
        {
          "output_type": "execute_result",
          "data": {
            "text/plain": [
              "array([5, 8, 3, 5, 4])"
            ]
          },
          "metadata": {},
          "execution_count": 19
        }
      ]
    },
    {
      "cell_type": "code",
      "metadata": {
        "id": "YxQYjcOLSA-Z",
        "colab": {
          "base_uri": "https://localhost:8080/"
        },
        "outputId": "66c2bc5b-337c-4ad2-83a7-7340c6ec08c7"
      },
      "source": [
        "np.random.randint(1,10,5)\n",
        "# seed를 고정했는데 다른 숫자가 나옴"
      ],
      "execution_count": null,
      "outputs": [
        {
          "output_type": "execute_result",
          "data": {
            "text/plain": [
              "array([6, 3, 7, 4, 1])"
            ]
          },
          "metadata": {},
          "execution_count": 20
        }
      ]
    },
    {
      "cell_type": "code",
      "metadata": {
        "id": "aQYF5QpGSD6p",
        "colab": {
          "base_uri": "https://localhost:8080/"
        },
        "outputId": "01333e8d-3562-4e94-945f-0d0231b8ec74"
      },
      "source": [
        "np.random.seed(5678)\n",
        "np.random.randint(1,10,5)\n",
        "# seed를 반복해서 고정시키니까 같은 숫자가 나옴"
      ],
      "execution_count": null,
      "outputs": [
        {
          "output_type": "execute_result",
          "data": {
            "text/plain": [
              "array([5, 8, 3, 5, 4])"
            ]
          },
          "metadata": {},
          "execution_count": 21
        }
      ]
    },
    {
      "cell_type": "code",
      "metadata": {
        "id": "cfIhMEcVSGKa",
        "colab": {
          "base_uri": "https://localhost:8080/"
        },
        "outputId": "69611d80-e717-4aa5-c224-12eef14819cb"
      },
      "source": [
        "np.random.seed(5678)\n",
        "np.random.randint(1,10,5)"
      ],
      "execution_count": null,
      "outputs": [
        {
          "output_type": "execute_result",
          "data": {
            "text/plain": [
              "array([5, 8, 3, 5, 4])"
            ]
          },
          "metadata": {},
          "execution_count": 22
        }
      ]
    },
    {
      "cell_type": "code",
      "metadata": {
        "id": "Ik9a-QkcfLwy",
        "colab": {
          "base_uri": "https://localhost:8080/"
        },
        "outputId": "5b6da862-e585-42ac-8645-20f9d40185e1"
      },
      "source": [
        "# seed 변경\n",
        "np.random.seed(0)\n",
        "np.random.randint(1,10,5)\n",
        "# seed를 바꿨으니까 당연히 다른 값이 나오겠지"
      ],
      "execution_count": null,
      "outputs": [
        {
          "output_type": "execute_result",
          "data": {
            "text/plain": [
              "array([6, 1, 4, 4, 8])"
            ]
          },
          "metadata": {},
          "execution_count": 23
        }
      ]
    },
    {
      "cell_type": "markdown",
      "metadata": {
        "id": "Zg3g31drmDMI"
      },
      "source": [
        "---\n",
        "---"
      ]
    },
    {
      "cell_type": "markdown",
      "metadata": {
        "id": "YNVh_pbhfROq"
      },
      "source": [
        "## DIY: 도전 코딩 - numpy 정리 과제\n",
        "- 생성된 마구잡이수를 조사하고 사용하기 \n",
        "- 9월19일 자정 마감."
      ]
    },
    {
      "cell_type": "markdown",
      "metadata": {
        "id": "vxNHFDSIgMmC"
      },
      "source": [
        "### [도전 1.] 0부터 9까지의 마구잡이 정수를 1000개 만들고 각 수의 빈도를 구하시오. "
      ]
    },
    {
      "cell_type": "code",
      "metadata": {
        "id": "qkDfXH1xgjBz",
        "colab": {
          "base_uri": "https://localhost:8080/"
        },
        "outputId": "eaf50ef9-a640-45e4-802e-bb4f20fbdb4a"
      },
      "source": [
        "# n1000=\n",
        "n1000 = np.random.randint(0,10,1000)\n",
        "n1000"
      ],
      "execution_count": 2,
      "outputs": [
        {
          "output_type": "execute_result",
          "data": {
            "text/plain": [
              "array([1, 6, 0, 9, 1, 5, 1, 1, 3, 3, 1, 7, 3, 0, 1, 7, 6, 8, 0, 6, 1, 2,\n",
              "       9, 2, 0, 7, 2, 4, 2, 7, 7, 1, 4, 2, 9, 9, 7, 6, 8, 9, 2, 3, 1, 5,\n",
              "       5, 1, 7, 8, 3, 1, 5, 1, 1, 8, 0, 5, 2, 2, 0, 6, 5, 7, 1, 1, 4, 7,\n",
              "       4, 4, 5, 2, 2, 6, 0, 2, 1, 4, 2, 4, 0, 5, 2, 1, 2, 3, 6, 6, 9, 9,\n",
              "       0, 7, 4, 1, 1, 0, 9, 9, 7, 2, 8, 6, 7, 4, 2, 6, 5, 5, 4, 8, 4, 7,\n",
              "       1, 4, 3, 5, 0, 9, 6, 6, 3, 2, 8, 1, 5, 4, 1, 7, 2, 8, 2, 2, 1, 0,\n",
              "       1, 9, 9, 4, 3, 0, 9, 2, 1, 3, 7, 8, 8, 1, 2, 7, 7, 2, 0, 3, 3, 9,\n",
              "       0, 9, 1, 3, 7, 3, 3, 5, 2, 9, 2, 6, 7, 6, 9, 2, 9, 3, 9, 8, 6, 9,\n",
              "       0, 9, 9, 1, 8, 6, 4, 2, 8, 3, 5, 9, 9, 7, 4, 3, 0, 7, 3, 2, 7, 3,\n",
              "       5, 1, 3, 0, 5, 4, 9, 2, 4, 8, 7, 4, 7, 2, 1, 6, 6, 8, 4, 8, 7, 0,\n",
              "       5, 8, 6, 7, 0, 2, 6, 5, 8, 4, 3, 1, 7, 5, 5, 4, 1, 2, 3, 8, 1, 8,\n",
              "       2, 9, 9, 7, 0, 9, 4, 4, 0, 6, 0, 3, 7, 0, 7, 5, 2, 0, 9, 4, 8, 3,\n",
              "       7, 9, 8, 6, 6, 8, 9, 1, 2, 8, 7, 8, 2, 8, 2, 7, 4, 4, 3, 4, 6, 2,\n",
              "       1, 1, 5, 9, 2, 8, 8, 0, 6, 1, 0, 8, 4, 7, 9, 3, 9, 1, 3, 7, 3, 3,\n",
              "       1, 4, 1, 1, 2, 7, 9, 3, 3, 0, 0, 5, 2, 9, 7, 6, 3, 2, 7, 3, 9, 9,\n",
              "       5, 7, 0, 3, 7, 0, 3, 4, 2, 0, 3, 9, 9, 0, 5, 4, 2, 1, 3, 1, 1, 4,\n",
              "       7, 3, 3, 7, 7, 1, 9, 5, 1, 3, 7, 0, 1, 7, 7, 0, 3, 1, 5, 3, 4, 3,\n",
              "       1, 5, 7, 6, 5, 4, 3, 2, 8, 2, 7, 7, 7, 3, 3, 8, 4, 0, 4, 4, 6, 9,\n",
              "       8, 7, 5, 1, 1, 4, 3, 4, 6, 6, 8, 9, 4, 7, 7, 3, 2, 2, 7, 0, 7, 8,\n",
              "       9, 0, 5, 0, 2, 2, 0, 1, 7, 1, 1, 4, 9, 0, 7, 6, 5, 2, 5, 7, 0, 1,\n",
              "       5, 0, 8, 7, 8, 4, 3, 1, 1, 2, 0, 0, 0, 0, 3, 7, 8, 3, 5, 8, 8, 9,\n",
              "       3, 6, 7, 4, 7, 0, 9, 3, 6, 7, 6, 2, 7, 7, 4, 2, 4, 7, 6, 3, 6, 3,\n",
              "       9, 4, 8, 2, 2, 7, 3, 3, 9, 0, 0, 1, 5, 6, 7, 9, 7, 3, 6, 9, 9, 2,\n",
              "       3, 1, 9, 9, 9, 0, 1, 0, 4, 7, 5, 0, 8, 7, 0, 5, 3, 5, 6, 9, 2, 2,\n",
              "       5, 8, 8, 7, 3, 9, 1, 3, 2, 8, 9, 2, 7, 4, 0, 8, 7, 8, 1, 7, 0, 2,\n",
              "       1, 2, 6, 7, 1, 4, 6, 8, 6, 8, 7, 7, 4, 4, 2, 1, 3, 4, 0, 4, 6, 6,\n",
              "       8, 1, 0, 6, 7, 4, 6, 0, 7, 9, 3, 2, 6, 1, 9, 6, 6, 4, 1, 4, 0, 6,\n",
              "       7, 3, 9, 2, 6, 9, 9, 2, 1, 3, 6, 3, 0, 0, 7, 6, 0, 6, 0, 5, 5, 7,\n",
              "       7, 2, 3, 2, 9, 0, 0, 6, 7, 9, 7, 6, 4, 4, 9, 0, 3, 7, 7, 1, 5, 3,\n",
              "       2, 7, 4, 5, 2, 6, 6, 9, 2, 8, 9, 2, 6, 8, 9, 0, 4, 6, 5, 9, 5, 0,\n",
              "       2, 6, 1, 1, 7, 1, 5, 1, 5, 4, 3, 2, 6, 0, 2, 0, 0, 2, 3, 5, 0, 9,\n",
              "       8, 7, 6, 8, 4, 3, 1, 1, 2, 5, 6, 8, 1, 2, 1, 4, 5, 4, 7, 1, 5, 8,\n",
              "       9, 2, 3, 8, 2, 2, 2, 5, 6, 1, 0, 1, 7, 9, 6, 0, 5, 0, 4, 1, 1, 7,\n",
              "       9, 7, 8, 1, 9, 5, 4, 5, 3, 7, 5, 3, 1, 2, 6, 2, 6, 9, 6, 1, 2, 8,\n",
              "       8, 1, 4, 9, 3, 4, 3, 2, 6, 1, 1, 2, 7, 6, 9, 2, 3, 0, 2, 4, 3, 3,\n",
              "       1, 0, 1, 6, 4, 4, 5, 4, 5, 8, 7, 7, 5, 4, 3, 3, 8, 2, 9, 9, 2, 9,\n",
              "       0, 2, 6, 3, 3, 0, 6, 6, 4, 7, 6, 1, 9, 2, 6, 4, 5, 3, 1, 7, 6, 1,\n",
              "       9, 5, 4, 6, 0, 0, 4, 5, 4, 4, 9, 7, 3, 6, 9, 6, 8, 0, 3, 1, 7, 1,\n",
              "       8, 0, 6, 7, 1, 1, 6, 4, 9, 5, 7, 9, 4, 3, 5, 9, 3, 0, 8, 7, 3, 6,\n",
              "       3, 1, 3, 3, 2, 9, 5, 4, 6, 9, 5, 0, 2, 7, 3, 8, 6, 4, 3, 6, 6, 2,\n",
              "       0, 9, 1, 4, 2, 2, 6, 5, 5, 9, 8, 0, 0, 5, 7, 4, 5, 1, 7, 3, 2, 6,\n",
              "       1, 5, 8, 9, 1, 3, 0, 0, 9, 0, 0, 8, 0, 7, 1, 0, 7, 7, 8, 8, 3, 0,\n",
              "       8, 7, 4, 2, 5, 8, 2, 2, 0, 0, 8, 2, 6, 0, 1, 8, 7, 2, 4, 1, 6, 5,\n",
              "       1, 3, 8, 6, 1, 0, 0, 2, 8, 8, 5, 1, 6, 0, 2, 8, 4, 7, 9, 5, 9, 6,\n",
              "       7, 6, 3, 3, 1, 7, 4, 0, 6, 1, 7, 7, 8, 0, 9, 3, 6, 8, 4, 3, 2, 3,\n",
              "       0, 8, 9, 2, 1, 3, 1, 0, 1, 9])"
            ]
          },
          "metadata": {},
          "execution_count": 2
        }
      ]
    },
    {
      "cell_type": "code",
      "metadata": {
        "id": "9_6nzbQD3FZi",
        "colab": {
          "base_uri": "https://localhost:8080/"
        },
        "outputId": "ec0c956e-a99a-4587-ac21-6d1eefec76e7"
      },
      "source": [
        "np.unique(n1000)\n",
        "# unique 독립적인 값/ 고유의 값의 목록을 반환"
      ],
      "execution_count": 3,
      "outputs": [
        {
          "output_type": "execute_result",
          "data": {
            "text/plain": [
              "array([0, 1, 2, 3, 4, 5, 6, 7, 8, 9])"
            ]
          },
          "metadata": {},
          "execution_count": 3
        }
      ]
    },
    {
      "cell_type": "code",
      "metadata": {
        "id": "eiw9R1243Rzp",
        "outputId": "ecd09290-3c76-4fc3-f3e2-44c0f392e5c2",
        "colab": {
          "base_uri": "https://localhost:8080/"
        }
      },
      "source": [
        "# 각 수의 빈도\n",
        "# 빈도 : 0이 몇 개냐, n이 몇 개냐~~\n",
        "\n",
        "import numpy as np\n",
        "value, count = np.unique(n1000, return_counts=True)\n",
        "\n",
        "for i in range(10) :\n",
        "  print(value[i], \" : \", count[i])"
      ],
      "execution_count": 40,
      "outputs": [
        {
          "output_type": "stream",
          "name": "stdout",
          "text": [
            "0  :  93\n",
            "1  :  107\n",
            "2  :  107\n",
            "3  :  108\n",
            "4  :  97\n",
            "5  :  98\n",
            "6  :  89\n",
            "7  :  95\n",
            "8  :  90\n",
            "9  :  116\n"
          ]
        }
      ]
    },
    {
      "cell_type": "markdown",
      "metadata": {
        "id": "cIhlY6-GghMN"
      },
      "source": [
        "### [도전 2.] 0부터 9까지의 마구잡이 정수를 1000개 만들고 각 수가 처음 출현하는 인덱스를 구하시오.\n",
        "> 0이 처음 나타날 때의 인덱스, 1이 처음 나타날 때의 인덱스, ... "
      ]
    },
    {
      "cell_type": "code",
      "metadata": {
        "colab": {
          "base_uri": "https://localhost:8080/"
        },
        "id": "AiuvJKNt4-p1",
        "outputId": "4bc7bf2c-0004-4513-ec5c-b61ba5ccecd8"
      },
      "source": [
        "n1000[0], n1000[800]"
      ],
      "execution_count": 6,
      "outputs": [
        {
          "output_type": "execute_result",
          "data": {
            "text/plain": [
              "(1, 4)"
            ]
          },
          "metadata": {},
          "execution_count": 6
        }
      ]
    },
    {
      "cell_type": "code",
      "metadata": {
        "id": "oA1ec_RjgL3X",
        "outputId": "5a22335d-acd0-4ef7-9a95-e42f1177289b",
        "colab": {
          "base_uri": "https://localhost:8080/"
        }
      },
      "source": [
        "# 각 수가 처음 출현하는 인덱스\n",
        "value, index = np.unique(n1000, return_index=True)\n",
        "print(value)\n",
        "print(\"각 수가 처음 출현하는 인덱스 : \" ,index)"
      ],
      "execution_count": 7,
      "outputs": [
        {
          "output_type": "stream",
          "name": "stdout",
          "text": [
            "[0 1 2 3 4 5 6 7 8 9]\n",
            "각 수가 처음 출현하는 인덱스 :  [ 2  0 21  8 27  5  1 11 17  3]\n"
          ]
        }
      ]
    },
    {
      "cell_type": "code",
      "metadata": {
        "id": "yubibMMZ4AZS",
        "outputId": "a7e75525-a552-4911-91f5-0745525414f3",
        "colab": {
          "base_uri": "https://localhost:8080/"
        }
      },
      "source": [
        "n1000[index]"
      ],
      "execution_count": 9,
      "outputs": [
        {
          "output_type": "execute_result",
          "data": {
            "text/plain": [
              "array([0, 1, 2, 3, 4, 5, 6, 7, 8, 9])"
            ]
          },
          "metadata": {},
          "execution_count": 9
        }
      ]
    },
    {
      "cell_type": "markdown",
      "metadata": {
        "id": "sadkRzWjgiTM"
      },
      "source": [
        "### [도전 3.] seed를 1234로 고정하고, 위의 도전1,2를 다시 해보시오. "
      ]
    },
    {
      "cell_type": "code",
      "metadata": {
        "id": "4Q4Tq10w9K-z",
        "outputId": "f434dec3-3f6c-4900-fc84-d3672b5d93ae",
        "colab": {
          "base_uri": "https://localhost:8080/"
        }
      },
      "source": [
        "n1000 = np.random.randint(0,10,1000)\n",
        "np.random.seed(1234)\n",
        "n1000 = np.random.randint(0,10,1000)\n",
        "n1000"
      ],
      "execution_count": 19,
      "outputs": [
        {
          "output_type": "execute_result",
          "data": {
            "text/plain": [
              "array([3, 6, 5, 4, 8, 9, 1, 7, 9, 6, 8, 0, 5, 0, 9, 6, 2, 0, 5, 2, 6, 3,\n",
              "       7, 0, 9, 0, 3, 2, 3, 1, 3, 1, 3, 7, 1, 7, 4, 0, 5, 1, 5, 9, 9, 4,\n",
              "       0, 9, 8, 8, 6, 8, 6, 3, 1, 2, 5, 2, 5, 6, 7, 4, 3, 5, 6, 4, 6, 2,\n",
              "       4, 2, 7, 9, 7, 7, 2, 9, 7, 4, 9, 0, 9, 2, 9, 1, 2, 9, 1, 5, 7, 4,\n",
              "       7, 7, 1, 4, 0, 5, 4, 9, 2, 9, 1, 3, 5, 9, 3, 0, 4, 4, 0, 6, 8, 4,\n",
              "       8, 1, 8, 9, 8, 2, 0, 2, 2, 3, 2, 9, 7, 4, 8, 1, 9, 2, 7, 4, 3, 2,\n",
              "       5, 5, 1, 0, 8, 4, 0, 0, 1, 0, 3, 9, 1, 9, 3, 7, 9, 3, 4, 4, 1, 1,\n",
              "       6, 2, 9, 8, 7, 8, 0, 8, 7, 9, 5, 6, 3, 9, 4, 7, 7, 1, 7, 2, 5, 2,\n",
              "       7, 2, 6, 8, 6, 1, 9, 3, 3, 4, 9, 7, 2, 8, 1, 9, 4, 3, 1, 0, 7, 8,\n",
              "       0, 9, 3, 9, 3, 9, 0, 5, 9, 2, 3, 1, 7, 1, 4, 7, 3, 8, 4, 5, 3, 8,\n",
              "       8, 8, 1, 3, 6, 8, 9, 1, 5, 8, 4, 1, 1, 1, 2, 3, 4, 2, 1, 9, 4, 0,\n",
              "       0, 2, 1, 2, 5, 9, 8, 8, 7, 5, 7, 0, 0, 6, 6, 1, 9, 4, 6, 7, 2, 0,\n",
              "       7, 0, 2, 8, 4, 8, 3, 2, 4, 7, 7, 0, 1, 1, 0, 0, 0, 1, 1, 9, 4, 9,\n",
              "       9, 5, 2, 4, 1, 0, 3, 5, 2, 3, 3, 5, 4, 5, 4, 0, 5, 6, 7, 3, 1, 5,\n",
              "       4, 5, 9, 1, 7, 6, 3, 3, 0, 0, 2, 3, 1, 6, 1, 3, 5, 6, 9, 2, 6, 6,\n",
              "       9, 7, 8, 9, 1, 3, 6, 6, 2, 2, 4, 9, 3, 8, 7, 5, 1, 3, 1, 3, 0, 2,\n",
              "       0, 3, 5, 2, 6, 6, 6, 4, 1, 0, 7, 4, 1, 8, 5, 9, 6, 2, 8, 7, 9, 7,\n",
              "       7, 3, 6, 5, 6, 8, 6, 5, 9, 1, 9, 2, 1, 9, 1, 5, 0, 2, 3, 8, 8, 1,\n",
              "       3, 7, 3, 5, 1, 5, 6, 9, 5, 0, 1, 3, 5, 8, 9, 9, 7, 8, 8, 9, 4, 4,\n",
              "       1, 5, 4, 6, 8, 7, 9, 4, 1, 7, 7, 0, 4, 6, 1, 9, 1, 1, 9, 0, 8, 1,\n",
              "       3, 7, 2, 8, 3, 2, 2, 3, 4, 1, 6, 3, 5, 2, 4, 2, 1, 3, 9, 7, 9, 7,\n",
              "       2, 5, 7, 5, 8, 5, 0, 4, 0, 9, 3, 1, 0, 0, 6, 4, 3, 4, 1, 8, 6, 8,\n",
              "       7, 1, 5, 7, 9, 1, 5, 6, 5, 1, 6, 0, 9, 2, 2, 1, 4, 9, 9, 6, 6, 2,\n",
              "       4, 1, 5, 5, 5, 5, 8, 6, 7, 2, 3, 9, 7, 2, 1, 1, 9, 6, 5, 9, 2, 1,\n",
              "       3, 8, 3, 8, 7, 3, 8, 0, 5, 0, 9, 9, 7, 4, 5, 6, 3, 8, 1, 7, 4, 1,\n",
              "       9, 2, 4, 3, 3, 9, 4, 2, 6, 0, 5, 4, 6, 6, 6, 3, 8, 8, 8, 5, 7, 9,\n",
              "       9, 0, 7, 8, 4, 6, 5, 7, 5, 9, 2, 6, 3, 0, 8, 1, 6, 0, 3, 7, 5, 0,\n",
              "       8, 9, 8, 5, 1, 9, 4, 6, 2, 6, 3, 3, 7, 3, 2, 8, 5, 2, 4, 8, 0, 5,\n",
              "       2, 3, 7, 2, 6, 1, 2, 4, 7, 2, 3, 5, 8, 4, 3, 5, 8, 0, 5, 3, 5, 3,\n",
              "       5, 6, 1, 1, 3, 1, 7, 3, 4, 1, 7, 0, 9, 8, 5, 9, 3, 8, 2, 3, 0, 9,\n",
              "       0, 4, 3, 4, 5, 0, 2, 7, 2, 8, 5, 3, 5, 0, 5, 9, 0, 6, 7, 2, 6, 6,\n",
              "       2, 2, 0, 1, 1, 3, 8, 3, 3, 2, 5, 9, 5, 4, 6, 9, 5, 9, 2, 5, 5, 6,\n",
              "       5, 7, 3, 0, 2, 3, 1, 9, 9, 8, 8, 0, 8, 6, 6, 1, 4, 3, 5, 5, 4, 9,\n",
              "       3, 8, 2, 3, 0, 6, 2, 8, 3, 3, 8, 2, 6, 2, 0, 3, 0, 3, 9, 0, 4, 2,\n",
              "       7, 1, 2, 2, 2, 1, 5, 9, 5, 3, 7, 1, 0, 1, 1, 8, 3, 5, 4, 4, 2, 4,\n",
              "       5, 6, 4, 2, 6, 1, 7, 6, 2, 3, 9, 4, 1, 4, 1, 0, 7, 3, 4, 5, 0, 8,\n",
              "       2, 2, 5, 4, 9, 5, 3, 3, 4, 6, 8, 4, 2, 2, 0, 6, 2, 8, 9, 2, 4, 3,\n",
              "       4, 4, 0, 8, 3, 4, 2, 9, 2, 8, 4, 0, 0, 6, 6, 7, 6, 7, 9, 3, 9, 7,\n",
              "       8, 2, 9, 1, 0, 6, 3, 8, 4, 9, 9, 6, 7, 9, 2, 3, 6, 4, 5, 8, 5, 9,\n",
              "       9, 7, 1, 0, 6, 3, 3, 4, 1, 8, 2, 8, 0, 3, 9, 0, 6, 6, 7, 7, 9, 2,\n",
              "       2, 1, 0, 9, 5, 0, 9, 7, 5, 3, 8, 2, 6, 4, 5, 6, 1, 9, 6, 3, 7, 0,\n",
              "       4, 9, 4, 4, 5, 1, 0, 9, 7, 0, 5, 3, 8, 9, 1, 7, 0, 9, 6, 8, 2, 1,\n",
              "       7, 5, 4, 0, 1, 1, 7, 8, 2, 7, 6, 9, 9, 2, 1, 1, 8, 9, 0, 7, 2, 4,\n",
              "       2, 9, 8, 1, 0, 1, 4, 4, 9, 9, 0, 1, 9, 9, 3, 1, 7, 2, 8, 4, 7, 4,\n",
              "       3, 2, 8, 4, 7, 7, 0, 1, 4, 6, 5, 5, 0, 5, 2, 0, 8, 3, 5, 7, 8, 4,\n",
              "       7, 6, 7, 7, 2, 7, 6, 0, 2, 6])"
            ]
          },
          "metadata": {},
          "execution_count": 19
        }
      ]
    },
    {
      "cell_type": "code",
      "metadata": {
        "id": "SFudbncq91J4",
        "outputId": "3e1d15dd-5ebe-460e-af82-ad7e88775ef0",
        "colab": {
          "base_uri": "https://localhost:8080/"
        }
      },
      "source": [
        "# 도전1\n",
        "# 각 수의 빈도\n",
        "\n",
        "value, count = np.unique(n1000, return_counts=True)\n",
        "print(value)\n",
        "print(\"각 수의 빈도 : \" ,count)"
      ],
      "execution_count": 20,
      "outputs": [
        {
          "output_type": "stream",
          "name": "stdout",
          "text": [
            "[0 1 2 3 4 5 6 7 8 9]\n",
            "각 수의 빈도 :  [ 93 107 107 108  97  98  89  95  90 116]\n"
          ]
        }
      ]
    },
    {
      "cell_type": "code",
      "metadata": {
        "id": "1HS01Hxj-JGn",
        "outputId": "75942cf1-305a-4b79-beb6-028c80a4a8bc",
        "colab": {
          "base_uri": "https://localhost:8080/"
        }
      },
      "source": [
        "# 도전2\n",
        "# 각 수가 처음 출현하는 인덱스\n",
        "\n",
        "value, index = np.unique(n1000, return_index=True)\n",
        "print(value)\n",
        "print(\"각 수가 처음 출현하는 인덱스 : \" ,index)"
      ],
      "execution_count": 21,
      "outputs": [
        {
          "output_type": "stream",
          "name": "stdout",
          "text": [
            "[0 1 2 3 4 5 6 7 8 9]\n",
            "각 수가 처음 출현하는 인덱스 :  [11  6 16  0  3  2  1  7  4  5]\n"
          ]
        }
      ]
    },
    {
      "cell_type": "markdown",
      "metadata": {
        "id": "zAGojAainnox"
      },
      "source": [
        "### [도전 4.] 0부터 999까지의 마구잡이 정수로 구성되는 28X28 이차원배열을 만드시오.\n",
        "- 시드를 고정 : np.random.seed(1234)\n",
        "1. 각 행의 최대값, 최소갑을 구하시오.\n",
        "2. 배열 전체의 최대값, 최소값을 구하시오.\n",
        "3. 배열전체의 최대값, 최소값의 index를 각각 찾으시오."
      ]
    },
    {
      "cell_type": "code",
      "metadata": {
        "id": "SueQVJOh-ShD"
      },
      "source": [
        ""
      ],
      "execution_count": null,
      "outputs": []
    },
    {
      "cell_type": "markdown",
      "metadata": {
        "id": "VoSu8rNOnwPU"
      },
      "source": [
        "---\n",
        "---"
      ]
    },
    {
      "cell_type": "markdown",
      "metadata": {
        "id": "ozoCcRquhg4p"
      },
      "source": [
        "## python graphics\n",
        "- matplotlib\n",
        "> import matplotlib.pyplot as plt"
      ]
    },
    {
      "cell_type": "markdown",
      "metadata": {
        "id": "h6yEJiGJ4Lbk"
      },
      "source": [
        "### 무작위수 분포 그려보기"
      ]
    },
    {
      "cell_type": "code",
      "metadata": {
        "id": "ngcwuNlfhrIQ"
      },
      "source": [
        "import matplotlib.pyplot as plt"
      ],
      "execution_count": null,
      "outputs": []
    },
    {
      "cell_type": "code",
      "metadata": {
        "id": "jr30IHxvJDuE",
        "colab": {
          "base_uri": "https://localhost:8080/",
          "height": 319
        },
        "outputId": "8e919b6b-15c5-47d8-8a1a-c1ddef936bb0"
      },
      "source": [
        "plt.hist(n1000,label=range(0,10), color='red') # bins=20\n",
        "# bins 나오는 숫자들의 범위 \n",
        "# 10이면 그대로 20이면 0.5단위로\n",
        "# bins가 크면 클 수록 x가 세부적으로 나옴\n",
        "# plt.show()"
      ],
      "execution_count": null,
      "outputs": [
        {
          "output_type": "execute_result",
          "data": {
            "text/plain": [
              "(array([ 95., 130.,  83., 107.,  94.,  83.,  96.,  94., 104., 114.]),\n",
              " array([0. , 0.9, 1.8, 2.7, 3.6, 4.5, 5.4, 6.3, 7.2, 8.1, 9. ]),\n",
              " <a list of 10 Patch objects>)"
            ]
          },
          "metadata": {},
          "execution_count": 40
        },
        {
          "output_type": "display_data",
          "data": {
            "image/png": "[encoded data removed]",
            "text/plain": [
              "<Figure size 432x288 with 1 Axes>"
            ]
          },
          "metadata": {
            "needs_background": "light"
          }
        }
      ]
    },
    {
      "cell_type": "markdown",
      "metadata": {
        "id": "b-JcgSU-Ktyz"
      },
      "source": [
        "### [도전] 균일분포와 정규분포를 비교하는 그림을 그리시오."
      ]
    },
    {
      "cell_type": "code",
      "metadata": {
        "id": "k0XaT2f9JGZy",
        "colab": {
          "base_uri": "https://localhost:8080/",
          "height": 373
        },
        "outputId": "e3782539-9ad0-4a1a-a495-3e939103fae7"
      },
      "source": [
        "plt.hist(np.random.rand(100000))\n",
        "\n",
        "# 숫자를 늘리면 거의 균일 분포를 "
      ],
      "execution_count": null,
      "outputs": [
        {
          "output_type": "execute_result",
          "data": {
            "text/plain": [
              "(array([10030., 10069.,  9848.,  9997., 10038., 10169.,  9913.,  9975.,\n",
              "        10048.,  9913.]),\n",
              " array([6.04484695e-06, 1.00004892e-01, 2.00003739e-01, 3.00002587e-01,\n",
              "        4.00001434e-01, 5.00000281e-01, 5.99999128e-01, 6.99997976e-01,\n",
              "        7.99996823e-01, 8.99995670e-01, 9.99994517e-01]),\n",
              " <a list of 10 Patch objects>)"
            ]
          },
          "metadata": {},
          "execution_count": 49
        },
        {
          "output_type": "display_data",
          "data": {
            "image/png": "[encoded data removed]",
            "text/plain": [
              "<Figure size 432x288 with 1 Axes>"
            ]
          },
          "metadata": {
            "needs_background": "light"
          }
        }
      ]
    },
    {
      "cell_type": "code",
      "metadata": {
        "id": "T8SCqKVeMhBF",
        "colab": {
          "base_uri": "https://localhost:8080/",
          "height": 373
        },
        "outputId": "d1e6da4e-847c-4aab-d3a4-e694b18529f4"
      },
      "source": [
        "plt.hist(np.random.randn(100000))"
      ],
      "execution_count": null,
      "outputs": [
        {
          "output_type": "execute_result",
          "data": {
            "text/plain": [
              "(array([2.2000e+01, 2.8800e+02, 3.1180e+03, 1.3728e+04, 2.9476e+04,\n",
              "        3.1735e+04, 1.6806e+04, 4.2410e+03, 5.4400e+02, 4.2000e+01]),\n",
              " array([-4.4312527 , -3.56046894, -2.68968518, -1.81890142, -0.94811766,\n",
              "        -0.0773339 ,  0.79344986,  1.66423362,  2.53501738,  3.40580114,\n",
              "         4.2765849 ]),\n",
              " <a list of 10 Patch objects>)"
            ]
          },
          "metadata": {},
          "execution_count": 45
        },
        {
          "output_type": "display_data",
          "data": {
            "image/png": "[encoded data removed]",
            "text/plain": [
              "<Figure size 432x288 with 1 Axes>"
            ]
          },
          "metadata": {
            "needs_background": "light"
          }
        }
      ]
    },
    {
      "cell_type": "markdown",
      "metadata": {
        "id": "LYthn3089aqD"
      },
      "source": [
        "## 보충 코드"
      ]
    },
    {
      "cell_type": "code",
      "metadata": {
        "id": "BUkVDXTJMkwc",
        "colab": {
          "base_uri": "https://localhost:8080/"
        },
        "outputId": "a56650e9-8e8a-4e37-b760-5bcaaae37dae"
      },
      "source": [
        "n1000 = np.random.randint(0,10,1000)\n",
        "n1000\n",
        "# 10개의 레이블로 된 1000개의 값 출력"
      ],
      "execution_count": null,
      "outputs": [
        {
          "output_type": "execute_result",
          "data": {
            "text/plain": [
              "array([1, 3, 8, 2, 6, 0, 4, 4, 0, 3, 3, 6, 7, 6, 7, 1, 6, 8, 2, 5, 0, 2,\n",
              "       5, 9, 9, 9, 3, 0, 5, 2, 3, 3, 9, 0, 6, 6, 1, 6, 5, 6, 2, 0, 1, 8,\n",
              "       0, 4, 8, 2, 7, 8, 0, 6, 4, 0, 5, 7, 1, 2, 0, 8, 9, 5, 6, 6, 3, 2,\n",
              "       4, 1, 8, 6, 2, 9, 5, 1, 6, 9, 6, 0, 3, 9, 7, 9, 0, 6, 8, 2, 9, 8,\n",
              "       1, 3, 4, 4, 1, 1, 5, 9, 6, 8, 1, 9, 0, 0, 0, 2, 8, 1, 0, 8, 1, 6,\n",
              "       0, 8, 8, 0, 8, 9, 3, 3, 0, 7, 4, 2, 1, 6, 9, 2, 3, 4, 9, 9, 7, 2,\n",
              "       0, 1, 6, 8, 7, 9, 7, 1, 3, 2, 7, 2, 8, 7, 6, 3, 5, 0, 4, 5, 9, 6,\n",
              "       5, 1, 6, 5, 0, 8, 8, 3, 7, 5, 2, 9, 5, 0, 4, 9, 6, 2, 6, 1, 4, 7,\n",
              "       3, 7, 0, 5, 2, 8, 9, 5, 0, 6, 0, 1, 3, 4, 6, 0, 7, 4, 3, 3, 3, 2,\n",
              "       1, 3, 8, 1, 9, 8, 8, 4, 6, 3, 6, 9, 5, 8, 9, 0, 7, 6, 4, 8, 4, 5,\n",
              "       5, 6, 7, 3, 8, 9, 1, 1, 8, 1, 9, 4, 8, 9, 3, 1, 6, 4, 9, 9, 5, 0,\n",
              "       7, 6, 6, 7, 2, 1, 1, 5, 9, 2, 1, 9, 1, 4, 0, 3, 9, 6, 5, 5, 4, 7,\n",
              "       5, 1, 2, 2, 1, 1, 1, 9, 4, 8, 9, 2, 5, 7, 1, 1, 7, 0, 1, 6, 8, 6,\n",
              "       7, 7, 2, 5, 4, 2, 1, 9, 6, 3, 4, 5, 6, 3, 7, 8, 4, 1, 9, 4, 7, 3,\n",
              "       2, 7, 4, 4, 8, 0, 7, 7, 8, 5, 0, 0, 9, 8, 7, 8, 2, 4, 6, 0, 7, 8,\n",
              "       5, 4, 3, 9, 5, 8, 3, 7, 6, 3, 9, 1, 5, 2, 6, 8, 1, 9, 9, 9, 5, 7,\n",
              "       6, 4, 3, 8, 7, 9, 9, 4, 7, 7, 4, 6, 2, 7, 9, 3, 0, 7, 5, 7, 0, 3,\n",
              "       1, 0, 8, 2, 4, 3, 5, 9, 3, 4, 3, 3, 7, 6, 4, 8, 8, 1, 1, 5, 0, 9,\n",
              "       4, 6, 3, 2, 3, 0, 5, 0, 2, 2, 8, 8, 0, 8, 7, 1, 6, 6, 2, 2, 1, 3,\n",
              "       9, 5, 5, 2, 1, 6, 2, 9, 5, 1, 4, 3, 3, 1, 5, 4, 3, 9, 3, 7, 8, 4,\n",
              "       3, 2, 9, 9, 4, 9, 5, 3, 4, 4, 9, 1, 3, 1, 8, 2, 8, 1, 6, 9, 1, 1,\n",
              "       1, 4, 9, 4, 7, 0, 1, 7, 7, 6, 2, 9, 2, 2, 7, 1, 6, 7, 6, 2, 1, 8,\n",
              "       3, 0, 8, 9, 7, 9, 2, 3, 1, 9, 3, 5, 4, 3, 2, 6, 0, 9, 8, 0, 8, 4,\n",
              "       3, 6, 8, 4, 2, 4, 5, 7, 2, 3, 1, 9, 6, 1, 6, 5, 0, 7, 7, 5, 9, 1,\n",
              "       0, 3, 9, 8, 3, 2, 1, 1, 8, 6, 1, 0, 0, 3, 8, 6, 2, 8, 1, 8, 2, 9,\n",
              "       7, 8, 9, 0, 1, 1, 1, 2, 8, 7, 6, 1, 8, 1, 7, 4, 8, 8, 4, 0, 7, 9,\n",
              "       2, 0, 6, 8, 5, 7, 9, 3, 5, 0, 3, 0, 8, 4, 8, 3, 0, 9, 6, 3, 3, 0,\n",
              "       6, 5, 2, 5, 1, 1, 8, 9, 4, 0, 9, 8, 4, 7, 5, 7, 4, 3, 1, 9, 1, 8,\n",
              "       0, 6, 5, 6, 0, 4, 6, 4, 1, 0, 9, 4, 3, 9, 8, 3, 7, 7, 3, 2, 4, 7,\n",
              "       7, 9, 6, 9, 7, 9, 1, 0, 1, 9, 8, 9, 8, 1, 7, 4, 1, 8, 0, 2, 6, 4,\n",
              "       5, 6, 0, 6, 9, 4, 7, 1, 8, 5, 8, 5, 5, 0, 7, 8, 5, 0, 7, 8, 6, 0,\n",
              "       0, 9, 4, 5, 4, 1, 3, 4, 6, 9, 9, 0, 4, 1, 1, 1, 9, 6, 6, 1, 3, 3,\n",
              "       6, 4, 4, 1, 4, 3, 5, 4, 0, 1, 1, 1, 7, 8, 2, 5, 2, 3, 0, 7, 3, 9,\n",
              "       4, 1, 6, 4, 6, 1, 8, 1, 0, 2, 1, 8, 5, 9, 5, 8, 8, 1, 5, 0, 5, 0,\n",
              "       3, 6, 5, 0, 5, 4, 2, 8, 5, 3, 9, 7, 0, 0, 2, 5, 3, 3, 2, 1, 2, 2,\n",
              "       3, 2, 4, 5, 3, 1, 2, 3, 8, 9, 3, 1, 7, 1, 0, 1, 8, 2, 0, 6, 4, 9,\n",
              "       1, 7, 3, 1, 3, 9, 3, 2, 7, 3, 1, 3, 8, 3, 6, 4, 7, 5, 7, 2, 2, 1,\n",
              "       3, 9, 2, 5, 7, 0, 6, 6, 1, 0, 9, 6, 5, 7, 6, 6, 7, 1, 7, 7, 3, 9,\n",
              "       8, 7, 9, 7, 1, 6, 8, 0, 4, 3, 8, 6, 9, 9, 9, 6, 4, 4, 7, 0, 2, 7,\n",
              "       4, 3, 0, 3, 0, 5, 9, 1, 2, 1, 3, 4, 2, 9, 3, 9, 1, 1, 6, 4, 8, 3,\n",
              "       1, 0, 1, 7, 0, 8, 4, 9, 7, 9, 1, 9, 8, 8, 1, 4, 1, 1, 5, 0, 4, 8,\n",
              "       7, 4, 9, 5, 0, 2, 2, 1, 9, 1, 8, 3, 9, 3, 6, 9, 8, 4, 4, 5, 8, 4,\n",
              "       7, 8, 2, 4, 1, 5, 5, 1, 8, 8, 8, 0, 0, 5, 3, 9, 5, 4, 1, 1, 2, 9,\n",
              "       3, 5, 2, 3, 1, 9, 7, 9, 3, 4, 0, 1, 8, 1, 7, 5, 2, 4, 9, 1, 8, 3,\n",
              "       1, 1, 0, 2, 1, 0, 9, 6, 5, 6, 9, 6, 5, 8, 1, 7, 6, 3, 6, 4, 6, 6,\n",
              "       7, 0, 3, 2, 3, 7, 3, 3, 3, 7])"
            ]
          },
          "metadata": {},
          "execution_count": 31
        }
      ]
    },
    {
      "cell_type": "code",
      "metadata": {
        "id": "xza_yV8nMshU"
      },
      "source": [
        "value, count= np.unique(n1000, return_counts=True)"
      ],
      "execution_count": null,
      "outputs": []
    },
    {
      "cell_type": "code",
      "metadata": {
        "id": "al1pM1aK9Vk7",
        "colab": {
          "base_uri": "https://localhost:8080/"
        },
        "outputId": "638bc4f7-d05f-485c-8ca9-be3d514592c7"
      },
      "source": [
        "value, count\n",
        "# value 중복 안되는 값\n",
        "# count 빈도 출력"
      ],
      "execution_count": null,
      "outputs": [
        {
          "output_type": "execute_result",
          "data": {
            "text/plain": [
              "(array([0, 1, 2, 3, 4, 5, 6, 7, 8, 9]),\n",
              " array([ 95, 130,  83, 107,  94,  83,  96,  94, 104, 114]))"
            ]
          },
          "metadata": {},
          "execution_count": 34
        }
      ]
    }
  ]
}